{
  "nbformat": 4,
  "nbformat_minor": 0,
  "metadata": {
    "colab": {
      "name": "BART_Project .ipynb",
      "provenance": [],
      "collapsed_sections": [],
      "machine_shape": "hm",
      "include_colab_link": true
    },
    "kernelspec": {
      "display_name": "Python 3",
      "language": "python",
      "name": "python3"
    },
    "language_info": {
      "codemirror_mode": {
        "name": "ipython",
        "version": 3
      },
      "file_extension": ".py",
      "mimetype": "text/x-python",
      "name": "python",
      "nbconvert_exporter": "python",
      "pygments_lexer": "ipython3",
      "version": "3.8.3"
    }
  },
  "cells": [
    {
      "cell_type": "markdown",
      "metadata": {
        "id": "view-in-github",
        "colab_type": "text"
      },
      "source": [
        "<a href=\"https://colab.research.google.com/github/kvan493/BART_project/blob/master/BART_Project_.ipynb\" target=\"_parent\"><img src=\"https://colab.research.google.com/assets/colab-badge.svg\" alt=\"Open In Colab\"/></a>"
      ]
    },
    {
      "cell_type": "markdown",
      "metadata": {
        "id": "ACmb5Q8O28PU"
      },
      "source": [
        "# Bay Area Rapid Transport project"
      ]
    },
    {
      "cell_type": "code",
      "metadata": {
        "id": "mvL0IWBg-KKW"
      },
      "source": [
        "import numpy as np\n",
        "import pandas as pd\n",
        "import matplotlib.pyplot as plt\n",
        "import seaborn as sns\n",
        "import pickle"
      ],
      "execution_count": 1,
      "outputs": []
    },
    {
      "cell_type": "markdown",
      "metadata": {
        "id": "lXmb8XZ128PW"
      },
      "source": [
        "## Importing station info"
      ]
    },
    {
      "cell_type": "code",
      "metadata": {
        "colab": {
          "base_uri": "https://localhost:8080/"
        },
        "id": "15tdfCh_CQPM",
        "outputId": "24906d59-8925-4108-b435-581e7e14099c"
      },
      "source": [
        "#Importing station dataframe\n",
        "station_df = pd.read_csv('station_info.csv')\n",
        "station_df.info()"
      ],
      "execution_count": 2,
      "outputs": [
        {
          "output_type": "stream",
          "text": [
            "<class 'pandas.core.frame.DataFrame'>\n",
            "RangeIndex: 46 entries, 0 to 45\n",
            "Data columns (total 4 columns):\n",
            " #   Column        Non-Null Count  Dtype \n",
            "---  ------        --------------  ----- \n",
            " 0   Abbreviation  46 non-null     object\n",
            " 1   Description   46 non-null     object\n",
            " 2   Location      46 non-null     object\n",
            " 3   Name          46 non-null     object\n",
            "dtypes: object(4)\n",
            "memory usage: 1.6+ KB\n"
          ],
          "name": "stdout"
        }
      ]
    },
    {
      "cell_type": "code",
      "metadata": {
        "colab": {
          "base_uri": "https://localhost:8080/",
          "height": 198
        },
        "id": "vYma7BFHCbqC",
        "outputId": "39894c48-c6ab-4f7d-a725-cc2035f862c7"
      },
      "source": [
        "station_df.head()"
      ],
      "execution_count": 3,
      "outputs": [
        {
          "output_type": "execute_result",
          "data": {
            "text/html": [
              "<div>\n",
              "<style scoped>\n",
              "    .dataframe tbody tr th:only-of-type {\n",
              "        vertical-align: middle;\n",
              "    }\n",
              "\n",
              "    .dataframe tbody tr th {\n",
              "        vertical-align: top;\n",
              "    }\n",
              "\n",
              "    .dataframe thead th {\n",
              "        text-align: right;\n",
              "    }\n",
              "</style>\n",
              "<table border=\"1\" class=\"dataframe\">\n",
              "  <thead>\n",
              "    <tr style=\"text-align: right;\">\n",
              "      <th></th>\n",
              "      <th>Abbreviation</th>\n",
              "      <th>Description</th>\n",
              "      <th>Location</th>\n",
              "      <th>Name</th>\n",
              "    </tr>\n",
              "  </thead>\n",
              "  <tbody>\n",
              "    <tr>\n",
              "      <th>0</th>\n",
              "      <td>12TH</td>\n",
              "      <td>1245 Broadway, Oakland CA 94612&lt;br /&gt;12th St. ...</td>\n",
              "      <td>-122.271450,37.803768,0</td>\n",
              "      <td>12th St. Oakland City Center (12TH)</td>\n",
              "    </tr>\n",
              "    <tr>\n",
              "      <th>1</th>\n",
              "      <td>16TH</td>\n",
              "      <td>2000 Mission Street, San Francisco CA 94110&lt;br...</td>\n",
              "      <td>-122.419694,37.765062,0</td>\n",
              "      <td>16th St. Mission (16TH)</td>\n",
              "    </tr>\n",
              "    <tr>\n",
              "      <th>2</th>\n",
              "      <td>19TH</td>\n",
              "      <td>1900 Broadway, Oakland CA 94612&lt;br /&gt;19th Stre...</td>\n",
              "      <td>-122.268602,37.808350,0</td>\n",
              "      <td>19th St. Oakland (19TH)</td>\n",
              "    </tr>\n",
              "    <tr>\n",
              "      <th>3</th>\n",
              "      <td>24TH</td>\n",
              "      <td>2800 Mission Street, San Francisco CA 94110&lt;br...</td>\n",
              "      <td>-122.418143,37.752470,0</td>\n",
              "      <td>24th St. Mission (24TH)</td>\n",
              "    </tr>\n",
              "    <tr>\n",
              "      <th>4</th>\n",
              "      <td>ASHB</td>\n",
              "      <td>3100 Adeline Street, Berkeley CA 94703&lt;br /&gt;As...</td>\n",
              "      <td>-122.270062,37.852803,0</td>\n",
              "      <td>Ashby (ASHB)</td>\n",
              "    </tr>\n",
              "  </tbody>\n",
              "</table>\n",
              "</div>"
            ],
            "text/plain": [
              "  Abbreviation  ...                                 Name\n",
              "0         12TH  ...  12th St. Oakland City Center (12TH)\n",
              "1         16TH  ...              16th St. Mission (16TH)\n",
              "2         19TH  ...              19th St. Oakland (19TH)\n",
              "3         24TH  ...              24th St. Mission (24TH)\n",
              "4         ASHB  ...                         Ashby (ASHB)\n",
              "\n",
              "[5 rows x 4 columns]"
            ]
          },
          "metadata": {
            "tags": []
          },
          "execution_count": 3
        }
      ]
    },
    {
      "cell_type": "markdown",
      "metadata": {
        "id": "ifq9hD5C28Pc"
      },
      "source": [
        "## Importing 2016 BART data"
      ]
    },
    {
      "cell_type": "code",
      "metadata": {
        "colab": {
          "base_uri": "https://localhost:8080/"
        },
        "id": "amD7YpucCfSs",
        "outputId": "713b80b2-4a6e-4d0a-b3fc-5d5b1dba1c9c"
      },
      "source": [
        "#Importing BART 2016 dataframe\n",
        "df_2016 = pd.read_csv('date-hour-soo-dest-2016.csv')\n",
        "df_2016.info()"
      ],
      "execution_count": 4,
      "outputs": [
        {
          "output_type": "stream",
          "text": [
            "<class 'pandas.core.frame.DataFrame'>\n",
            "RangeIndex: 9971582 entries, 0 to 9971581\n",
            "Data columns (total 4 columns):\n",
            " #   Column       Dtype \n",
            "---  ------       ----- \n",
            " 0   Origin       object\n",
            " 1   Destination  object\n",
            " 2   Throughput   int64 \n",
            " 3   DateTime     object\n",
            "dtypes: int64(1), object(3)\n",
            "memory usage: 304.3+ MB\n"
          ],
          "name": "stdout"
        }
      ]
    },
    {
      "cell_type": "code",
      "metadata": {
        "colab": {
          "base_uri": "https://localhost:8080/",
          "height": 198
        },
        "id": "KPNswzNXCtgs",
        "outputId": "d3741f1f-46e5-4879-e61c-ecbe23970bb0"
      },
      "source": [
        "df_2016.head()"
      ],
      "execution_count": 5,
      "outputs": [
        {
          "output_type": "execute_result",
          "data": {
            "text/html": [
              "<div>\n",
              "<style scoped>\n",
              "    .dataframe tbody tr th:only-of-type {\n",
              "        vertical-align: middle;\n",
              "    }\n",
              "\n",
              "    .dataframe tbody tr th {\n",
              "        vertical-align: top;\n",
              "    }\n",
              "\n",
              "    .dataframe thead th {\n",
              "        text-align: right;\n",
              "    }\n",
              "</style>\n",
              "<table border=\"1\" class=\"dataframe\">\n",
              "  <thead>\n",
              "    <tr style=\"text-align: right;\">\n",
              "      <th></th>\n",
              "      <th>Origin</th>\n",
              "      <th>Destination</th>\n",
              "      <th>Throughput</th>\n",
              "      <th>DateTime</th>\n",
              "    </tr>\n",
              "  </thead>\n",
              "  <tbody>\n",
              "    <tr>\n",
              "      <th>0</th>\n",
              "      <td>12TH</td>\n",
              "      <td>12TH</td>\n",
              "      <td>1</td>\n",
              "      <td>2016-01-01 00:00:00</td>\n",
              "    </tr>\n",
              "    <tr>\n",
              "      <th>1</th>\n",
              "      <td>12TH</td>\n",
              "      <td>16TH</td>\n",
              "      <td>1</td>\n",
              "      <td>2016-01-01 00:00:00</td>\n",
              "    </tr>\n",
              "    <tr>\n",
              "      <th>2</th>\n",
              "      <td>12TH</td>\n",
              "      <td>24TH</td>\n",
              "      <td>4</td>\n",
              "      <td>2016-01-01 00:00:00</td>\n",
              "    </tr>\n",
              "    <tr>\n",
              "      <th>3</th>\n",
              "      <td>12TH</td>\n",
              "      <td>ASHB</td>\n",
              "      <td>4</td>\n",
              "      <td>2016-01-01 00:00:00</td>\n",
              "    </tr>\n",
              "    <tr>\n",
              "      <th>4</th>\n",
              "      <td>12TH</td>\n",
              "      <td>BALB</td>\n",
              "      <td>2</td>\n",
              "      <td>2016-01-01 00:00:00</td>\n",
              "    </tr>\n",
              "  </tbody>\n",
              "</table>\n",
              "</div>"
            ],
            "text/plain": [
              "  Origin Destination  Throughput             DateTime\n",
              "0   12TH        12TH           1  2016-01-01 00:00:00\n",
              "1   12TH        16TH           1  2016-01-01 00:00:00\n",
              "2   12TH        24TH           4  2016-01-01 00:00:00\n",
              "3   12TH        ASHB           4  2016-01-01 00:00:00\n",
              "4   12TH        BALB           2  2016-01-01 00:00:00"
            ]
          },
          "metadata": {
            "tags": []
          },
          "execution_count": 5
        }
      ]
    },
    {
      "cell_type": "markdown",
      "metadata": {
        "id": "1LcCd6xR28Pd"
      },
      "source": [
        "## Importing 2017 BART data"
      ]
    },
    {
      "cell_type": "code",
      "metadata": {
        "colab": {
          "base_uri": "https://localhost:8080/"
        },
        "id": "CeF1-1peEp1Y",
        "outputId": "ad88b57a-35c3-4e12-8c0a-ee04a4c9668e"
      },
      "source": [
        "#Importing BART 2017 dataframe\n",
        "df_2017 = pd.read_csv('date-hour-soo-dest-2017.csv')\n",
        "df_2017.info()"
      ],
      "execution_count": 6,
      "outputs": [
        {
          "output_type": "stream",
          "text": [
            "<class 'pandas.core.frame.DataFrame'>\n",
            "RangeIndex: 3313625 entries, 0 to 3313624\n",
            "Data columns (total 4 columns):\n",
            " #   Column       Dtype \n",
            "---  ------       ----- \n",
            " 0   Origin       object\n",
            " 1   Destination  object\n",
            " 2   Throughput   int64 \n",
            " 3   DateTime     object\n",
            "dtypes: int64(1), object(3)\n",
            "memory usage: 101.1+ MB\n"
          ],
          "name": "stdout"
        }
      ]
    },
    {
      "cell_type": "code",
      "metadata": {
        "colab": {
          "base_uri": "https://localhost:8080/",
          "height": 198
        },
        "id": "quod8BOmE6ID",
        "outputId": "f84c3b2d-4376-4afc-b192-ea40dc6e2d7d"
      },
      "source": [
        "df_2017.head()"
      ],
      "execution_count": 7,
      "outputs": [
        {
          "output_type": "execute_result",
          "data": {
            "text/html": [
              "<div>\n",
              "<style scoped>\n",
              "    .dataframe tbody tr th:only-of-type {\n",
              "        vertical-align: middle;\n",
              "    }\n",
              "\n",
              "    .dataframe tbody tr th {\n",
              "        vertical-align: top;\n",
              "    }\n",
              "\n",
              "    .dataframe thead th {\n",
              "        text-align: right;\n",
              "    }\n",
              "</style>\n",
              "<table border=\"1\" class=\"dataframe\">\n",
              "  <thead>\n",
              "    <tr style=\"text-align: right;\">\n",
              "      <th></th>\n",
              "      <th>Origin</th>\n",
              "      <th>Destination</th>\n",
              "      <th>Throughput</th>\n",
              "      <th>DateTime</th>\n",
              "    </tr>\n",
              "  </thead>\n",
              "  <tbody>\n",
              "    <tr>\n",
              "      <th>0</th>\n",
              "      <td>12TH</td>\n",
              "      <td>19TH</td>\n",
              "      <td>1</td>\n",
              "      <td>2017-01-01 00:00:00</td>\n",
              "    </tr>\n",
              "    <tr>\n",
              "      <th>1</th>\n",
              "      <td>12TH</td>\n",
              "      <td>24TH</td>\n",
              "      <td>2</td>\n",
              "      <td>2017-01-01 00:00:00</td>\n",
              "    </tr>\n",
              "    <tr>\n",
              "      <th>2</th>\n",
              "      <td>12TH</td>\n",
              "      <td>BAYF</td>\n",
              "      <td>1</td>\n",
              "      <td>2017-01-01 00:00:00</td>\n",
              "    </tr>\n",
              "    <tr>\n",
              "      <th>3</th>\n",
              "      <td>12TH</td>\n",
              "      <td>CIVC</td>\n",
              "      <td>5</td>\n",
              "      <td>2017-01-01 00:00:00</td>\n",
              "    </tr>\n",
              "    <tr>\n",
              "      <th>4</th>\n",
              "      <td>12TH</td>\n",
              "      <td>COLS</td>\n",
              "      <td>2</td>\n",
              "      <td>2017-01-01 00:00:00</td>\n",
              "    </tr>\n",
              "  </tbody>\n",
              "</table>\n",
              "</div>"
            ],
            "text/plain": [
              "  Origin Destination  Throughput             DateTime\n",
              "0   12TH        19TH           1  2017-01-01 00:00:00\n",
              "1   12TH        24TH           2  2017-01-01 00:00:00\n",
              "2   12TH        BAYF           1  2017-01-01 00:00:00\n",
              "3   12TH        CIVC           5  2017-01-01 00:00:00\n",
              "4   12TH        COLS           2  2017-01-01 00:00:00"
            ]
          },
          "metadata": {
            "tags": []
          },
          "execution_count": 7
        }
      ]
    },
    {
      "cell_type": "markdown",
      "metadata": {
        "id": "WItM_QlP28Pd"
      },
      "source": [
        "### Combining 2016 and 2017 BART data into one dataframe"
      ]
    },
    {
      "cell_type": "code",
      "metadata": {
        "colab": {
          "base_uri": "https://localhost:8080/",
          "height": 198
        },
        "id": "I3lr-dFIFBnm",
        "outputId": "52120b25-db94-4dc7-dccf-60032b1c08cd"
      },
      "source": [
        "#Append BART 2016 and 2017 dataframe\n",
        "df = df_2016.append(df_2017, ignore_index = True)\n",
        "df.head()"
      ],
      "execution_count": 8,
      "outputs": [
        {
          "output_type": "execute_result",
          "data": {
            "text/html": [
              "<div>\n",
              "<style scoped>\n",
              "    .dataframe tbody tr th:only-of-type {\n",
              "        vertical-align: middle;\n",
              "    }\n",
              "\n",
              "    .dataframe tbody tr th {\n",
              "        vertical-align: top;\n",
              "    }\n",
              "\n",
              "    .dataframe thead th {\n",
              "        text-align: right;\n",
              "    }\n",
              "</style>\n",
              "<table border=\"1\" class=\"dataframe\">\n",
              "  <thead>\n",
              "    <tr style=\"text-align: right;\">\n",
              "      <th></th>\n",
              "      <th>Origin</th>\n",
              "      <th>Destination</th>\n",
              "      <th>Throughput</th>\n",
              "      <th>DateTime</th>\n",
              "    </tr>\n",
              "  </thead>\n",
              "  <tbody>\n",
              "    <tr>\n",
              "      <th>0</th>\n",
              "      <td>12TH</td>\n",
              "      <td>12TH</td>\n",
              "      <td>1</td>\n",
              "      <td>2016-01-01 00:00:00</td>\n",
              "    </tr>\n",
              "    <tr>\n",
              "      <th>1</th>\n",
              "      <td>12TH</td>\n",
              "      <td>16TH</td>\n",
              "      <td>1</td>\n",
              "      <td>2016-01-01 00:00:00</td>\n",
              "    </tr>\n",
              "    <tr>\n",
              "      <th>2</th>\n",
              "      <td>12TH</td>\n",
              "      <td>24TH</td>\n",
              "      <td>4</td>\n",
              "      <td>2016-01-01 00:00:00</td>\n",
              "    </tr>\n",
              "    <tr>\n",
              "      <th>3</th>\n",
              "      <td>12TH</td>\n",
              "      <td>ASHB</td>\n",
              "      <td>4</td>\n",
              "      <td>2016-01-01 00:00:00</td>\n",
              "    </tr>\n",
              "    <tr>\n",
              "      <th>4</th>\n",
              "      <td>12TH</td>\n",
              "      <td>BALB</td>\n",
              "      <td>2</td>\n",
              "      <td>2016-01-01 00:00:00</td>\n",
              "    </tr>\n",
              "  </tbody>\n",
              "</table>\n",
              "</div>"
            ],
            "text/plain": [
              "  Origin Destination  Throughput             DateTime\n",
              "0   12TH        12TH           1  2016-01-01 00:00:00\n",
              "1   12TH        16TH           1  2016-01-01 00:00:00\n",
              "2   12TH        24TH           4  2016-01-01 00:00:00\n",
              "3   12TH        ASHB           4  2016-01-01 00:00:00\n",
              "4   12TH        BALB           2  2016-01-01 00:00:00"
            ]
          },
          "metadata": {
            "tags": []
          },
          "execution_count": 8
        }
      ]
    },
    {
      "cell_type": "code",
      "metadata": {
        "colab": {
          "base_uri": "https://localhost:8080/"
        },
        "id": "jI1XBJzR28Pe",
        "outputId": "f3671061-d8bb-4961-f629-7d036cc76371"
      },
      "source": [
        "df.info()"
      ],
      "execution_count": 9,
      "outputs": [
        {
          "output_type": "stream",
          "text": [
            "<class 'pandas.core.frame.DataFrame'>\n",
            "RangeIndex: 13285207 entries, 0 to 13285206\n",
            "Data columns (total 4 columns):\n",
            " #   Column       Dtype \n",
            "---  ------       ----- \n",
            " 0   Origin       object\n",
            " 1   Destination  object\n",
            " 2   Throughput   int64 \n",
            " 3   DateTime     object\n",
            "dtypes: int64(1), object(3)\n",
            "memory usage: 405.4+ MB\n"
          ],
          "name": "stdout"
        }
      ]
    },
    {
      "cell_type": "code",
      "metadata": {
        "id": "fLDlaCeo28Pe"
      },
      "source": [
        "#Changing dtype for DateTime attribute from object to actual datetime\n",
        "df['DateTime'] = pd.to_datetime(df['DateTime'], format = '%Y-%m-%d %H:%M:%S')"
      ],
      "execution_count": 10,
      "outputs": []
    },
    {
      "cell_type": "code",
      "metadata": {
        "colab": {
          "base_uri": "https://localhost:8080/",
          "height": 108
        },
        "id": "ZvmUNy8T28Pf",
        "outputId": "7df7ab47-60a9-4d6d-c467-aab5db4b7a05"
      },
      "source": [
        "station_df.head(2)"
      ],
      "execution_count": 11,
      "outputs": [
        {
          "output_type": "execute_result",
          "data": {
            "text/html": [
              "<div>\n",
              "<style scoped>\n",
              "    .dataframe tbody tr th:only-of-type {\n",
              "        vertical-align: middle;\n",
              "    }\n",
              "\n",
              "    .dataframe tbody tr th {\n",
              "        vertical-align: top;\n",
              "    }\n",
              "\n",
              "    .dataframe thead th {\n",
              "        text-align: right;\n",
              "    }\n",
              "</style>\n",
              "<table border=\"1\" class=\"dataframe\">\n",
              "  <thead>\n",
              "    <tr style=\"text-align: right;\">\n",
              "      <th></th>\n",
              "      <th>Abbreviation</th>\n",
              "      <th>Description</th>\n",
              "      <th>Location</th>\n",
              "      <th>Name</th>\n",
              "    </tr>\n",
              "  </thead>\n",
              "  <tbody>\n",
              "    <tr>\n",
              "      <th>0</th>\n",
              "      <td>12TH</td>\n",
              "      <td>1245 Broadway, Oakland CA 94612&lt;br /&gt;12th St. ...</td>\n",
              "      <td>-122.271450,37.803768,0</td>\n",
              "      <td>12th St. Oakland City Center (12TH)</td>\n",
              "    </tr>\n",
              "    <tr>\n",
              "      <th>1</th>\n",
              "      <td>16TH</td>\n",
              "      <td>2000 Mission Street, San Francisco CA 94110&lt;br...</td>\n",
              "      <td>-122.419694,37.765062,0</td>\n",
              "      <td>16th St. Mission (16TH)</td>\n",
              "    </tr>\n",
              "  </tbody>\n",
              "</table>\n",
              "</div>"
            ],
            "text/plain": [
              "  Abbreviation  ...                                 Name\n",
              "0         12TH  ...  12th St. Oakland City Center (12TH)\n",
              "1         16TH  ...              16th St. Mission (16TH)\n",
              "\n",
              "[2 rows x 4 columns]"
            ]
          },
          "metadata": {
            "tags": []
          },
          "execution_count": 11
        }
      ]
    },
    {
      "cell_type": "code",
      "metadata": {
        "scrolled": true,
        "colab": {
          "base_uri": "https://localhost:8080/",
          "height": 198
        },
        "id": "VQinp3rn28Pf",
        "outputId": "2f2f9984-f7a7-4588-806f-2efd6af38282"
      },
      "source": [
        "#Removing <br /> from Description attribute\n",
        "station_df['Description'].replace('(<br />)', ' ', regex = True, inplace = True)\n",
        "station_df.head()"
      ],
      "execution_count": 12,
      "outputs": [
        {
          "output_type": "execute_result",
          "data": {
            "text/html": [
              "<div>\n",
              "<style scoped>\n",
              "    .dataframe tbody tr th:only-of-type {\n",
              "        vertical-align: middle;\n",
              "    }\n",
              "\n",
              "    .dataframe tbody tr th {\n",
              "        vertical-align: top;\n",
              "    }\n",
              "\n",
              "    .dataframe thead th {\n",
              "        text-align: right;\n",
              "    }\n",
              "</style>\n",
              "<table border=\"1\" class=\"dataframe\">\n",
              "  <thead>\n",
              "    <tr style=\"text-align: right;\">\n",
              "      <th></th>\n",
              "      <th>Abbreviation</th>\n",
              "      <th>Description</th>\n",
              "      <th>Location</th>\n",
              "      <th>Name</th>\n",
              "    </tr>\n",
              "  </thead>\n",
              "  <tbody>\n",
              "    <tr>\n",
              "      <th>0</th>\n",
              "      <td>12TH</td>\n",
              "      <td>1245 Broadway, Oakland CA 94612 12th St. Oakla...</td>\n",
              "      <td>-122.271450,37.803768,0</td>\n",
              "      <td>12th St. Oakland City Center (12TH)</td>\n",
              "    </tr>\n",
              "    <tr>\n",
              "      <th>1</th>\n",
              "      <td>16TH</td>\n",
              "      <td>2000 Mission Street, San Francisco CA 94110 \"T...</td>\n",
              "      <td>-122.419694,37.765062,0</td>\n",
              "      <td>16th St. Mission (16TH)</td>\n",
              "    </tr>\n",
              "    <tr>\n",
              "      <th>2</th>\n",
              "      <td>19TH</td>\n",
              "      <td>1900 Broadway, Oakland CA 94612 19th Street St...</td>\n",
              "      <td>-122.268602,37.808350,0</td>\n",
              "      <td>19th St. Oakland (19TH)</td>\n",
              "    </tr>\n",
              "    <tr>\n",
              "      <th>3</th>\n",
              "      <td>24TH</td>\n",
              "      <td>2800 Mission Street, San Francisco CA 94110 \"T...</td>\n",
              "      <td>-122.418143,37.752470,0</td>\n",
              "      <td>24th St. Mission (24TH)</td>\n",
              "    </tr>\n",
              "    <tr>\n",
              "      <th>4</th>\n",
              "      <td>ASHB</td>\n",
              "      <td>3100 Adeline Street, Berkeley CA 94703 Ashby S...</td>\n",
              "      <td>-122.270062,37.852803,0</td>\n",
              "      <td>Ashby (ASHB)</td>\n",
              "    </tr>\n",
              "  </tbody>\n",
              "</table>\n",
              "</div>"
            ],
            "text/plain": [
              "  Abbreviation  ...                                 Name\n",
              "0         12TH  ...  12th St. Oakland City Center (12TH)\n",
              "1         16TH  ...              16th St. Mission (16TH)\n",
              "2         19TH  ...              19th St. Oakland (19TH)\n",
              "3         24TH  ...              24th St. Mission (24TH)\n",
              "4         ASHB  ...                         Ashby (ASHB)\n",
              "\n",
              "[5 rows x 4 columns]"
            ]
          },
          "metadata": {
            "tags": []
          },
          "execution_count": 12
        }
      ]
    },
    {
      "cell_type": "code",
      "metadata": {
        "colab": {
          "base_uri": "https://localhost:8080/"
        },
        "id": "M-RAEUXr28Pf",
        "outputId": "e86de629-71d5-4568-d060-83786bc9a3a3"
      },
      "source": [
        "#Viewing the first two Description in full\n",
        "print(station_df['Description'][0])\n",
        "print(station_df['Description'][1])"
      ],
      "execution_count": 13,
      "outputs": [
        {
          "output_type": "stream",
          "text": [
            "1245 Broadway, Oakland CA 94612 12th St. Oakland City Center Station is in the heart of Downtown Oakland, near historic Old Oakland and Oakland's Chinatown.\n",
            "2000 Mission Street, San Francisco CA 94110 \"The Mission\" refers to the San Francisco de Asis Mission, also known as Mission Dolores, which was founded 1776. Today the neighborhood is host to an eclectic mix of restaurants, markets, performance spaces, shops, and nightspots.\n"
          ],
          "name": "stdout"
        }
      ]
    },
    {
      "cell_type": "code",
      "metadata": {
        "colab": {
          "base_uri": "https://localhost:8080/"
        },
        "id": "ZwjnAG3D28Pf",
        "outputId": "c1d18bac-d12b-4f0b-d219-2499cab82cab"
      },
      "source": [
        "#Creating new attribute called City \n",
        "station_df['City'] = station_df['Description'].apply(lambda x: x.split(',')[1])\n",
        "station_df['City'].replace('CA(.*)$', '', regex = True, inplace = True)\n",
        "station_df['City'].unique()"
      ],
      "execution_count": 14,
      "outputs": [
        {
          "output_type": "execute_result",
          "data": {
            "text/plain": [
              "array([' Oakland ', ' San Francisco ', ' Berkeley ', ' San Leandro ',\n",
              "       ' Castro Valley ', ' Colma ', ' Concord ', ' Daly City ',\n",
              "       ' El Cerrito ', ' Pleasanton ', ' Fremont ', ' Hayward ',\n",
              "       ' Lafayette ', ' Millbrae ', ' Orinda ', ' Walnut Creek ',\n",
              "       ' Pittsburg ', ' Richmond ', ' San Bruno ', ' Level 3',\n",
              "       ' South San Francisco ', ' Union City ', ' Fremont', ' Dublin '],\n",
              "      dtype=object)"
            ]
          },
          "metadata": {
            "tags": []
          },
          "execution_count": 14
        }
      ]
    },
    {
      "cell_type": "code",
      "metadata": {
        "colab": {
          "base_uri": "https://localhost:8080/",
          "height": 78
        },
        "id": "zpFeYcTJ28Pg",
        "outputId": "2e492524-a1bb-4ddf-9bee-21389b5aa586"
      },
      "source": [
        "#Checking out Level 3\n",
        "station_df[station_df['City'] == ' Level 3']"
      ],
      "execution_count": 15,
      "outputs": [
        {
          "output_type": "execute_result",
          "data": {
            "text/html": [
              "<div>\n",
              "<style scoped>\n",
              "    .dataframe tbody tr th:only-of-type {\n",
              "        vertical-align: middle;\n",
              "    }\n",
              "\n",
              "    .dataframe tbody tr th {\n",
              "        vertical-align: top;\n",
              "    }\n",
              "\n",
              "    .dataframe thead th {\n",
              "        text-align: right;\n",
              "    }\n",
              "</style>\n",
              "<table border=\"1\" class=\"dataframe\">\n",
              "  <thead>\n",
              "    <tr style=\"text-align: right;\">\n",
              "      <th></th>\n",
              "      <th>Abbreviation</th>\n",
              "      <th>Description</th>\n",
              "      <th>Location</th>\n",
              "      <th>Name</th>\n",
              "      <th>City</th>\n",
              "    </tr>\n",
              "  </thead>\n",
              "  <tbody>\n",
              "    <tr>\n",
              "      <th>38</th>\n",
              "      <td>SFIA</td>\n",
              "      <td>International Terminal, Level 3, San Francisco...</td>\n",
              "      <td>-122.392409,37.615966,0</td>\n",
              "      <td>San Francisco Int'l Airport (SFIA)</td>\n",
              "      <td>Level 3</td>\n",
              "    </tr>\n",
              "  </tbody>\n",
              "</table>\n",
              "</div>"
            ],
            "text/plain": [
              "   Abbreviation  ...      City\n",
              "38         SFIA  ...   Level 3\n",
              "\n",
              "[1 rows x 5 columns]"
            ]
          },
          "metadata": {
            "tags": []
          },
          "execution_count": 15
        }
      ]
    },
    {
      "cell_type": "code",
      "metadata": {
        "id": "SEZkOXKd28Pg"
      },
      "source": [
        "#Changing City from Level 3 to San Francsisco\n",
        "station_df['City'].replace(' Level 3', ' San Francisco ', inplace = True)"
      ],
      "execution_count": 16,
      "outputs": []
    },
    {
      "cell_type": "code",
      "metadata": {
        "id": "iNpjazJ428Pg"
      },
      "source": [
        "#Separating attribute Location into attributes for longitude and latitude\n",
        "station_df['Latitude'] = station_df['Location'].apply(lambda x: x.split(',')[0])\n",
        "station_df['Longitude'] = station_df['Location'].apply(lambda x: x.split(',')[1])"
      ],
      "execution_count": 17,
      "outputs": []
    },
    {
      "cell_type": "markdown",
      "metadata": {
        "id": "bQLOCaW428Pg"
      },
      "source": [
        "### Merging station dataframe with main dataframe"
      ]
    },
    {
      "cell_type": "code",
      "metadata": {
        "id": "VYJFBUQd28Pg"
      },
      "source": [
        "#Renaming station dataframe columns to distinguish Origin station info prior to merging to main dataframe\n",
        "origin_df = station_df[['Abbreviation','Name', 'Latitude', 'Longitude', 'City']]\n",
        "origin_df = origin_df.rename(columns = {'Abbreviation': 'Origin', \n",
        "                                        'Name': 'Ori_Name', \n",
        "                                        'Latitude': 'Ori_Latitude', \n",
        "                                        'Longitude': 'Ori_Longitude', \n",
        "                                        'City': 'Ori_City'})"
      ],
      "execution_count": 18,
      "outputs": []
    },
    {
      "cell_type": "code",
      "metadata": {
        "id": "Oinh9isjQCcN"
      },
      "source": [
        "#Renaming Abbreviation, Location and Name columns in order to distinguish Destination stations prior to merging station \n",
        "#dataframe with the main dataframe\n",
        "dest_df = station_df[['Abbreviation','Name', 'Latitude', 'Longitude', 'City']]\n",
        "dest_df = dest_df.rename(columns = {'Abbreviation': 'Destination', \n",
        "                                    'Name': 'Dest_Name', \n",
        "                                    'Latitude': 'Dest_Latitude', \n",
        "                                    'Longitude': 'Dest_Longitude', \n",
        "                                    'City' : 'Dest_ City'})"
      ],
      "execution_count": 19,
      "outputs": []
    },
    {
      "cell_type": "code",
      "metadata": {
        "colab": {
          "base_uri": "https://localhost:8080/"
        },
        "id": "bpxBQ9WR28Pg",
        "outputId": "74991d3b-419b-4ece-cb79-18d5ef3d8dfc"
      },
      "source": [
        "#Checking to see if all Origin and Destination locations match those in station dataframe\n",
        "print(set(df[\"Origin\"].unique()).difference(station_df[\"Abbreviation\"]))\n",
        "print(set(df[\"Destination\"].unique()).difference(station_df[\"Abbreviation\"]))"
      ],
      "execution_count": 20,
      "outputs": [
        {
          "output_type": "stream",
          "text": [
            "{'WSPR'}\n",
            "{'WSPR'}\n"
          ],
          "name": "stdout"
        }
      ]
    },
    {
      "cell_type": "code",
      "metadata": {
        "colab": {
          "base_uri": "https://localhost:8080/"
        },
        "id": "5n7vbEI828Pg",
        "outputId": "98c0a43b-6b31-4e7f-97c9-21aad37d4c9d"
      },
      "source": [
        "#Checking station abbreviation not used in 2016 and 2017 dataframe\n",
        "print(set(station_df[\"Abbreviation\"].unique()).difference(df[\"Origin\"]))"
      ],
      "execution_count": 21,
      "outputs": [
        {
          "output_type": "stream",
          "text": [
            "{'WARM'}\n"
          ],
          "name": "stdout"
        }
      ]
    },
    {
      "cell_type": "code",
      "metadata": {
        "colab": {
          "base_uri": "https://localhost:8080/"
        },
        "id": "0OZUAodd28Ph",
        "outputId": "ff045fe0-dfdd-4391-d467-3fd5e8f9c078"
      },
      "source": [
        "#Listing out all station abbreviation \n",
        "station_df['Abbreviation'].unique()"
      ],
      "execution_count": 22,
      "outputs": [
        {
          "output_type": "execute_result",
          "data": {
            "text/plain": [
              "array(['12TH', '16TH', '19TH', '24TH', 'ASHB', 'BALB', 'BAYF', 'CAST',\n",
              "       'CIVC', 'COLS', 'COLM', 'CONC', 'DALY', 'DBRK', 'DELN', 'DUBL',\n",
              "       'EMBR', 'FRMT', 'FTVL', 'GLEN', 'HAYW', 'LAFY', 'LAKE', 'MCAR',\n",
              "       'MLBR', 'MONT', 'NBRK', 'NCON', 'OAKL', 'ORIN', 'PHIL', 'PITT',\n",
              "       'PLZA', 'POWL', 'RICH', 'ROCK', 'SANL', 'SBRN', 'SFIA', 'SHAY',\n",
              "       'SSAN', 'UCTY', 'WARM', 'WCRK', 'WDUB', 'WOAK'], dtype=object)"
            ]
          },
          "metadata": {
            "tags": []
          },
          "execution_count": 22
        }
      ]
    },
    {
      "cell_type": "markdown",
      "metadata": {
        "id": "i6CeuUwf28Ph"
      },
      "source": [
        "According to the station dataframe, there is not station with the abbreviation \"WSPR\" that was recorded in the 2016 and 2017 dataframes. When I crosschecked the stations and their abbreviation with the BART's website: https://www.bart.gov/stations & https://api.bart.gov/docs/overview/abbrev.aspx, the abbreviation \"WARM\" is indeed the official abbreviation for station in Warm Springs/South Fremont. Therefore, abbreviation \"WSPR\" in the 2016 and 2017 dataframes may mistakenly be recorded in place of \"WARM\". "
      ]
    },
    {
      "cell_type": "code",
      "metadata": {
        "id": "rcjVgPAR28Ph"
      },
      "source": [
        "#Correcting Abbreviation \"WSPR\" to \"WARM\"\n",
        "df['Origin'].replace(\"WSPR\", \"WARM\", inplace = True)\n",
        "df['Destination'].replace(\"WSPR\", \"WARM\", inplace = True)"
      ],
      "execution_count": 23,
      "outputs": []
    },
    {
      "cell_type": "code",
      "metadata": {
        "id": "jHYKTBdAQYK8"
      },
      "source": [
        "#Merging Destination station dataframe with main dataframe for Destination\n",
        "df = df.merge(origin_df, how = 'left', on = 'Origin')"
      ],
      "execution_count": 24,
      "outputs": []
    },
    {
      "cell_type": "code",
      "metadata": {
        "colab": {
          "base_uri": "https://localhost:8080/"
        },
        "id": "bYS6xlLwRQpo",
        "outputId": "cf762e1b-3af1-4545-b944-edde149b3bcb"
      },
      "source": [
        "#Merging Origin station dataframe with main dataframe\n",
        "df = df.merge(dest_df, how = 'left', on = 'Destination')\n",
        "#Checking for nulls in newly merged dataframe\n",
        "df.isnull().sum()"
      ],
      "execution_count": 25,
      "outputs": [
        {
          "output_type": "execute_result",
          "data": {
            "text/plain": [
              "Origin            0\n",
              "Destination       0\n",
              "Throughput        0\n",
              "DateTime          0\n",
              "Ori_Name          0\n",
              "Ori_Latitude      0\n",
              "Ori_Longitude     0\n",
              "Ori_City          0\n",
              "Dest_Name         0\n",
              "Dest_Latitude     0\n",
              "Dest_Longitude    0\n",
              "Dest_ City        0\n",
              "dtype: int64"
            ]
          },
          "metadata": {
            "tags": []
          },
          "execution_count": 25
        }
      ]
    },
    {
      "cell_type": "code",
      "metadata": {
        "colab": {
          "base_uri": "https://localhost:8080/",
          "height": 407
        },
        "id": "ZY-nvLoIIBbX",
        "outputId": "add51f0f-8441-479c-cda8-68d0531f6d12"
      },
      "source": [
        "#Dropping Origin and Destination names since they are repeated information\n",
        "df.drop(['Ori_Name', 'Dest_Name'], axis = 1)"
      ],
      "execution_count": 26,
      "outputs": [
        {
          "output_type": "execute_result",
          "data": {
            "text/html": [
              "<div>\n",
              "<style scoped>\n",
              "    .dataframe tbody tr th:only-of-type {\n",
              "        vertical-align: middle;\n",
              "    }\n",
              "\n",
              "    .dataframe tbody tr th {\n",
              "        vertical-align: top;\n",
              "    }\n",
              "\n",
              "    .dataframe thead th {\n",
              "        text-align: right;\n",
              "    }\n",
              "</style>\n",
              "<table border=\"1\" class=\"dataframe\">\n",
              "  <thead>\n",
              "    <tr style=\"text-align: right;\">\n",
              "      <th></th>\n",
              "      <th>Origin</th>\n",
              "      <th>Destination</th>\n",
              "      <th>Throughput</th>\n",
              "      <th>DateTime</th>\n",
              "      <th>Ori_Latitude</th>\n",
              "      <th>Ori_Longitude</th>\n",
              "      <th>Ori_City</th>\n",
              "      <th>Dest_Latitude</th>\n",
              "      <th>Dest_Longitude</th>\n",
              "      <th>Dest_ City</th>\n",
              "    </tr>\n",
              "  </thead>\n",
              "  <tbody>\n",
              "    <tr>\n",
              "      <th>0</th>\n",
              "      <td>12TH</td>\n",
              "      <td>12TH</td>\n",
              "      <td>1</td>\n",
              "      <td>2016-01-01 00:00:00</td>\n",
              "      <td>-122.271450</td>\n",
              "      <td>37.803768</td>\n",
              "      <td>Oakland</td>\n",
              "      <td>-122.271450</td>\n",
              "      <td>37.803768</td>\n",
              "      <td>Oakland</td>\n",
              "    </tr>\n",
              "    <tr>\n",
              "      <th>1</th>\n",
              "      <td>12TH</td>\n",
              "      <td>16TH</td>\n",
              "      <td>1</td>\n",
              "      <td>2016-01-01 00:00:00</td>\n",
              "      <td>-122.271450</td>\n",
              "      <td>37.803768</td>\n",
              "      <td>Oakland</td>\n",
              "      <td>-122.419694</td>\n",
              "      <td>37.765062</td>\n",
              "      <td>San Francisco</td>\n",
              "    </tr>\n",
              "    <tr>\n",
              "      <th>2</th>\n",
              "      <td>12TH</td>\n",
              "      <td>24TH</td>\n",
              "      <td>4</td>\n",
              "      <td>2016-01-01 00:00:00</td>\n",
              "      <td>-122.271450</td>\n",
              "      <td>37.803768</td>\n",
              "      <td>Oakland</td>\n",
              "      <td>-122.418143</td>\n",
              "      <td>37.752470</td>\n",
              "      <td>San Francisco</td>\n",
              "    </tr>\n",
              "    <tr>\n",
              "      <th>3</th>\n",
              "      <td>12TH</td>\n",
              "      <td>ASHB</td>\n",
              "      <td>4</td>\n",
              "      <td>2016-01-01 00:00:00</td>\n",
              "      <td>-122.271450</td>\n",
              "      <td>37.803768</td>\n",
              "      <td>Oakland</td>\n",
              "      <td>-122.270062</td>\n",
              "      <td>37.852803</td>\n",
              "      <td>Berkeley</td>\n",
              "    </tr>\n",
              "    <tr>\n",
              "      <th>4</th>\n",
              "      <td>12TH</td>\n",
              "      <td>BALB</td>\n",
              "      <td>2</td>\n",
              "      <td>2016-01-01 00:00:00</td>\n",
              "      <td>-122.271450</td>\n",
              "      <td>37.803768</td>\n",
              "      <td>Oakland</td>\n",
              "      <td>-122.447506</td>\n",
              "      <td>37.721585</td>\n",
              "      <td>San Francisco</td>\n",
              "    </tr>\n",
              "    <tr>\n",
              "      <th>...</th>\n",
              "      <td>...</td>\n",
              "      <td>...</td>\n",
              "      <td>...</td>\n",
              "      <td>...</td>\n",
              "      <td>...</td>\n",
              "      <td>...</td>\n",
              "      <td>...</td>\n",
              "      <td>...</td>\n",
              "      <td>...</td>\n",
              "      <td>...</td>\n",
              "    </tr>\n",
              "    <tr>\n",
              "      <th>13285202</th>\n",
              "      <td>WARM</td>\n",
              "      <td>MONT</td>\n",
              "      <td>1</td>\n",
              "      <td>2017-05-03 23:00:00</td>\n",
              "      <td>-121.939313</td>\n",
              "      <td>37.502171</td>\n",
              "      <td>Fremont</td>\n",
              "      <td>-122.401066</td>\n",
              "      <td>37.789405</td>\n",
              "      <td>San Francisco</td>\n",
              "    </tr>\n",
              "    <tr>\n",
              "      <th>13285203</th>\n",
              "      <td>WARM</td>\n",
              "      <td>NBRK</td>\n",
              "      <td>1</td>\n",
              "      <td>2017-05-03 23:00:00</td>\n",
              "      <td>-121.939313</td>\n",
              "      <td>37.502171</td>\n",
              "      <td>Fremont</td>\n",
              "      <td>-122.283440</td>\n",
              "      <td>37.873967</td>\n",
              "      <td>Berkeley</td>\n",
              "    </tr>\n",
              "    <tr>\n",
              "      <th>13285204</th>\n",
              "      <td>WARM</td>\n",
              "      <td>NCON</td>\n",
              "      <td>1</td>\n",
              "      <td>2017-05-03 23:00:00</td>\n",
              "      <td>-121.939313</td>\n",
              "      <td>37.502171</td>\n",
              "      <td>Fremont</td>\n",
              "      <td>-122.024653</td>\n",
              "      <td>38.003193</td>\n",
              "      <td>Concord</td>\n",
              "    </tr>\n",
              "    <tr>\n",
              "      <th>13285205</th>\n",
              "      <td>WARM</td>\n",
              "      <td>SANL</td>\n",
              "      <td>2</td>\n",
              "      <td>2017-05-03 23:00:00</td>\n",
              "      <td>-121.939313</td>\n",
              "      <td>37.502171</td>\n",
              "      <td>Fremont</td>\n",
              "      <td>-122.160844</td>\n",
              "      <td>37.721947</td>\n",
              "      <td>San Leandro</td>\n",
              "    </tr>\n",
              "    <tr>\n",
              "      <th>13285206</th>\n",
              "      <td>WARM</td>\n",
              "      <td>SHAY</td>\n",
              "      <td>4</td>\n",
              "      <td>2017-05-03 23:00:00</td>\n",
              "      <td>-121.939313</td>\n",
              "      <td>37.502171</td>\n",
              "      <td>Fremont</td>\n",
              "      <td>-122.057189</td>\n",
              "      <td>37.634375</td>\n",
              "      <td>Hayward</td>\n",
              "    </tr>\n",
              "  </tbody>\n",
              "</table>\n",
              "<p>13285207 rows × 10 columns</p>\n",
              "</div>"
            ],
            "text/plain": [
              "         Origin Destination  ...  Dest_Longitude       Dest_ City\n",
              "0          12TH        12TH  ...       37.803768         Oakland \n",
              "1          12TH        16TH  ...       37.765062   San Francisco \n",
              "2          12TH        24TH  ...       37.752470   San Francisco \n",
              "3          12TH        ASHB  ...       37.852803        Berkeley \n",
              "4          12TH        BALB  ...       37.721585   San Francisco \n",
              "...         ...         ...  ...             ...              ...\n",
              "13285202   WARM        MONT  ...       37.789405   San Francisco \n",
              "13285203   WARM        NBRK  ...       37.873967        Berkeley \n",
              "13285204   WARM        NCON  ...       38.003193         Concord \n",
              "13285205   WARM        SANL  ...       37.721947     San Leandro \n",
              "13285206   WARM        SHAY  ...       37.634375         Hayward \n",
              "\n",
              "[13285207 rows x 10 columns]"
            ]
          },
          "metadata": {
            "tags": []
          },
          "execution_count": 26
        }
      ]
    },
    {
      "cell_type": "markdown",
      "metadata": {
        "id": "kezZAr6h28Pi"
      },
      "source": [
        "## Data Visualization"
      ]
    },
    {
      "cell_type": "code",
      "metadata": {
        "colab": {
          "base_uri": "https://localhost:8080/"
        },
        "id": "MQc1zMBl28Pi",
        "outputId": "ea4d0cb4-7cf2-49ac-cf42-a32b0a998ee3"
      },
      "source": [
        "#Viewing max and min number of throuput\n",
        "print(\"max throughput:\", df['Throughput'].max(), '. min throughput:', df[\"Throughput\"].min())"
      ],
      "execution_count": 27,
      "outputs": [
        {
          "output_type": "stream",
          "text": [
            "max throughput: 1826 . min throughput: 1\n"
          ],
          "name": "stdout"
        }
      ]
    },
    {
      "cell_type": "code",
      "metadata": {
        "colab": {
          "base_uri": "https://localhost:8080/",
          "height": 295
        },
        "id": "IooOlBwl28Pi",
        "outputId": "265af4a4-fd78-4406-d30f-d1a5eb82507e"
      },
      "source": [
        "plt.hist(df['Throughput'], bins = 100)\n",
        "plt.xlabel('Station Throughput')\n",
        "plt.title('Histogram of Throughput Distribution')\n",
        "plt.show()"
      ],
      "execution_count": 28,
      "outputs": [
        {
          "output_type": "display_data",
          "data": {
            "image/png": "[encoded data removed]",
            "text/plain": [
              "<Figure size 432x288 with 1 Axes>"
            ]
          },
          "metadata": {
            "tags": [],
            "needs_background": "light"
          }
        }
      ]
    },
    {
      "cell_type": "code",
      "metadata": {
        "scrolled": true,
        "colab": {
          "base_uri": "https://localhost:8080/",
          "height": 376
        },
        "id": "4hVztgm928Pi",
        "outputId": "3e042391-e561-4f60-a111-3afa7dcd22a7"
      },
      "source": [
        "total_throughput = df.groupby('DateTime')['Throughput'].sum().reset_index()\n",
        "\n",
        "plt.figure(figsize = (10, 5))\n",
        "plt.plot(total_throughput['DateTime'], total_throughput['Throughput'])\n",
        "plt.title('Total Number of Throughput by Hour per Day')\n",
        "plt.xlabel('DateTime')\n",
        "plt.xticks(rotation = 45)\n",
        "plt.ylabel('Number of Throughput')\n",
        "plt.show();"
      ],
      "execution_count": 29,
      "outputs": [
        {
          "output_type": "display_data",
          "data": {
            "image/png": "[encoded data removed]",
            "text/plain": [
              "<Figure size 720x360 with 1 Axes>"
            ]
          },
          "metadata": {
            "tags": [],
            "needs_background": "light"
          }
        }
      ]
    },
    {
      "cell_type": "code",
      "metadata": {
        "colab": {
          "base_uri": "https://localhost:8080/",
          "height": 342
        },
        "id": "mxJ3IyxH28Pi",
        "outputId": "31c9e3cc-0815-4f31-8146-1466d3cb421f"
      },
      "source": [
        "#Histogram of frequencies of station origins\n",
        "plt.figure(figsize = (10, 5))\n",
        "plt.hist(df['Origin'], bins = 100)\n",
        "plt.xticks(rotation = 90)\n",
        "plt.show();"
      ],
      "execution_count": 30,
      "outputs": [
        {
          "output_type": "display_data",
          "data": {
            "image/png": "[encoded data removed]",
            "text/plain": [
              "<Figure size 720x360 with 1 Axes>"
            ]
          },
          "metadata": {
            "tags": [],
            "needs_background": "light"
          }
        }
      ]
    },
    {
      "cell_type": "code",
      "metadata": {
        "colab": {
          "base_uri": "https://localhost:8080/",
          "height": 342
        },
        "id": "s6GjfZw028Pj",
        "outputId": "f31b1c41-1aec-47e0-cad1-af5b56cacf30"
      },
      "source": [
        "#Histogram of frequencies of station destination\n",
        "plt.figure(figsize = (10, 5))\n",
        "plt.hist(df['Destination'], bins = 100)\n",
        "plt.xticks(rotation = 90)\n",
        "plt.show();"
      ],
      "execution_count": 31,
      "outputs": [
        {
          "output_type": "display_data",
          "data": {
            "image/png": "[encoded data removed]",
            "text/plain": [
              "<Figure size 720x360 with 1 Axes>"
            ]
          },
          "metadata": {
            "tags": [],
            "needs_background": "light"
          }
        }
      ]
    },
    {
      "cell_type": "markdown",
      "metadata": {
        "id": "XxEX1lB728Pj"
      },
      "source": [
        "### Data Analytics Question #1"
      ]
    },
    {
      "cell_type": "markdown",
      "metadata": {
        "id": "yOjIEytf28Pj"
      },
      "source": [
        "Which BART station is the busiest?"
      ]
    },
    {
      "cell_type": "code",
      "metadata": {
        "colab": {
          "base_uri": "https://localhost:8080/",
          "height": 131
        },
        "id": "qPPJ96y0ht2V",
        "outputId": "12395a45-3a9b-485d-d486-7658122a60eb"
      },
      "source": [
        "#Viewing the number of unique values in column Throughput and the data that has the highest number of throughput\n",
        "print('the number of unique values is: ', df['Throughput'].nunique())\n",
        "df[df['Throughput'] == df['Throughput'].max()]"
      ],
      "execution_count": 32,
      "outputs": [
        {
          "output_type": "stream",
          "text": [
            "the number of unique values is:  950\n"
          ],
          "name": "stdout"
        },
        {
          "output_type": "execute_result",
          "data": {
            "text/html": [
              "<div>\n",
              "<style scoped>\n",
              "    .dataframe tbody tr th:only-of-type {\n",
              "        vertical-align: middle;\n",
              "    }\n",
              "\n",
              "    .dataframe tbody tr th {\n",
              "        vertical-align: top;\n",
              "    }\n",
              "\n",
              "    .dataframe thead th {\n",
              "        text-align: right;\n",
              "    }\n",
              "</style>\n",
              "<table border=\"1\" class=\"dataframe\">\n",
              "  <thead>\n",
              "    <tr style=\"text-align: right;\">\n",
              "      <th></th>\n",
              "      <th>Origin</th>\n",
              "      <th>Destination</th>\n",
              "      <th>Throughput</th>\n",
              "      <th>DateTime</th>\n",
              "      <th>Ori_Name</th>\n",
              "      <th>Ori_Latitude</th>\n",
              "      <th>Ori_Longitude</th>\n",
              "      <th>Ori_City</th>\n",
              "      <th>Dest_Name</th>\n",
              "      <th>Dest_Latitude</th>\n",
              "      <th>Dest_Longitude</th>\n",
              "      <th>Dest_ City</th>\n",
              "    </tr>\n",
              "  </thead>\n",
              "  <tbody>\n",
              "    <tr>\n",
              "      <th>10504519</th>\n",
              "      <td>24TH</td>\n",
              "      <td>CIVC</td>\n",
              "      <td>1826</td>\n",
              "      <td>2017-01-21 16:00:00</td>\n",
              "      <td>24th St. Mission (24TH)</td>\n",
              "      <td>-122.418143</td>\n",
              "      <td>37.752470</td>\n",
              "      <td>San Francisco</td>\n",
              "      <td>Civic Center/UN Plaza (CIVC)</td>\n",
              "      <td>-122.414123</td>\n",
              "      <td>37.779732</td>\n",
              "      <td>San Francisco</td>\n",
              "    </tr>\n",
              "  </tbody>\n",
              "</table>\n",
              "</div>"
            ],
            "text/plain": [
              "         Origin Destination  ...  Dest_Longitude       Dest_ City\n",
              "10504519   24TH        CIVC  ...       37.779732   San Francisco \n",
              "\n",
              "[1 rows x 12 columns]"
            ]
          },
          "metadata": {
            "tags": []
          },
          "execution_count": 32
        }
      ]
    },
    {
      "cell_type": "code",
      "metadata": {
        "id": "TT_TisWJDyCT"
      },
      "source": [
        "#Start by grouping by the sum of throughputs by station for Origins and Destinations\n",
        "origin = df.groupby(['Origin'])['Throughput'].sum().sort_values(ascending = False)\n",
        "destination = df.groupby(['Destination'])['Throughput'].sum().sort_values(ascending = False)"
      ],
      "execution_count": 33,
      "outputs": []
    },
    {
      "cell_type": "code",
      "metadata": {
        "id": "iS2oJRvXPeUn"
      },
      "source": [
        "#Turning the groupby's into dataframes\n",
        "origin_station = pd.DataFrame(data = origin)\n",
        "destination_station = pd.DataFrame(data = destination)"
      ],
      "execution_count": 34,
      "outputs": []
    },
    {
      "cell_type": "code",
      "metadata": {
        "colab": {
          "base_uri": "https://localhost:8080/",
          "height": 198
        },
        "id": "jjoHYTeSQCtv",
        "outputId": "aaf8d4d5-0956-44d8-814c-48736a1e8b07"
      },
      "source": [
        "#Built a dataframe that merged both groupby's dataframes\n",
        "busy_station = origin_station.merge(destination_station, how = 'left', left_index = True, right_index = True).reset_index()\n",
        "busy_station.rename(columns = {'Origin': 'Station', 'Throughput_x': 'Origin_Throughput', 'Throughput_y': 'Dest_Throughput'},\n",
        "                    inplace = True)\n",
        "busy_station.head()"
      ],
      "execution_count": 35,
      "outputs": [
        {
          "output_type": "execute_result",
          "data": {
            "text/html": [
              "<div>\n",
              "<style scoped>\n",
              "    .dataframe tbody tr th:only-of-type {\n",
              "        vertical-align: middle;\n",
              "    }\n",
              "\n",
              "    .dataframe tbody tr th {\n",
              "        vertical-align: top;\n",
              "    }\n",
              "\n",
              "    .dataframe thead th {\n",
              "        text-align: right;\n",
              "    }\n",
              "</style>\n",
              "<table border=\"1\" class=\"dataframe\">\n",
              "  <thead>\n",
              "    <tr style=\"text-align: right;\">\n",
              "      <th></th>\n",
              "      <th>Station</th>\n",
              "      <th>Origin_Throughput</th>\n",
              "      <th>Dest_Throughput</th>\n",
              "    </tr>\n",
              "  </thead>\n",
              "  <tbody>\n",
              "    <tr>\n",
              "      <th>0</th>\n",
              "      <td>MONT</td>\n",
              "      <td>16107314</td>\n",
              "      <td>16956581</td>\n",
              "    </tr>\n",
              "    <tr>\n",
              "      <th>1</th>\n",
              "      <td>EMBR</td>\n",
              "      <td>15749457</td>\n",
              "      <td>18327187</td>\n",
              "    </tr>\n",
              "    <tr>\n",
              "      <th>2</th>\n",
              "      <td>POWL</td>\n",
              "      <td>14138322</td>\n",
              "      <td>12454717</td>\n",
              "    </tr>\n",
              "    <tr>\n",
              "      <th>3</th>\n",
              "      <td>CIVC</td>\n",
              "      <td>10145110</td>\n",
              "      <td>9391593</td>\n",
              "    </tr>\n",
              "    <tr>\n",
              "      <th>4</th>\n",
              "      <td>24TH</td>\n",
              "      <td>5459492</td>\n",
              "      <td>5303096</td>\n",
              "    </tr>\n",
              "  </tbody>\n",
              "</table>\n",
              "</div>"
            ],
            "text/plain": [
              "  Station  Origin_Throughput  Dest_Throughput\n",
              "0    MONT           16107314         16956581\n",
              "1    EMBR           15749457         18327187\n",
              "2    POWL           14138322         12454717\n",
              "3    CIVC           10145110          9391593\n",
              "4    24TH            5459492          5303096"
            ]
          },
          "metadata": {
            "tags": []
          },
          "execution_count": 35
        }
      ]
    },
    {
      "cell_type": "code",
      "metadata": {
        "colab": {
          "base_uri": "https://localhost:8080/",
          "height": 78
        },
        "id": "Rs1ioBJNS_gJ",
        "outputId": "67d118da-a9b7-44cb-b331-4be0fb9512ef"
      },
      "source": [
        "#Summed throughputs from both Origin and Destination for a total number of throughputs and printed the station with \n",
        "#the highest sum of throughputs\n",
        "busy_station['Sum_Throughput'] = busy_station['Origin_Throughput'] + busy_station['Dest_Throughput']\n",
        "busy_station[busy_station['Sum_Throughput'] == busy_station['Sum_Throughput'].max()]"
      ],
      "execution_count": 36,
      "outputs": [
        {
          "output_type": "execute_result",
          "data": {
            "text/html": [
              "<div>\n",
              "<style scoped>\n",
              "    .dataframe tbody tr th:only-of-type {\n",
              "        vertical-align: middle;\n",
              "    }\n",
              "\n",
              "    .dataframe tbody tr th {\n",
              "        vertical-align: top;\n",
              "    }\n",
              "\n",
              "    .dataframe thead th {\n",
              "        text-align: right;\n",
              "    }\n",
              "</style>\n",
              "<table border=\"1\" class=\"dataframe\">\n",
              "  <thead>\n",
              "    <tr style=\"text-align: right;\">\n",
              "      <th></th>\n",
              "      <th>Station</th>\n",
              "      <th>Origin_Throughput</th>\n",
              "      <th>Dest_Throughput</th>\n",
              "      <th>Sum_Throughput</th>\n",
              "    </tr>\n",
              "  </thead>\n",
              "  <tbody>\n",
              "    <tr>\n",
              "      <th>1</th>\n",
              "      <td>EMBR</td>\n",
              "      <td>15749457</td>\n",
              "      <td>18327187</td>\n",
              "      <td>34076644</td>\n",
              "    </tr>\n",
              "  </tbody>\n",
              "</table>\n",
              "</div>"
            ],
            "text/plain": [
              "  Station  Origin_Throughput  Dest_Throughput  Sum_Throughput\n",
              "1    EMBR           15749457         18327187        34076644"
            ]
          },
          "metadata": {
            "tags": []
          },
          "execution_count": 36
        }
      ]
    },
    {
      "cell_type": "markdown",
      "metadata": {
        "id": "4OeVrffx28Pk"
      },
      "source": [
        "Station EMBR is the busiest station."
      ]
    },
    {
      "cell_type": "markdown",
      "metadata": {
        "id": "0Ol-X11r28Pk"
      },
      "source": [
        "### Data Anlytics Question #2"
      ]
    },
    {
      "cell_type": "markdown",
      "metadata": {
        "id": "v7pjS_rl28Pk"
      },
      "source": [
        "What is the least popular station?"
      ]
    },
    {
      "cell_type": "code",
      "metadata": {
        "colab": {
          "base_uri": "https://localhost:8080/",
          "height": 78
        },
        "id": "RogH8qEBSeB5",
        "outputId": "ef084f35-9370-4ca0-8091-8313b7e72b10"
      },
      "source": [
        "#Least popular BART station\n",
        "busy_station[busy_station['Sum_Throughput'] == busy_station['Sum_Throughput'].min()]"
      ],
      "execution_count": 37,
      "outputs": [
        {
          "output_type": "execute_result",
          "data": {
            "text/html": [
              "<div>\n",
              "<style scoped>\n",
              "    .dataframe tbody tr th:only-of-type {\n",
              "        vertical-align: middle;\n",
              "    }\n",
              "\n",
              "    .dataframe tbody tr th {\n",
              "        vertical-align: top;\n",
              "    }\n",
              "\n",
              "    .dataframe thead th {\n",
              "        text-align: right;\n",
              "    }\n",
              "</style>\n",
              "<table border=\"1\" class=\"dataframe\">\n",
              "  <thead>\n",
              "    <tr style=\"text-align: right;\">\n",
              "      <th></th>\n",
              "      <th>Station</th>\n",
              "      <th>Origin_Throughput</th>\n",
              "      <th>Dest_Throughput</th>\n",
              "      <th>Sum_Throughput</th>\n",
              "    </tr>\n",
              "  </thead>\n",
              "  <tbody>\n",
              "    <tr>\n",
              "      <th>45</th>\n",
              "      <td>WARM</td>\n",
              "      <td>81397</td>\n",
              "      <td>82112</td>\n",
              "      <td>163509</td>\n",
              "    </tr>\n",
              "  </tbody>\n",
              "</table>\n",
              "</div>"
            ],
            "text/plain": [
              "   Station  Origin_Throughput  Dest_Throughput  Sum_Throughput\n",
              "45    WARM              81397            82112          163509"
            ]
          },
          "metadata": {
            "tags": []
          },
          "execution_count": 37
        }
      ]
    },
    {
      "cell_type": "markdown",
      "metadata": {
        "id": "Z-TBQqWf28Pk"
      },
      "source": [
        "WARM station is the least popular station."
      ]
    },
    {
      "cell_type": "markdown",
      "metadata": {
        "id": "d70ueoN728Pk"
      },
      "source": [
        "### Data Analytics Question #3"
      ]
    },
    {
      "cell_type": "markdown",
      "metadata": {
        "id": "Kredokh028Pk"
      },
      "source": [
        "What is the best time to go to SF from Berkeley if you want to find a seat?"
      ]
    },
    {
      "cell_type": "code",
      "metadata": {
        "id": "pfSN5d9i28Pk"
      },
      "source": [
        "#Setting attributes for Date and Time\n",
        "df['Time'] = df['DateTime'].apply(lambda x: x.strftime(\"%H:%M:%S\"))\n",
        "df['Date'] = df['DateTime'].apply(lambda x: x.date())"
      ],
      "execution_count": 38,
      "outputs": []
    },
    {
      "cell_type": "code",
      "metadata": {
        "colab": {
          "base_uri": "https://localhost:8080/",
          "height": 302
        },
        "id": "NJWpUp9z28Pk",
        "outputId": "c5b61bfb-b06c-41f4-aa00-e6b749c5d295"
      },
      "source": [
        "#Selecting data where the Origin City is Berkeley and Destination City is San Francisco\n",
        "Berkeley_SF = df[(df['Ori_City'] == ' Berkeley ') & (df['Dest_ City'] == ' San Francisco ')]\n",
        "Berkeley_SF.head()"
      ],
      "execution_count": 39,
      "outputs": [
        {
          "output_type": "execute_result",
          "data": {
            "text/html": [
              "<div>\n",
              "<style scoped>\n",
              "    .dataframe tbody tr th:only-of-type {\n",
              "        vertical-align: middle;\n",
              "    }\n",
              "\n",
              "    .dataframe tbody tr th {\n",
              "        vertical-align: top;\n",
              "    }\n",
              "\n",
              "    .dataframe thead th {\n",
              "        text-align: right;\n",
              "    }\n",
              "</style>\n",
              "<table border=\"1\" class=\"dataframe\">\n",
              "  <thead>\n",
              "    <tr style=\"text-align: right;\">\n",
              "      <th></th>\n",
              "      <th>Origin</th>\n",
              "      <th>Destination</th>\n",
              "      <th>Throughput</th>\n",
              "      <th>DateTime</th>\n",
              "      <th>Ori_Name</th>\n",
              "      <th>Ori_Latitude</th>\n",
              "      <th>Ori_Longitude</th>\n",
              "      <th>Ori_City</th>\n",
              "      <th>Dest_Name</th>\n",
              "      <th>Dest_Latitude</th>\n",
              "      <th>Dest_Longitude</th>\n",
              "      <th>Dest_ City</th>\n",
              "      <th>Time</th>\n",
              "      <th>Date</th>\n",
              "    </tr>\n",
              "  </thead>\n",
              "  <tbody>\n",
              "    <tr>\n",
              "      <th>134</th>\n",
              "      <td>ASHB</td>\n",
              "      <td>16TH</td>\n",
              "      <td>4</td>\n",
              "      <td>2016-01-01</td>\n",
              "      <td>Ashby (ASHB)</td>\n",
              "      <td>-122.270062</td>\n",
              "      <td>37.852803</td>\n",
              "      <td>Berkeley</td>\n",
              "      <td>16th St. Mission (16TH)</td>\n",
              "      <td>-122.419694</td>\n",
              "      <td>37.765062</td>\n",
              "      <td>San Francisco</td>\n",
              "      <td>00:00:00</td>\n",
              "      <td>2016-01-01</td>\n",
              "    </tr>\n",
              "    <tr>\n",
              "      <th>136</th>\n",
              "      <td>ASHB</td>\n",
              "      <td>CIVC</td>\n",
              "      <td>2</td>\n",
              "      <td>2016-01-01</td>\n",
              "      <td>Ashby (ASHB)</td>\n",
              "      <td>-122.270062</td>\n",
              "      <td>37.852803</td>\n",
              "      <td>Berkeley</td>\n",
              "      <td>Civic Center/UN Plaza (CIVC)</td>\n",
              "      <td>-122.414123</td>\n",
              "      <td>37.779732</td>\n",
              "      <td>San Francisco</td>\n",
              "      <td>00:00:00</td>\n",
              "      <td>2016-01-01</td>\n",
              "    </tr>\n",
              "    <tr>\n",
              "      <th>140</th>\n",
              "      <td>ASHB</td>\n",
              "      <td>EMBR</td>\n",
              "      <td>1</td>\n",
              "      <td>2016-01-01</td>\n",
              "      <td>Ashby (ASHB)</td>\n",
              "      <td>-122.270062</td>\n",
              "      <td>37.852803</td>\n",
              "      <td>Berkeley</td>\n",
              "      <td>Embarcadero (EMBR)</td>\n",
              "      <td>-122.397020</td>\n",
              "      <td>37.792874</td>\n",
              "      <td>San Francisco</td>\n",
              "      <td>00:00:00</td>\n",
              "      <td>2016-01-01</td>\n",
              "    </tr>\n",
              "    <tr>\n",
              "      <th>143</th>\n",
              "      <td>ASHB</td>\n",
              "      <td>MONT</td>\n",
              "      <td>1</td>\n",
              "      <td>2016-01-01</td>\n",
              "      <td>Ashby (ASHB)</td>\n",
              "      <td>-122.270062</td>\n",
              "      <td>37.852803</td>\n",
              "      <td>Berkeley</td>\n",
              "      <td>Montgomery St. (MONT)</td>\n",
              "      <td>-122.401066</td>\n",
              "      <td>37.789405</td>\n",
              "      <td>San Francisco</td>\n",
              "      <td>00:00:00</td>\n",
              "      <td>2016-01-01</td>\n",
              "    </tr>\n",
              "    <tr>\n",
              "      <th>145</th>\n",
              "      <td>ASHB</td>\n",
              "      <td>SFIA</td>\n",
              "      <td>1</td>\n",
              "      <td>2016-01-01</td>\n",
              "      <td>Ashby (ASHB)</td>\n",
              "      <td>-122.270062</td>\n",
              "      <td>37.852803</td>\n",
              "      <td>Berkeley</td>\n",
              "      <td>San Francisco Int'l Airport (SFIA)</td>\n",
              "      <td>-122.392409</td>\n",
              "      <td>37.615966</td>\n",
              "      <td>San Francisco</td>\n",
              "      <td>00:00:00</td>\n",
              "      <td>2016-01-01</td>\n",
              "    </tr>\n",
              "  </tbody>\n",
              "</table>\n",
              "</div>"
            ],
            "text/plain": [
              "    Origin Destination  Throughput  ...       Dest_ City      Time        Date\n",
              "134   ASHB        16TH           4  ...   San Francisco   00:00:00  2016-01-01\n",
              "136   ASHB        CIVC           2  ...   San Francisco   00:00:00  2016-01-01\n",
              "140   ASHB        EMBR           1  ...   San Francisco   00:00:00  2016-01-01\n",
              "143   ASHB        MONT           1  ...   San Francisco   00:00:00  2016-01-01\n",
              "145   ASHB        SFIA           1  ...   San Francisco   00:00:00  2016-01-01\n",
              "\n",
              "[5 rows x 14 columns]"
            ]
          },
          "metadata": {
            "tags": []
          },
          "execution_count": 39
        }
      ]
    },
    {
      "cell_type": "code",
      "metadata": {
        "colab": {
          "base_uri": "https://localhost:8080/"
        },
        "id": "qML39-4l28Pk",
        "outputId": "0e1db9dc-36c0-4b9b-fedd-c4f337701f82"
      },
      "source": [
        "Berkeley_SF.info()"
      ],
      "execution_count": 40,
      "outputs": [
        {
          "output_type": "stream",
          "text": [
            "<class 'pandas.core.frame.DataFrame'>\n",
            "Int64Index: 232340 entries, 134 to 13284899\n",
            "Data columns (total 14 columns):\n",
            " #   Column          Non-Null Count   Dtype         \n",
            "---  ------          --------------   -----         \n",
            " 0   Origin          232340 non-null  object        \n",
            " 1   Destination     232340 non-null  object        \n",
            " 2   Throughput      232340 non-null  int64         \n",
            " 3   DateTime        232340 non-null  datetime64[ns]\n",
            " 4   Ori_Name        232340 non-null  object        \n",
            " 5   Ori_Latitude    232340 non-null  object        \n",
            " 6   Ori_Longitude   232340 non-null  object        \n",
            " 7   Ori_City        232340 non-null  object        \n",
            " 8   Dest_Name       232340 non-null  object        \n",
            " 9   Dest_Latitude   232340 non-null  object        \n",
            " 10  Dest_Longitude  232340 non-null  object        \n",
            " 11  Dest_ City      232340 non-null  object        \n",
            " 12  Time            232340 non-null  object        \n",
            " 13  Date            232340 non-null  object        \n",
            "dtypes: datetime64[ns](1), int64(1), object(12)\n",
            "memory usage: 26.6+ MB\n"
          ],
          "name": "stdout"
        }
      ]
    },
    {
      "cell_type": "code",
      "metadata": {
        "colab": {
          "base_uri": "https://localhost:8080/",
          "height": 316
        },
        "id": "3KR0_cBh28Pl",
        "outputId": "e20d80f5-be07-43eb-e3e8-15f4de94b169"
      },
      "source": [
        "#Plotting the number of Throughputs at each time\n",
        "plt.plot_date(Berkeley_SF.groupby('Time')['Throughput'].sum().reset_index()['Time'], \n",
        "              Berkeley_SF.groupby('Time')['Throughput'].sum().reset_index()['Throughput'])\n",
        "plt.ylabel('Number of Throughput')\n",
        "plt.title('Total Throughput for BART rides from Berkeley to SF by Time')\n",
        "plt.xticks(rotation = 90)\n",
        "plt.show();"
      ],
      "execution_count": 41,
      "outputs": [
        {
          "output_type": "display_data",
          "data": {
            "image/png": "[encoded data removed]",
            "text/plain": [
              "<Figure size 432x288 with 1 Axes>"
            ]
          },
          "metadata": {
            "tags": [],
            "needs_background": "light"
          }
        }
      ]
    },
    {
      "cell_type": "code",
      "metadata": {
        "id": "gjTT6fAd28Pl"
      },
      "source": [
        "#Grouped by data with Time, Origin Name, and Destination Name with the summed Throughput\n",
        "Berkeley_SF = Berkeley_SF.groupby(['Time', 'Ori_Name', 'Dest_Name'])['Throughput'].sum().reset_index()"
      ],
      "execution_count": 42,
      "outputs": []
    },
    {
      "cell_type": "code",
      "metadata": {
        "colab": {
          "base_uri": "https://localhost:8080/",
          "height": 265
        },
        "id": "Ep_6AbKb28Pl",
        "outputId": "c1504b7f-5026-48ef-9921-c4fe89734802"
      },
      "source": [
        "#Histogram all of the number of times train rides leave each Berkeley stations to SF\n",
        "plt.hist(Berkeley_SF['Ori_Name'])\n",
        "plt.show();"
      ],
      "execution_count": 43,
      "outputs": [
        {
          "output_type": "display_data",
          "data": {
            "image/png": "[encoded data removed]",
            "text/plain": [
              "<Figure size 432x288 with 1 Axes>"
            ]
          },
          "metadata": {
            "tags": [],
            "needs_background": "light"
          }
        }
      ]
    },
    {
      "cell_type": "code",
      "metadata": {
        "colab": {
          "base_uri": "https://localhost:8080/"
        },
        "id": "dN3ZsTQX28Pl",
        "outputId": "6b6e3329-99c7-4dd6-e4cb-da487ffb246b"
      },
      "source": [
        "Berkeley_SF['Ori_Name'].value_counts()"
      ],
      "execution_count": 44,
      "outputs": [
        {
          "output_type": "execute_result",
          "data": {
            "text/plain": [
              "North Berkeley (NBRK)       211\n",
              "Ashby (ASHB)                211\n",
              "Downtown Berkeley (DBRK)    209\n",
              "Name: Ori_Name, dtype: int64"
            ]
          },
          "metadata": {
            "tags": []
          },
          "execution_count": 44
        }
      ]
    },
    {
      "cell_type": "code",
      "metadata": {
        "id": "Sp-jWqnA28Pl"
      },
      "source": [
        "#Grouping the data by Time and Throughput now and divided Throughput by the total numbers of train leaving Berkeley to SF\n",
        "Berkeley_SF = Berkeley_SF.groupby('Time')['Throughput'].sum().reset_index()\n",
        "Berkeley_SF['Throughput'] = Berkeley_SF['Throughput']/(188+188+186)"
      ],
      "execution_count": 45,
      "outputs": []
    },
    {
      "cell_type": "code",
      "metadata": {
        "colab": {
          "base_uri": "https://localhost:8080/",
          "height": 768
        },
        "id": "_5bKHL2A28Pl",
        "outputId": "bc66a389-e4b2-4a4e-c2e8-0f46fe175cdf"
      },
      "source": [
        "Berkeley_SF"
      ],
      "execution_count": 46,
      "outputs": [
        {
          "output_type": "execute_result",
          "data": {
            "text/html": [
              "<div>\n",
              "<style scoped>\n",
              "    .dataframe tbody tr th:only-of-type {\n",
              "        vertical-align: middle;\n",
              "    }\n",
              "\n",
              "    .dataframe tbody tr th {\n",
              "        vertical-align: top;\n",
              "    }\n",
              "\n",
              "    .dataframe thead th {\n",
              "        text-align: right;\n",
              "    }\n",
              "</style>\n",
              "<table border=\"1\" class=\"dataframe\">\n",
              "  <thead>\n",
              "    <tr style=\"text-align: right;\">\n",
              "      <th></th>\n",
              "      <th>Time</th>\n",
              "      <th>Throughput</th>\n",
              "    </tr>\n",
              "  </thead>\n",
              "  <tbody>\n",
              "    <tr>\n",
              "      <th>0</th>\n",
              "      <td>00:00:00</td>\n",
              "      <td>49.201068</td>\n",
              "    </tr>\n",
              "    <tr>\n",
              "      <th>1</th>\n",
              "      <td>01:00:00</td>\n",
              "      <td>9.528470</td>\n",
              "    </tr>\n",
              "    <tr>\n",
              "      <th>2</th>\n",
              "      <td>02:00:00</td>\n",
              "      <td>0.224199</td>\n",
              "    </tr>\n",
              "    <tr>\n",
              "      <th>3</th>\n",
              "      <td>03:00:00</td>\n",
              "      <td>0.094306</td>\n",
              "    </tr>\n",
              "    <tr>\n",
              "      <th>4</th>\n",
              "      <td>04:00:00</td>\n",
              "      <td>6.779359</td>\n",
              "    </tr>\n",
              "    <tr>\n",
              "      <th>5</th>\n",
              "      <td>05:00:00</td>\n",
              "      <td>54.309609</td>\n",
              "    </tr>\n",
              "    <tr>\n",
              "      <th>6</th>\n",
              "      <td>06:00:00</td>\n",
              "      <td>198.524911</td>\n",
              "    </tr>\n",
              "    <tr>\n",
              "      <th>7</th>\n",
              "      <td>07:00:00</td>\n",
              "      <td>570.040925</td>\n",
              "    </tr>\n",
              "    <tr>\n",
              "      <th>8</th>\n",
              "      <td>08:00:00</td>\n",
              "      <td>1210.587189</td>\n",
              "    </tr>\n",
              "    <tr>\n",
              "      <th>9</th>\n",
              "      <td>09:00:00</td>\n",
              "      <td>1222.807829</td>\n",
              "    </tr>\n",
              "    <tr>\n",
              "      <th>10</th>\n",
              "      <td>10:00:00</td>\n",
              "      <td>630.268683</td>\n",
              "    </tr>\n",
              "    <tr>\n",
              "      <th>11</th>\n",
              "      <td>11:00:00</td>\n",
              "      <td>451.916370</td>\n",
              "    </tr>\n",
              "    <tr>\n",
              "      <th>12</th>\n",
              "      <td>12:00:00</td>\n",
              "      <td>400.163701</td>\n",
              "    </tr>\n",
              "    <tr>\n",
              "      <th>13</th>\n",
              "      <td>13:00:00</td>\n",
              "      <td>352.128114</td>\n",
              "    </tr>\n",
              "    <tr>\n",
              "      <th>14</th>\n",
              "      <td>14:00:00</td>\n",
              "      <td>320.674377</td>\n",
              "    </tr>\n",
              "    <tr>\n",
              "      <th>15</th>\n",
              "      <td>15:00:00</td>\n",
              "      <td>306.350534</td>\n",
              "    </tr>\n",
              "    <tr>\n",
              "      <th>16</th>\n",
              "      <td>16:00:00</td>\n",
              "      <td>333.069395</td>\n",
              "    </tr>\n",
              "    <tr>\n",
              "      <th>17</th>\n",
              "      <td>17:00:00</td>\n",
              "      <td>484.982206</td>\n",
              "    </tr>\n",
              "    <tr>\n",
              "      <th>18</th>\n",
              "      <td>18:00:00</td>\n",
              "      <td>495.982206</td>\n",
              "    </tr>\n",
              "    <tr>\n",
              "      <th>19</th>\n",
              "      <td>19:00:00</td>\n",
              "      <td>324.932384</td>\n",
              "    </tr>\n",
              "    <tr>\n",
              "      <th>20</th>\n",
              "      <td>20:00:00</td>\n",
              "      <td>173.683274</td>\n",
              "    </tr>\n",
              "    <tr>\n",
              "      <th>21</th>\n",
              "      <td>21:00:00</td>\n",
              "      <td>152.950178</td>\n",
              "    </tr>\n",
              "    <tr>\n",
              "      <th>22</th>\n",
              "      <td>22:00:00</td>\n",
              "      <td>141.693950</td>\n",
              "    </tr>\n",
              "    <tr>\n",
              "      <th>23</th>\n",
              "      <td>23:00:00</td>\n",
              "      <td>104.357651</td>\n",
              "    </tr>\n",
              "  </tbody>\n",
              "</table>\n",
              "</div>"
            ],
            "text/plain": [
              "        Time   Throughput\n",
              "0   00:00:00    49.201068\n",
              "1   01:00:00     9.528470\n",
              "2   02:00:00     0.224199\n",
              "3   03:00:00     0.094306\n",
              "4   04:00:00     6.779359\n",
              "5   05:00:00    54.309609\n",
              "6   06:00:00   198.524911\n",
              "7   07:00:00   570.040925\n",
              "8   08:00:00  1210.587189\n",
              "9   09:00:00  1222.807829\n",
              "10  10:00:00   630.268683\n",
              "11  11:00:00   451.916370\n",
              "12  12:00:00   400.163701\n",
              "13  13:00:00   352.128114\n",
              "14  14:00:00   320.674377\n",
              "15  15:00:00   306.350534\n",
              "16  16:00:00   333.069395\n",
              "17  17:00:00   484.982206\n",
              "18  18:00:00   495.982206\n",
              "19  19:00:00   324.932384\n",
              "20  20:00:00   173.683274\n",
              "21  21:00:00   152.950178\n",
              "22  22:00:00   141.693950\n",
              "23  23:00:00   104.357651"
            ]
          },
          "metadata": {
            "tags": []
          },
          "execution_count": 46
        }
      ]
    },
    {
      "cell_type": "markdown",
      "metadata": {
        "id": "VqhGEMEl28Pl"
      },
      "source": [
        "To simplify the data to answer which time is best to travel from Berkeley to SF is to group the data by Time and summing up the number of throughput. This method disregards the affect of day and Station has on the number of riders by the hour. "
      ]
    },
    {
      "cell_type": "markdown",
      "metadata": {
        "id": "SIoECr7Q28Pm"
      },
      "source": [
        "There are about 3 to 10 cars per train. Each car has an average of 58 seats. For simplicity, we will assume that most trains have the average of 6 cars from Berkeley to SF; therefore, giving us a total of 348 seats per train. With these numbers in mind, the best time to take BART from Berkeley to SF would be any time that is outside of 7am to 11am and 7pm to 8pm."
      ]
    },
    {
      "cell_type": "markdown",
      "metadata": {
        "id": "feAt-ytc28Pm"
      },
      "source": [
        "*Note: The table above shows that the trains are not operating between 1am to 4am with an average of 8 people leaving the trains at 1am and about 6 people entering the trains 4am. According to BART's FAQ, the trains are down for 2-3 hours for maintenance services (https://www.bart.gov/guide/faq#late_night)."
      ]
    },
    {
      "cell_type": "markdown",
      "metadata": {
        "id": "aInH6gZi28Pm"
      },
      "source": [
        "### Data Analytics Question #4"
      ]
    },
    {
      "cell_type": "markdown",
      "metadata": {
        "id": "WUH-M4xd28Pm"
      },
      "source": [
        "What is the busiest day of the week?"
      ]
    },
    {
      "cell_type": "code",
      "metadata": {
        "id": "-fVu_Ii4iiU3"
      },
      "source": [
        "import time\n",
        "import datetime\n",
        "\n",
        "#Converting Datetime into a tuple\n",
        "df['DateTime'] = df['DateTime'].apply(lambda x: datetime.datetime.strptime(str(x),'%Y-%m-%d %H:%M:%S').timetuple())"
      ],
      "execution_count": 47,
      "outputs": []
    },
    {
      "cell_type": "code",
      "metadata": {
        "colab": {
          "base_uri": "https://localhost:8080/"
        },
        "id": "mBkblvCnkgwn",
        "outputId": "d405a6ba-cd48-4313-d100-584a03da02c7"
      },
      "source": [
        "#Day of the week that is busiest\n",
        "df['WeekDay'] = df['DateTime'].apply(lambda x: x[6])\n",
        "df['WeekDay'].mode()"
      ],
      "execution_count": 48,
      "outputs": [
        {
          "output_type": "execute_result",
          "data": {
            "text/plain": [
              "0    4\n",
              "dtype: int64"
            ]
          },
          "metadata": {
            "tags": []
          },
          "execution_count": 48
        }
      ]
    },
    {
      "cell_type": "markdown",
      "metadata": {
        "id": "AMcSSq2e28Pm"
      },
      "source": [
        "The most busiest day of the Week is Thursday."
      ]
    },
    {
      "cell_type": "markdown",
      "metadata": {
        "id": "NpkviDKa28Pm"
      },
      "source": [
        "### Data Analytics Question #5"
      ]
    },
    {
      "cell_type": "markdown",
      "metadata": {
        "id": "GVTvoLcg28Pm"
      },
      "source": [
        "How many people take the BART late at night?"
      ]
    },
    {
      "cell_type": "code",
      "metadata": {
        "colab": {
          "base_uri": "https://localhost:8080/",
          "height": 147
        },
        "id": "3XauLOX628Pn",
        "outputId": "b6cdf82d-ac3e-47b0-ceb1-613555be9da4"
      },
      "source": [
        "df.head(1)"
      ],
      "execution_count": 49,
      "outputs": [
        {
          "output_type": "execute_result",
          "data": {
            "text/html": [
              "<div>\n",
              "<style scoped>\n",
              "    .dataframe tbody tr th:only-of-type {\n",
              "        vertical-align: middle;\n",
              "    }\n",
              "\n",
              "    .dataframe tbody tr th {\n",
              "        vertical-align: top;\n",
              "    }\n",
              "\n",
              "    .dataframe thead th {\n",
              "        text-align: right;\n",
              "    }\n",
              "</style>\n",
              "<table border=\"1\" class=\"dataframe\">\n",
              "  <thead>\n",
              "    <tr style=\"text-align: right;\">\n",
              "      <th></th>\n",
              "      <th>Origin</th>\n",
              "      <th>Destination</th>\n",
              "      <th>Throughput</th>\n",
              "      <th>DateTime</th>\n",
              "      <th>Ori_Name</th>\n",
              "      <th>Ori_Latitude</th>\n",
              "      <th>Ori_Longitude</th>\n",
              "      <th>Ori_City</th>\n",
              "      <th>Dest_Name</th>\n",
              "      <th>Dest_Latitude</th>\n",
              "      <th>Dest_Longitude</th>\n",
              "      <th>Dest_ City</th>\n",
              "      <th>Time</th>\n",
              "      <th>Date</th>\n",
              "      <th>WeekDay</th>\n",
              "    </tr>\n",
              "  </thead>\n",
              "  <tbody>\n",
              "    <tr>\n",
              "      <th>0</th>\n",
              "      <td>12TH</td>\n",
              "      <td>12TH</td>\n",
              "      <td>1</td>\n",
              "      <td>(2016, 1, 1, 0, 0, 0, 4, 1, -1)</td>\n",
              "      <td>12th St. Oakland City Center (12TH)</td>\n",
              "      <td>-122.271450</td>\n",
              "      <td>37.803768</td>\n",
              "      <td>Oakland</td>\n",
              "      <td>12th St. Oakland City Center (12TH)</td>\n",
              "      <td>-122.271450</td>\n",
              "      <td>37.803768</td>\n",
              "      <td>Oakland</td>\n",
              "      <td>00:00:00</td>\n",
              "      <td>2016-01-01</td>\n",
              "      <td>4</td>\n",
              "    </tr>\n",
              "  </tbody>\n",
              "</table>\n",
              "</div>"
            ],
            "text/plain": [
              "  Origin Destination  Throughput  ...      Time        Date WeekDay\n",
              "0   12TH        12TH           1  ...  00:00:00  2016-01-01       4\n",
              "\n",
              "[1 rows x 15 columns]"
            ]
          },
          "metadata": {
            "tags": []
          },
          "execution_count": 49
        }
      ]
    },
    {
      "cell_type": "code",
      "metadata": {
        "colab": {
          "base_uri": "https://localhost:8080/"
        },
        "id": "iJDZbGybVuKZ",
        "outputId": "2c855834-a646-4b16-9333-120478bccc22"
      },
      "source": [
        "#DataFrame for the number of people taking the BART late at night (11pm - 3am)\n",
        "late = df.loc[(df['Time'] <= \"3:00:00\") | (df['Time'] == \"23:00:00\")]\n",
        "print( 'The average number of people taking the BART late at night is: ', late.groupby('Time')['Throughput'].mean().sum())"
      ],
      "execution_count": 50,
      "outputs": [
        {
          "output_type": "stream",
          "text": [
            "The average number of people taking the BART late at night is:  264.6441116397239\n"
          ],
          "name": "stdout"
        }
      ]
    },
    {
      "cell_type": "code",
      "metadata": {
        "id": "LcNTvTdRXtub"
      },
      "source": [
        "#Turning DateTime into timestamp\n",
        "df['DateTime'] = df['DateTime'].apply(lambda x: time.mktime(x))"
      ],
      "execution_count": 51,
      "outputs": []
    },
    {
      "cell_type": "markdown",
      "metadata": {
        "id": "SPWS6nU528Pn"
      },
      "source": [
        "### Data Science Question A"
      ]
    },
    {
      "cell_type": "markdown",
      "metadata": {
        "id": "KNM4FPhp28Pn"
      },
      "source": [
        "Compute a straight line distance between every station."
      ]
    },
    {
      "cell_type": "code",
      "metadata": {
        "id": "izfULqTs28Pn"
      },
      "source": [
        "#Setting the latitudes and longitudes data type form object to floats\n",
        "df['Ori_Latitude'] = df['Ori_Latitude'].astype('float')\n",
        "df['Ori_Longitude'] = df['Ori_Longitude'].astype('float')\n",
        "df['Dest_Latitude'] = df['Dest_Latitude'].astype('float')\n",
        "df['Dest_Longitude'] = df['Dest_Longitude'].astype('float')"
      ],
      "execution_count": 52,
      "outputs": []
    },
    {
      "cell_type": "code",
      "metadata": {
        "id": "Apadr9j428Pn"
      },
      "source": [
        "#Calculating the euclidean distances between every station\n",
        "df['Distance'] = ((df['Ori_Latitude']-df['Dest_Latitude'])**2 + (df['Ori_Longitude']-df['Dest_Longitude'])**2)**(1/2)"
      ],
      "execution_count": 53,
      "outputs": []
    },
    {
      "cell_type": "code",
      "metadata": {
        "colab": {
          "base_uri": "https://localhost:8080/",
          "height": 498
        },
        "id": "CeOMHECr28Po",
        "outputId": "3fe8d8be-472e-4b90-f565-1135de883064"
      },
      "source": [
        "#Dataframe displaying the distances between each station\n",
        "distances = df[['Origin', 'Destination', 'Distance']]\n",
        "distances.drop_duplicates(inplace = True)\n",
        "distances"
      ],
      "execution_count": 54,
      "outputs": [
        {
          "output_type": "stream",
          "text": [
            "/usr/local/lib/python3.6/dist-packages/ipykernel_launcher.py:3: SettingWithCopyWarning: \n",
            "A value is trying to be set on a copy of a slice from a DataFrame\n",
            "\n",
            "See the caveats in the documentation: https://pandas.pydata.org/pandas-docs/stable/user_guide/indexing.html#returning-a-view-versus-a-copy\n",
            "  This is separate from the ipykernel package so we can avoid doing imports until\n"
          ],
          "name": "stderr"
        },
        {
          "output_type": "execute_result",
          "data": {
            "text/html": [
              "<div>\n",
              "<style scoped>\n",
              "    .dataframe tbody tr th:only-of-type {\n",
              "        vertical-align: middle;\n",
              "    }\n",
              "\n",
              "    .dataframe tbody tr th {\n",
              "        vertical-align: top;\n",
              "    }\n",
              "\n",
              "    .dataframe thead th {\n",
              "        text-align: right;\n",
              "    }\n",
              "</style>\n",
              "<table border=\"1\" class=\"dataframe\">\n",
              "  <thead>\n",
              "    <tr style=\"text-align: right;\">\n",
              "      <th></th>\n",
              "      <th>Origin</th>\n",
              "      <th>Destination</th>\n",
              "      <th>Distance</th>\n",
              "    </tr>\n",
              "  </thead>\n",
              "  <tbody>\n",
              "    <tr>\n",
              "      <th>0</th>\n",
              "      <td>12TH</td>\n",
              "      <td>12TH</td>\n",
              "      <td>0.000000</td>\n",
              "    </tr>\n",
              "    <tr>\n",
              "      <th>1</th>\n",
              "      <td>12TH</td>\n",
              "      <td>16TH</td>\n",
              "      <td>0.153214</td>\n",
              "    </tr>\n",
              "    <tr>\n",
              "      <th>2</th>\n",
              "      <td>12TH</td>\n",
              "      <td>24TH</td>\n",
              "      <td>0.155404</td>\n",
              "    </tr>\n",
              "    <tr>\n",
              "      <th>3</th>\n",
              "      <td>12TH</td>\n",
              "      <td>ASHB</td>\n",
              "      <td>0.049055</td>\n",
              "    </tr>\n",
              "    <tr>\n",
              "      <th>4</th>\n",
              "      <td>12TH</td>\n",
              "      <td>BALB</td>\n",
              "      <td>0.194293</td>\n",
              "    </tr>\n",
              "    <tr>\n",
              "      <th>...</th>\n",
              "      <td>...</td>\n",
              "      <td>...</td>\n",
              "      <td>...</td>\n",
              "    </tr>\n",
              "    <tr>\n",
              "      <th>12220405</th>\n",
              "      <td>WARM</td>\n",
              "      <td>DALY</td>\n",
              "      <td>0.567670</td>\n",
              "    </tr>\n",
              "    <tr>\n",
              "      <th>12223976</th>\n",
              "      <td>MLBR</td>\n",
              "      <td>WARM</td>\n",
              "      <td>0.458018</td>\n",
              "    </tr>\n",
              "    <tr>\n",
              "      <th>12245264</th>\n",
              "      <td>WARM</td>\n",
              "      <td>SBRN</td>\n",
              "      <td>0.495872</td>\n",
              "    </tr>\n",
              "    <tr>\n",
              "      <th>12254087</th>\n",
              "      <td>SBRN</td>\n",
              "      <td>WARM</td>\n",
              "      <td>0.495872</td>\n",
              "    </tr>\n",
              "    <tr>\n",
              "      <th>12392502</th>\n",
              "      <td>SSAN</td>\n",
              "      <td>WARM</td>\n",
              "      <td>0.530035</td>\n",
              "    </tr>\n",
              "  </tbody>\n",
              "</table>\n",
              "<p>2116 rows × 3 columns</p>\n",
              "</div>"
            ],
            "text/plain": [
              "         Origin Destination  Distance\n",
              "0          12TH        12TH  0.000000\n",
              "1          12TH        16TH  0.153214\n",
              "2          12TH        24TH  0.155404\n",
              "3          12TH        ASHB  0.049055\n",
              "4          12TH        BALB  0.194293\n",
              "...         ...         ...       ...\n",
              "12220405   WARM        DALY  0.567670\n",
              "12223976   MLBR        WARM  0.458018\n",
              "12245264   WARM        SBRN  0.495872\n",
              "12254087   SBRN        WARM  0.495872\n",
              "12392502   SSAN        WARM  0.530035\n",
              "\n",
              "[2116 rows x 3 columns]"
            ]
          },
          "metadata": {
            "tags": []
          },
          "execution_count": 54
        }
      ]
    },
    {
      "cell_type": "code",
      "metadata": {
        "colab": {
          "base_uri": "https://localhost:8080/"
        },
        "id": "LEN4eEvy28Po",
        "outputId": "85404863-f5dc-47b3-9c27-770b399713f7"
      },
      "source": [
        "#Checking for duplicates\n",
        "df.duplicated().sum()"
      ],
      "execution_count": 55,
      "outputs": [
        {
          "output_type": "execute_result",
          "data": {
            "text/plain": [
              "0"
            ]
          },
          "metadata": {
            "tags": []
          },
          "execution_count": 55
        }
      ]
    },
    {
      "cell_type": "code",
      "metadata": {
        "id": "vbfkSa9Zec7v"
      },
      "source": [
        "#Removing unnecessary attributes\n",
        "df.drop(['Dest_Name', 'Ori_Name', 'Date', 'Time', 'Ori_City', 'Dest_ City'], axis = 1, inplace = True)"
      ],
      "execution_count": 56,
      "outputs": []
    },
    {
      "cell_type": "code",
      "metadata": {
        "id": "zk9mwGyU28Po"
      },
      "source": [
        "#Removing data, where the origins and destinations were the same station\n",
        "#df = df[df['Distance'] != 0]"
      ],
      "execution_count": 57,
      "outputs": []
    },
    {
      "cell_type": "code",
      "metadata": {
        "id": "2LFBZU_O28Po"
      },
      "source": [
        "from sklearn.preprocessing import LabelEncoder"
      ],
      "execution_count": 58,
      "outputs": []
    },
    {
      "cell_type": "code",
      "metadata": {
        "id": "X2dAohRk28Po"
      },
      "source": [
        "#Label the stations in Origin and Destination to numerical values\n",
        "df['Origin'] = LabelEncoder().fit_transform(df['Origin'])\n",
        "df['Destination'] = LabelEncoder().fit_transform(df['Destination'])"
      ],
      "execution_count": 59,
      "outputs": []
    },
    {
      "cell_type": "code",
      "metadata": {
        "id": "LzjEaMr4_Tke"
      },
      "source": [
        ""
      ],
      "execution_count": null,
      "outputs": []
    },
    {
      "cell_type": "markdown",
      "metadata": {
        "id": "aTk_fmi728Po"
      },
      "source": [
        "## Prediction model"
      ]
    },
    {
      "cell_type": "code",
      "metadata": {
        "id": "u6jMYMlc28Po"
      },
      "source": [
        "#Splitting target from the rest of the data set\n",
        "y,x = df['Throughput'], df.drop('Throughput', axis = 1)"
      ],
      "execution_count": 60,
      "outputs": []
    },
    {
      "cell_type": "code",
      "metadata": {
        "id": "uKjvjnAbqpZC"
      },
      "source": [
        "from sklearn.model_selection import train_test_split\n",
        "from sklearn.metrics import mean_squared_error, r2_score\n",
        "from sklearn.ensemble import GradientBoostingRegressor, RandomForestRegressor"
      ],
      "execution_count": 61,
      "outputs": []
    },
    {
      "cell_type": "code",
      "metadata": {
        "id": "CX2-YIO6svt4"
      },
      "source": [
        "GBR = GradientBoostingRegressor(learning_rate = 0.1, random_state = 0, n_estimators=300)\n",
        "RFR = RandomForestRegressor(n_estimators = 100, max_depth = 3, random_state = 0)"
      ],
      "execution_count": 62,
      "outputs": []
    },
    {
      "cell_type": "code",
      "metadata": {
        "id": "WhZDOuISv1_b"
      },
      "source": [
        "#Splitting 20% of data set for test set from the training set\n",
        "x_train_all, x_test, y_train_all, y_test = train_test_split(x, y, test_size = 0.2, random_state = 10)"
      ],
      "execution_count": 63,
      "outputs": []
    },
    {
      "cell_type": "code",
      "metadata": {
        "id": "wR2EnDzJ28Po"
      },
      "source": [
        "#Splitting 20% of the remaining training set for validation set\n",
        "x_train, x_val, y_train, y_val = train_test_split(x_train_all, y_train_all, test_size = 0.2, random_state = 42)"
      ],
      "execution_count": 64,
      "outputs": []
    },
    {
      "cell_type": "code",
      "metadata": {
        "id": "gPZ4oTa0vcUL"
      },
      "source": [
        "#Making predictions\n",
        "algorithms = [RFR, GBR]\n",
        "reg_type = ['RFR', 'GBR']\n",
        "\n",
        "def regressions():\n",
        "    RMSE = []\n",
        "    R2 = []\n",
        "    y_pred = []\n",
        "    \n",
        "    for i in range(len(algorithms)):\n",
        "        y_pred = (algorithms[i].fit(x_train, y_train).predict(x_val))\n",
        "        RMSE.append((mean_squared_error(y_val, y_pred))**0.5)\n",
        "        R2.append(r2_score(y_val, y_pred)) \n",
        "\n",
        "    metrics = pd.DataFrame(columns = ['RMSE', 'R2'], index = reg_type)\n",
        "    metrics['RMSE'] = RMSE\n",
        "    metrics['R2'] = R2  \n",
        "    return metrics"
      ],
      "execution_count": 65,
      "outputs": []
    },
    {
      "cell_type": "code",
      "metadata": {
        "colab": {
          "base_uri": "https://localhost:8080/",
          "height": 108
        },
        "id": "VsrMPoHiwEZL",
        "outputId": "0c0040e8-f91a-4300-841b-f9258e12b39d"
      },
      "source": [
        "regressions()"
      ],
      "execution_count": 66,
      "outputs": [
        {
          "output_type": "execute_result",
          "data": {
            "text/html": [
              "<div>\n",
              "<style scoped>\n",
              "    .dataframe tbody tr th:only-of-type {\n",
              "        vertical-align: middle;\n",
              "    }\n",
              "\n",
              "    .dataframe tbody tr th {\n",
              "        vertical-align: top;\n",
              "    }\n",
              "\n",
              "    .dataframe thead th {\n",
              "        text-align: right;\n",
              "    }\n",
              "</style>\n",
              "<table border=\"1\" class=\"dataframe\">\n",
              "  <thead>\n",
              "    <tr style=\"text-align: right;\">\n",
              "      <th></th>\n",
              "      <th>RMSE</th>\n",
              "      <th>R2</th>\n",
              "    </tr>\n",
              "  </thead>\n",
              "  <tbody>\n",
              "    <tr>\n",
              "      <th>RFR</th>\n",
              "      <td>31.099198</td>\n",
              "      <td>0.137195</td>\n",
              "    </tr>\n",
              "    <tr>\n",
              "      <th>GBR</th>\n",
              "      <td>29.016705</td>\n",
              "      <td>0.248878</td>\n",
              "    </tr>\n",
              "  </tbody>\n",
              "</table>\n",
              "</div>"
            ],
            "text/plain": [
              "          RMSE        R2\n",
              "RFR  31.099198  0.137195\n",
              "GBR  29.016705  0.248878"
            ]
          },
          "metadata": {
            "tags": []
          },
          "execution_count": 66
        }
      ]
    },
    {
      "cell_type": "code",
      "metadata": {
        "colab": {
          "base_uri": "https://localhost:8080/"
        },
        "id": "kbipjIuk28Pp",
        "outputId": "baaace46-ab7f-4181-a501-211985ac9165"
      },
      "source": [
        "#Predicting the results for test set with RMSE as the precision metric\n",
        "y_pred = GBR.predict(x_test)\n",
        "r2_score(y_test, y_pred)"
      ],
      "execution_count": 67,
      "outputs": [
        {
          "output_type": "execute_result",
          "data": {
            "text/plain": [
              "0.24997456514952765"
            ]
          },
          "metadata": {
            "tags": []
          },
          "execution_count": 67
        }
      ]
    },
    {
      "cell_type": "code",
      "metadata": {
        "id": "2OuUjjvb28Pp"
      },
      "source": [
        ""
      ],
      "execution_count": null,
      "outputs": []
    }
  ]
}