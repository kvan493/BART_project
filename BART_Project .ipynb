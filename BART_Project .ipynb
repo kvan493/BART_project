{
 "cells": [
  {
   "cell_type": "markdown",
   "metadata": {},
   "source": [
    "# Bay Area Rapid Transport project"
   ]
  },
  {
   "cell_type": "code",
   "execution_count": 1,
   "metadata": {
    "colab": {},
    "colab_type": "code",
    "id": "mvL0IWBg-KKW"
   },
   "outputs": [],
   "source": [
    "import numpy as np\n",
    "import pandas as pd\n",
    "import matplotlib.pyplot as plt\n",
    "import seaborn as sns"
   ]
  },
  {
   "cell_type": "markdown",
   "metadata": {},
   "source": [
    "## Importing station info"
   ]
  },
  {
   "cell_type": "code",
   "execution_count": 2,
   "metadata": {
    "colab": {
     "base_uri": "https://localhost:8080/",
     "height": 181
    },
    "colab_type": "code",
    "id": "15tdfCh_CQPM",
    "outputId": "a60ce669-b154-4d7c-b1f6-fb6cea5c9187"
   },
   "outputs": [
    {
     "name": "stdout",
     "output_type": "stream",
     "text": [
      "<class 'pandas.core.frame.DataFrame'>\n",
      "RangeIndex: 46 entries, 0 to 45\n",
      "Data columns (total 4 columns):\n",
      "Abbreviation    46 non-null object\n",
      "Description     46 non-null object\n",
      "Location        46 non-null object\n",
      "Name            46 non-null object\n",
      "dtypes: object(4)\n",
      "memory usage: 1.6+ KB\n"
     ]
    }
   ],
   "source": [
    "#Importing station dataframe\n",
    "station_df = pd.read_csv('station_info.csv')\n",
    "station_df.info()"
   ]
  },
  {
   "cell_type": "code",
   "execution_count": 3,
   "metadata": {
    "colab": {
     "base_uri": "https://localhost:8080/",
     "height": 285
    },
    "colab_type": "code",
    "id": "vYma7BFHCbqC",
    "outputId": "53fcdb4e-4e9a-4ea8-af2f-44f53c862203"
   },
   "outputs": [
    {
     "data": {
      "text/html": [
       "<div>\n",
       "<style scoped>\n",
       "    .dataframe tbody tr th:only-of-type {\n",
       "        vertical-align: middle;\n",
       "    }\n",
       "\n",
       "    .dataframe tbody tr th {\n",
       "        vertical-align: top;\n",
       "    }\n",
       "\n",
       "    .dataframe thead th {\n",
       "        text-align: right;\n",
       "    }\n",
       "</style>\n",
       "<table border=\"1\" class=\"dataframe\">\n",
       "  <thead>\n",
       "    <tr style=\"text-align: right;\">\n",
       "      <th></th>\n",
       "      <th>Abbreviation</th>\n",
       "      <th>Description</th>\n",
       "      <th>Location</th>\n",
       "      <th>Name</th>\n",
       "    </tr>\n",
       "  </thead>\n",
       "  <tbody>\n",
       "    <tr>\n",
       "      <th>0</th>\n",
       "      <td>12TH</td>\n",
       "      <td>1245 Broadway, Oakland CA 94612&lt;br /&gt;12th St. ...</td>\n",
       "      <td>-122.271450,37.803768,0</td>\n",
       "      <td>12th St. Oakland City Center (12TH)</td>\n",
       "    </tr>\n",
       "    <tr>\n",
       "      <th>1</th>\n",
       "      <td>16TH</td>\n",
       "      <td>2000 Mission Street, San Francisco CA 94110&lt;br...</td>\n",
       "      <td>-122.419694,37.765062,0</td>\n",
       "      <td>16th St. Mission (16TH)</td>\n",
       "    </tr>\n",
       "    <tr>\n",
       "      <th>2</th>\n",
       "      <td>19TH</td>\n",
       "      <td>1900 Broadway, Oakland CA 94612&lt;br /&gt;19th Stre...</td>\n",
       "      <td>-122.268602,37.808350,0</td>\n",
       "      <td>19th St. Oakland (19TH)</td>\n",
       "    </tr>\n",
       "    <tr>\n",
       "      <th>3</th>\n",
       "      <td>24TH</td>\n",
       "      <td>2800 Mission Street, San Francisco CA 94110&lt;br...</td>\n",
       "      <td>-122.418143,37.752470,0</td>\n",
       "      <td>24th St. Mission (24TH)</td>\n",
       "    </tr>\n",
       "    <tr>\n",
       "      <th>4</th>\n",
       "      <td>ASHB</td>\n",
       "      <td>3100 Adeline Street, Berkeley CA 94703&lt;br /&gt;As...</td>\n",
       "      <td>-122.270062,37.852803,0</td>\n",
       "      <td>Ashby (ASHB)</td>\n",
       "    </tr>\n",
       "  </tbody>\n",
       "</table>\n",
       "</div>"
      ],
      "text/plain": [
       "  Abbreviation                                        Description  \\\n",
       "0         12TH  1245 Broadway, Oakland CA 94612<br />12th St. ...   \n",
       "1         16TH  2000 Mission Street, San Francisco CA 94110<br...   \n",
       "2         19TH  1900 Broadway, Oakland CA 94612<br />19th Stre...   \n",
       "3         24TH  2800 Mission Street, San Francisco CA 94110<br...   \n",
       "4         ASHB  3100 Adeline Street, Berkeley CA 94703<br />As...   \n",
       "\n",
       "                  Location                                 Name  \n",
       "0  -122.271450,37.803768,0  12th St. Oakland City Center (12TH)  \n",
       "1  -122.419694,37.765062,0              16th St. Mission (16TH)  \n",
       "2  -122.268602,37.808350,0              19th St. Oakland (19TH)  \n",
       "3  -122.418143,37.752470,0              24th St. Mission (24TH)  \n",
       "4  -122.270062,37.852803,0                         Ashby (ASHB)  "
      ]
     },
     "execution_count": 3,
     "metadata": {},
     "output_type": "execute_result"
    }
   ],
   "source": [
    "station_df.head()"
   ]
  },
  {
   "cell_type": "markdown",
   "metadata": {},
   "source": [
    "## Importing 2016 BART data"
   ]
  },
  {
   "cell_type": "code",
   "execution_count": 4,
   "metadata": {
    "colab": {
     "base_uri": "https://localhost:8080/",
     "height": 181
    },
    "colab_type": "code",
    "id": "amD7YpucCfSs",
    "outputId": "afd6fba9-ef71-4982-f205-888f97632a64"
   },
   "outputs": [
    {
     "name": "stdout",
     "output_type": "stream",
     "text": [
      "<class 'pandas.core.frame.DataFrame'>\n",
      "RangeIndex: 9971582 entries, 0 to 9971581\n",
      "Data columns (total 4 columns):\n",
      "Origin         object\n",
      "Destination    object\n",
      "Throughput     int64\n",
      "DateTime       object\n",
      "dtypes: int64(1), object(3)\n",
      "memory usage: 304.3+ MB\n"
     ]
    }
   ],
   "source": [
    "#Importing BART 2016 dataframe\n",
    "df_2016 = pd.read_csv('date-hour-soo-dest-2016.csv')\n",
    "df_2016.info()"
   ]
  },
  {
   "cell_type": "code",
   "execution_count": 5,
   "metadata": {
    "colab": {
     "base_uri": "https://localhost:8080/",
     "height": 198
    },
    "colab_type": "code",
    "id": "KPNswzNXCtgs",
    "outputId": "05d8fe3d-8bf4-4198-d5b8-5d477f98fdab"
   },
   "outputs": [
    {
     "data": {
      "text/html": [
       "<div>\n",
       "<style scoped>\n",
       "    .dataframe tbody tr th:only-of-type {\n",
       "        vertical-align: middle;\n",
       "    }\n",
       "\n",
       "    .dataframe tbody tr th {\n",
       "        vertical-align: top;\n",
       "    }\n",
       "\n",
       "    .dataframe thead th {\n",
       "        text-align: right;\n",
       "    }\n",
       "</style>\n",
       "<table border=\"1\" class=\"dataframe\">\n",
       "  <thead>\n",
       "    <tr style=\"text-align: right;\">\n",
       "      <th></th>\n",
       "      <th>Origin</th>\n",
       "      <th>Destination</th>\n",
       "      <th>Throughput</th>\n",
       "      <th>DateTime</th>\n",
       "    </tr>\n",
       "  </thead>\n",
       "  <tbody>\n",
       "    <tr>\n",
       "      <th>0</th>\n",
       "      <td>12TH</td>\n",
       "      <td>12TH</td>\n",
       "      <td>1</td>\n",
       "      <td>2016-01-01 00:00:00</td>\n",
       "    </tr>\n",
       "    <tr>\n",
       "      <th>1</th>\n",
       "      <td>12TH</td>\n",
       "      <td>16TH</td>\n",
       "      <td>1</td>\n",
       "      <td>2016-01-01 00:00:00</td>\n",
       "    </tr>\n",
       "    <tr>\n",
       "      <th>2</th>\n",
       "      <td>12TH</td>\n",
       "      <td>24TH</td>\n",
       "      <td>4</td>\n",
       "      <td>2016-01-01 00:00:00</td>\n",
       "    </tr>\n",
       "    <tr>\n",
       "      <th>3</th>\n",
       "      <td>12TH</td>\n",
       "      <td>ASHB</td>\n",
       "      <td>4</td>\n",
       "      <td>2016-01-01 00:00:00</td>\n",
       "    </tr>\n",
       "    <tr>\n",
       "      <th>4</th>\n",
       "      <td>12TH</td>\n",
       "      <td>BALB</td>\n",
       "      <td>2</td>\n",
       "      <td>2016-01-01 00:00:00</td>\n",
       "    </tr>\n",
       "  </tbody>\n",
       "</table>\n",
       "</div>"
      ],
      "text/plain": [
       "  Origin Destination  Throughput             DateTime\n",
       "0   12TH        12TH           1  2016-01-01 00:00:00\n",
       "1   12TH        16TH           1  2016-01-01 00:00:00\n",
       "2   12TH        24TH           4  2016-01-01 00:00:00\n",
       "3   12TH        ASHB           4  2016-01-01 00:00:00\n",
       "4   12TH        BALB           2  2016-01-01 00:00:00"
      ]
     },
     "execution_count": 5,
     "metadata": {},
     "output_type": "execute_result"
    }
   ],
   "source": [
    "df_2016.head()"
   ]
  },
  {
   "cell_type": "markdown",
   "metadata": {},
   "source": [
    "## Importing 2017 BART data"
   ]
  },
  {
   "cell_type": "code",
   "execution_count": 6,
   "metadata": {
    "colab": {
     "base_uri": "https://localhost:8080/",
     "height": 181
    },
    "colab_type": "code",
    "id": "CeF1-1peEp1Y",
    "outputId": "42d61eff-6701-4ff4-c801-097c901d7dbf"
   },
   "outputs": [
    {
     "name": "stdout",
     "output_type": "stream",
     "text": [
      "<class 'pandas.core.frame.DataFrame'>\n",
      "RangeIndex: 3313625 entries, 0 to 3313624\n",
      "Data columns (total 4 columns):\n",
      "Origin         object\n",
      "Destination    object\n",
      "Throughput     int64\n",
      "DateTime       object\n",
      "dtypes: int64(1), object(3)\n",
      "memory usage: 101.1+ MB\n"
     ]
    }
   ],
   "source": [
    "#Importing BART 2017 dataframe\n",
    "df_2017 = pd.read_csv('date-hour-soo-dest-2017.csv')\n",
    "df_2017.info()"
   ]
  },
  {
   "cell_type": "code",
   "execution_count": 7,
   "metadata": {
    "colab": {
     "base_uri": "https://localhost:8080/",
     "height": 198
    },
    "colab_type": "code",
    "id": "quod8BOmE6ID",
    "outputId": "8012f497-1558-4828-9724-d2984ac32fb8"
   },
   "outputs": [
    {
     "data": {
      "text/html": [
       "<div>\n",
       "<style scoped>\n",
       "    .dataframe tbody tr th:only-of-type {\n",
       "        vertical-align: middle;\n",
       "    }\n",
       "\n",
       "    .dataframe tbody tr th {\n",
       "        vertical-align: top;\n",
       "    }\n",
       "\n",
       "    .dataframe thead th {\n",
       "        text-align: right;\n",
       "    }\n",
       "</style>\n",
       "<table border=\"1\" class=\"dataframe\">\n",
       "  <thead>\n",
       "    <tr style=\"text-align: right;\">\n",
       "      <th></th>\n",
       "      <th>Origin</th>\n",
       "      <th>Destination</th>\n",
       "      <th>Throughput</th>\n",
       "      <th>DateTime</th>\n",
       "    </tr>\n",
       "  </thead>\n",
       "  <tbody>\n",
       "    <tr>\n",
       "      <th>0</th>\n",
       "      <td>12TH</td>\n",
       "      <td>19TH</td>\n",
       "      <td>1</td>\n",
       "      <td>2017-01-01 00:00:00</td>\n",
       "    </tr>\n",
       "    <tr>\n",
       "      <th>1</th>\n",
       "      <td>12TH</td>\n",
       "      <td>24TH</td>\n",
       "      <td>2</td>\n",
       "      <td>2017-01-01 00:00:00</td>\n",
       "    </tr>\n",
       "    <tr>\n",
       "      <th>2</th>\n",
       "      <td>12TH</td>\n",
       "      <td>BAYF</td>\n",
       "      <td>1</td>\n",
       "      <td>2017-01-01 00:00:00</td>\n",
       "    </tr>\n",
       "    <tr>\n",
       "      <th>3</th>\n",
       "      <td>12TH</td>\n",
       "      <td>CIVC</td>\n",
       "      <td>5</td>\n",
       "      <td>2017-01-01 00:00:00</td>\n",
       "    </tr>\n",
       "    <tr>\n",
       "      <th>4</th>\n",
       "      <td>12TH</td>\n",
       "      <td>COLS</td>\n",
       "      <td>2</td>\n",
       "      <td>2017-01-01 00:00:00</td>\n",
       "    </tr>\n",
       "  </tbody>\n",
       "</table>\n",
       "</div>"
      ],
      "text/plain": [
       "  Origin Destination  Throughput             DateTime\n",
       "0   12TH        19TH           1  2017-01-01 00:00:00\n",
       "1   12TH        24TH           2  2017-01-01 00:00:00\n",
       "2   12TH        BAYF           1  2017-01-01 00:00:00\n",
       "3   12TH        CIVC           5  2017-01-01 00:00:00\n",
       "4   12TH        COLS           2  2017-01-01 00:00:00"
      ]
     },
     "execution_count": 7,
     "metadata": {},
     "output_type": "execute_result"
    }
   ],
   "source": [
    "df_2017.head()"
   ]
  },
  {
   "cell_type": "markdown",
   "metadata": {},
   "source": [
    "### Combining 2016 and 2017 BART data into one dataframe"
   ]
  },
  {
   "cell_type": "code",
   "execution_count": 8,
   "metadata": {
    "colab": {
     "base_uri": "https://localhost:8080/",
     "height": 198
    },
    "colab_type": "code",
    "id": "I3lr-dFIFBnm",
    "outputId": "949f1d60-9fc2-457a-e66e-f4e3346a76d7"
   },
   "outputs": [
    {
     "data": {
      "text/html": [
       "<div>\n",
       "<style scoped>\n",
       "    .dataframe tbody tr th:only-of-type {\n",
       "        vertical-align: middle;\n",
       "    }\n",
       "\n",
       "    .dataframe tbody tr th {\n",
       "        vertical-align: top;\n",
       "    }\n",
       "\n",
       "    .dataframe thead th {\n",
       "        text-align: right;\n",
       "    }\n",
       "</style>\n",
       "<table border=\"1\" class=\"dataframe\">\n",
       "  <thead>\n",
       "    <tr style=\"text-align: right;\">\n",
       "      <th></th>\n",
       "      <th>Origin</th>\n",
       "      <th>Destination</th>\n",
       "      <th>Throughput</th>\n",
       "      <th>DateTime</th>\n",
       "    </tr>\n",
       "  </thead>\n",
       "  <tbody>\n",
       "    <tr>\n",
       "      <th>0</th>\n",
       "      <td>12TH</td>\n",
       "      <td>12TH</td>\n",
       "      <td>1</td>\n",
       "      <td>2016-01-01 00:00:00</td>\n",
       "    </tr>\n",
       "    <tr>\n",
       "      <th>1</th>\n",
       "      <td>12TH</td>\n",
       "      <td>16TH</td>\n",
       "      <td>1</td>\n",
       "      <td>2016-01-01 00:00:00</td>\n",
       "    </tr>\n",
       "    <tr>\n",
       "      <th>2</th>\n",
       "      <td>12TH</td>\n",
       "      <td>24TH</td>\n",
       "      <td>4</td>\n",
       "      <td>2016-01-01 00:00:00</td>\n",
       "    </tr>\n",
       "    <tr>\n",
       "      <th>3</th>\n",
       "      <td>12TH</td>\n",
       "      <td>ASHB</td>\n",
       "      <td>4</td>\n",
       "      <td>2016-01-01 00:00:00</td>\n",
       "    </tr>\n",
       "    <tr>\n",
       "      <th>4</th>\n",
       "      <td>12TH</td>\n",
       "      <td>BALB</td>\n",
       "      <td>2</td>\n",
       "      <td>2016-01-01 00:00:00</td>\n",
       "    </tr>\n",
       "  </tbody>\n",
       "</table>\n",
       "</div>"
      ],
      "text/plain": [
       "  Origin Destination  Throughput             DateTime\n",
       "0   12TH        12TH           1  2016-01-01 00:00:00\n",
       "1   12TH        16TH           1  2016-01-01 00:00:00\n",
       "2   12TH        24TH           4  2016-01-01 00:00:00\n",
       "3   12TH        ASHB           4  2016-01-01 00:00:00\n",
       "4   12TH        BALB           2  2016-01-01 00:00:00"
      ]
     },
     "execution_count": 8,
     "metadata": {},
     "output_type": "execute_result"
    }
   ],
   "source": [
    "#Append BART 2016 and 2017 dataframe\n",
    "df = df_2016.append(df_2017, ignore_index = True)\n",
    "df.head()"
   ]
  },
  {
   "cell_type": "code",
   "execution_count": 9,
   "metadata": {},
   "outputs": [
    {
     "name": "stdout",
     "output_type": "stream",
     "text": [
      "<class 'pandas.core.frame.DataFrame'>\n",
      "RangeIndex: 13285207 entries, 0 to 13285206\n",
      "Data columns (total 4 columns):\n",
      "Origin         object\n",
      "Destination    object\n",
      "Throughput     int64\n",
      "DateTime       object\n",
      "dtypes: int64(1), object(3)\n",
      "memory usage: 405.4+ MB\n"
     ]
    }
   ],
   "source": [
    "df.info()"
   ]
  },
  {
   "cell_type": "code",
   "execution_count": 10,
   "metadata": {},
   "outputs": [],
   "source": [
    "#Changing dtype for DateTime attribute from object to actual datetime\n",
    "df['DateTime'] = pd.to_datetime(df['DateTime'], format = '%Y-%m-%d %H:%M:%S')"
   ]
  },
  {
   "cell_type": "code",
   "execution_count": 11,
   "metadata": {},
   "outputs": [
    {
     "data": {
      "text/html": [
       "<div>\n",
       "<style scoped>\n",
       "    .dataframe tbody tr th:only-of-type {\n",
       "        vertical-align: middle;\n",
       "    }\n",
       "\n",
       "    .dataframe tbody tr th {\n",
       "        vertical-align: top;\n",
       "    }\n",
       "\n",
       "    .dataframe thead th {\n",
       "        text-align: right;\n",
       "    }\n",
       "</style>\n",
       "<table border=\"1\" class=\"dataframe\">\n",
       "  <thead>\n",
       "    <tr style=\"text-align: right;\">\n",
       "      <th></th>\n",
       "      <th>Abbreviation</th>\n",
       "      <th>Description</th>\n",
       "      <th>Location</th>\n",
       "      <th>Name</th>\n",
       "    </tr>\n",
       "  </thead>\n",
       "  <tbody>\n",
       "    <tr>\n",
       "      <th>0</th>\n",
       "      <td>12TH</td>\n",
       "      <td>1245 Broadway, Oakland CA 94612&lt;br /&gt;12th St. ...</td>\n",
       "      <td>-122.271450,37.803768,0</td>\n",
       "      <td>12th St. Oakland City Center (12TH)</td>\n",
       "    </tr>\n",
       "    <tr>\n",
       "      <th>1</th>\n",
       "      <td>16TH</td>\n",
       "      <td>2000 Mission Street, San Francisco CA 94110&lt;br...</td>\n",
       "      <td>-122.419694,37.765062,0</td>\n",
       "      <td>16th St. Mission (16TH)</td>\n",
       "    </tr>\n",
       "  </tbody>\n",
       "</table>\n",
       "</div>"
      ],
      "text/plain": [
       "  Abbreviation                                        Description  \\\n",
       "0         12TH  1245 Broadway, Oakland CA 94612<br />12th St. ...   \n",
       "1         16TH  2000 Mission Street, San Francisco CA 94110<br...   \n",
       "\n",
       "                  Location                                 Name  \n",
       "0  -122.271450,37.803768,0  12th St. Oakland City Center (12TH)  \n",
       "1  -122.419694,37.765062,0              16th St. Mission (16TH)  "
      ]
     },
     "execution_count": 11,
     "metadata": {},
     "output_type": "execute_result"
    }
   ],
   "source": [
    "station_df.head(2)"
   ]
  },
  {
   "cell_type": "code",
   "execution_count": 12,
   "metadata": {
    "scrolled": true
   },
   "outputs": [
    {
     "data": {
      "text/html": [
       "<div>\n",
       "<style scoped>\n",
       "    .dataframe tbody tr th:only-of-type {\n",
       "        vertical-align: middle;\n",
       "    }\n",
       "\n",
       "    .dataframe tbody tr th {\n",
       "        vertical-align: top;\n",
       "    }\n",
       "\n",
       "    .dataframe thead th {\n",
       "        text-align: right;\n",
       "    }\n",
       "</style>\n",
       "<table border=\"1\" class=\"dataframe\">\n",
       "  <thead>\n",
       "    <tr style=\"text-align: right;\">\n",
       "      <th></th>\n",
       "      <th>Abbreviation</th>\n",
       "      <th>Description</th>\n",
       "      <th>Location</th>\n",
       "      <th>Name</th>\n",
       "    </tr>\n",
       "  </thead>\n",
       "  <tbody>\n",
       "    <tr>\n",
       "      <th>0</th>\n",
       "      <td>12TH</td>\n",
       "      <td>1245 Broadway, Oakland CA 94612 12th St. Oakla...</td>\n",
       "      <td>-122.271450,37.803768,0</td>\n",
       "      <td>12th St. Oakland City Center (12TH)</td>\n",
       "    </tr>\n",
       "    <tr>\n",
       "      <th>1</th>\n",
       "      <td>16TH</td>\n",
       "      <td>2000 Mission Street, San Francisco CA 94110 \"T...</td>\n",
       "      <td>-122.419694,37.765062,0</td>\n",
       "      <td>16th St. Mission (16TH)</td>\n",
       "    </tr>\n",
       "    <tr>\n",
       "      <th>2</th>\n",
       "      <td>19TH</td>\n",
       "      <td>1900 Broadway, Oakland CA 94612 19th Street St...</td>\n",
       "      <td>-122.268602,37.808350,0</td>\n",
       "      <td>19th St. Oakland (19TH)</td>\n",
       "    </tr>\n",
       "    <tr>\n",
       "      <th>3</th>\n",
       "      <td>24TH</td>\n",
       "      <td>2800 Mission Street, San Francisco CA 94110 \"T...</td>\n",
       "      <td>-122.418143,37.752470,0</td>\n",
       "      <td>24th St. Mission (24TH)</td>\n",
       "    </tr>\n",
       "    <tr>\n",
       "      <th>4</th>\n",
       "      <td>ASHB</td>\n",
       "      <td>3100 Adeline Street, Berkeley CA 94703 Ashby S...</td>\n",
       "      <td>-122.270062,37.852803,0</td>\n",
       "      <td>Ashby (ASHB)</td>\n",
       "    </tr>\n",
       "  </tbody>\n",
       "</table>\n",
       "</div>"
      ],
      "text/plain": [
       "  Abbreviation                                        Description  \\\n",
       "0         12TH  1245 Broadway, Oakland CA 94612 12th St. Oakla...   \n",
       "1         16TH  2000 Mission Street, San Francisco CA 94110 \"T...   \n",
       "2         19TH  1900 Broadway, Oakland CA 94612 19th Street St...   \n",
       "3         24TH  2800 Mission Street, San Francisco CA 94110 \"T...   \n",
       "4         ASHB  3100 Adeline Street, Berkeley CA 94703 Ashby S...   \n",
       "\n",
       "                  Location                                 Name  \n",
       "0  -122.271450,37.803768,0  12th St. Oakland City Center (12TH)  \n",
       "1  -122.419694,37.765062,0              16th St. Mission (16TH)  \n",
       "2  -122.268602,37.808350,0              19th St. Oakland (19TH)  \n",
       "3  -122.418143,37.752470,0              24th St. Mission (24TH)  \n",
       "4  -122.270062,37.852803,0                         Ashby (ASHB)  "
      ]
     },
     "execution_count": 12,
     "metadata": {},
     "output_type": "execute_result"
    }
   ],
   "source": [
    "#Removing <br /> from Description attribute\n",
    "station_df['Description'].replace('(<br />)', ' ', regex = True, inplace = True)\n",
    "station_df.head()"
   ]
  },
  {
   "cell_type": "code",
   "execution_count": 13,
   "metadata": {},
   "outputs": [
    {
     "name": "stdout",
     "output_type": "stream",
     "text": [
      "1245 Broadway, Oakland CA 94612 12th St. Oakland City Center Station is in the heart of Downtown Oakland, near historic Old Oakland and Oakland's Chinatown.\n",
      "2000 Mission Street, San Francisco CA 94110 \"The Mission\" refers to the San Francisco de Asis Mission, also known as Mission Dolores, which was founded 1776. Today the neighborhood is host to an eclectic mix of restaurants, markets, performance spaces, shops, and nightspots.\n"
     ]
    }
   ],
   "source": [
    "#Viewing the first two Description in full\n",
    "print (station_df['Description'][0])\n",
    "print (station_df['Description'][1])"
   ]
  },
  {
   "cell_type": "code",
   "execution_count": 14,
   "metadata": {},
   "outputs": [
    {
     "data": {
      "text/plain": [
       "array(['Oakland ', 'San Francisco ', 'Berkeley ', 'San Leandro ',\n",
       "       'Castro Valley ', 'Colma ', 'Concord ', 'Daly City ',\n",
       "       'El Cerrito ', 'Pleasanton ', 'Fremont ', 'Hayward ', 'Lafayette ',\n",
       "       'Millbrae ', 'Orinda ', 'Walnut Creek ', 'Pittsburg ', 'Richmond ',\n",
       "       'San Bruno ', 'Level 3', 'South San Francisco ', 'Union City ',\n",
       "       'Fremont', 'Dublin '], dtype=object)"
      ]
     },
     "execution_count": 14,
     "metadata": {},
     "output_type": "execute_result"
    }
   ],
   "source": [
    "#Creating new attribute called City \n",
    "station_df['City'] = station_df['Description'].apply(lambda x: x.split(', ')[1])\n",
    "station_df['City'].replace('CA(.*)$', '', regex = True, inplace = True)\n",
    "station_df['City'].unique()"
   ]
  },
  {
   "cell_type": "code",
   "execution_count": 15,
   "metadata": {},
   "outputs": [
    {
     "data": {
      "text/html": [
       "<div>\n",
       "<style scoped>\n",
       "    .dataframe tbody tr th:only-of-type {\n",
       "        vertical-align: middle;\n",
       "    }\n",
       "\n",
       "    .dataframe tbody tr th {\n",
       "        vertical-align: top;\n",
       "    }\n",
       "\n",
       "    .dataframe thead th {\n",
       "        text-align: right;\n",
       "    }\n",
       "</style>\n",
       "<table border=\"1\" class=\"dataframe\">\n",
       "  <thead>\n",
       "    <tr style=\"text-align: right;\">\n",
       "      <th></th>\n",
       "      <th>Abbreviation</th>\n",
       "      <th>Description</th>\n",
       "      <th>Location</th>\n",
       "      <th>Name</th>\n",
       "      <th>City</th>\n",
       "    </tr>\n",
       "  </thead>\n",
       "  <tbody>\n",
       "    <tr>\n",
       "      <th>38</th>\n",
       "      <td>SFIA</td>\n",
       "      <td>International Terminal, Level 3, San Francisco...</td>\n",
       "      <td>-122.392409,37.615966,0</td>\n",
       "      <td>San Francisco Int'l Airport (SFIA)</td>\n",
       "      <td>Level 3</td>\n",
       "    </tr>\n",
       "  </tbody>\n",
       "</table>\n",
       "</div>"
      ],
      "text/plain": [
       "   Abbreviation                                        Description  \\\n",
       "38         SFIA  International Terminal, Level 3, San Francisco...   \n",
       "\n",
       "                   Location                                Name     City  \n",
       "38  -122.392409,37.615966,0  San Francisco Int'l Airport (SFIA)  Level 3  "
      ]
     },
     "execution_count": 15,
     "metadata": {},
     "output_type": "execute_result"
    }
   ],
   "source": [
    "#Checking out Level 3\n",
    "station_df[station_df['City'] == 'Level 3']"
   ]
  },
  {
   "cell_type": "code",
   "execution_count": 16,
   "metadata": {},
   "outputs": [],
   "source": [
    "#Changing City from Level 3 to San Francsisco\n",
    "station_df['City'].replace('Level 3', 'San Francisco', inplace = True)"
   ]
  },
  {
   "cell_type": "code",
   "execution_count": 17,
   "metadata": {},
   "outputs": [],
   "source": [
    "#Separating attribute Location into attributes for longitude and latitude\n",
    "station_df['Latitude'] = station_df['Location'].apply(lambda x: x.split(',')[0])\n",
    "station_df['Longitude'] = station_df['Location'].apply(lambda x: x.split(',')[1])"
   ]
  },
  {
   "cell_type": "markdown",
   "metadata": {},
   "source": [
    "### Merging station dataframe with main dataframe"
   ]
  },
  {
   "cell_type": "code",
   "execution_count": 18,
   "metadata": {},
   "outputs": [],
   "source": [
    "#Renaming station dataframe columns to distinguish Origin station info prior to merging to main dataframe\n",
    "origin_df = station_df[['Abbreviation','Name', 'Latitude', 'Longitude', 'City']]\n",
    "origin_df = origin_df.rename(columns = {'Abbreviation': 'Origin', \n",
    "                                        'Name': 'Ori_Name', \n",
    "                                        'Latitude': 'Ori_Latitude', \n",
    "                                        'Longitude': 'Ori_Longitude', \n",
    "                                        'City': 'Ori_City'})"
   ]
  },
  {
   "cell_type": "code",
   "execution_count": 19,
   "metadata": {
    "colab": {},
    "colab_type": "code",
    "id": "Oinh9isjQCcN"
   },
   "outputs": [],
   "source": [
    "#Renaming Abbreviation, Location and Name columns in order to distinguish Destination stations prior to merging station \n",
    "#dataframe with the main dataframe\n",
    "dest_df = station_df[['Abbreviation','Name', 'Latitude', 'Longitude', 'City']]\n",
    "dest_df = dest_df.rename(columns = {'Abbreviation': 'Destination', \n",
    "                                    'Name': 'Dest_Name', \n",
    "                                    'Latitude': 'Dest_Latitude', \n",
    "                                    'Longitude': 'Dest_Longitude', \n",
    "                                    'City' : 'Dest_ City'})"
   ]
  },
  {
   "cell_type": "code",
   "execution_count": 20,
   "metadata": {
    "colab": {},
    "colab_type": "code",
    "id": "jHYKTBdAQYK8"
   },
   "outputs": [],
   "source": [
    "#Merging Destination station dataframe with main dataframe for Destination\n",
    "df = df.merge(origin_df, how = 'left', on = 'Origin')"
   ]
  },
  {
   "cell_type": "code",
   "execution_count": 21,
   "metadata": {
    "colab": {
     "base_uri": "https://localhost:8080/",
     "height": 181
    },
    "colab_type": "code",
    "id": "bYS6xlLwRQpo",
    "outputId": "8b15fa1d-2a84-41fc-cb1f-b175c92cdc1d"
   },
   "outputs": [
    {
     "data": {
      "text/plain": [
       "Origin                0\n",
       "Destination           0\n",
       "Throughput            0\n",
       "DateTime              0\n",
       "Ori_Name          15440\n",
       "Ori_Latitude      15440\n",
       "Ori_Longitude     15440\n",
       "Ori_City          15440\n",
       "Dest_Name         16551\n",
       "Dest_Latitude     16551\n",
       "Dest_Longitude    16551\n",
       "Dest_ City        16551\n",
       "dtype: int64"
      ]
     },
     "execution_count": 21,
     "metadata": {},
     "output_type": "execute_result"
    }
   ],
   "source": [
    "#Merging Origin station dataframe with main dataframe\n",
    "df = df.merge(dest_df, how = 'left', on = 'Destination')\n",
    "#Checking for nulls in newly merged dataframe\n",
    "df.isnull().sum()"
   ]
  },
  {
   "cell_type": "code",
   "execution_count": 22,
   "metadata": {},
   "outputs": [
    {
     "data": {
      "text/html": [
       "<div>\n",
       "<style scoped>\n",
       "    .dataframe tbody tr th:only-of-type {\n",
       "        vertical-align: middle;\n",
       "    }\n",
       "\n",
       "    .dataframe tbody tr th {\n",
       "        vertical-align: top;\n",
       "    }\n",
       "\n",
       "    .dataframe thead th {\n",
       "        text-align: right;\n",
       "    }\n",
       "</style>\n",
       "<table border=\"1\" class=\"dataframe\">\n",
       "  <thead>\n",
       "    <tr style=\"text-align: right;\">\n",
       "      <th></th>\n",
       "      <th>Origin</th>\n",
       "      <th>Destination</th>\n",
       "      <th>Throughput</th>\n",
       "      <th>DateTime</th>\n",
       "      <th>Ori_Name</th>\n",
       "      <th>Ori_Latitude</th>\n",
       "      <th>Ori_Longitude</th>\n",
       "      <th>Ori_City</th>\n",
       "      <th>Dest_Name</th>\n",
       "      <th>Dest_Latitude</th>\n",
       "      <th>Dest_Longitude</th>\n",
       "      <th>Dest_ City</th>\n",
       "    </tr>\n",
       "  </thead>\n",
       "  <tbody>\n",
       "    <tr>\n",
       "      <th>6115834</th>\n",
       "      <td>WSPR</td>\n",
       "      <td>WSPR</td>\n",
       "      <td>1</td>\n",
       "      <td>2016-08-11 12:00:00</td>\n",
       "      <td>NaN</td>\n",
       "      <td>NaN</td>\n",
       "      <td>NaN</td>\n",
       "      <td>NaN</td>\n",
       "      <td>NaN</td>\n",
       "      <td>NaN</td>\n",
       "      <td>NaN</td>\n",
       "      <td>NaN</td>\n",
       "    </tr>\n",
       "    <tr>\n",
       "      <th>6273145</th>\n",
       "      <td>WSPR</td>\n",
       "      <td>WSPR</td>\n",
       "      <td>1</td>\n",
       "      <td>2016-08-17 11:00:00</td>\n",
       "      <td>NaN</td>\n",
       "      <td>NaN</td>\n",
       "      <td>NaN</td>\n",
       "      <td>NaN</td>\n",
       "      <td>NaN</td>\n",
       "      <td>NaN</td>\n",
       "      <td>NaN</td>\n",
       "      <td>NaN</td>\n",
       "    </tr>\n",
       "    <tr>\n",
       "      <th>6298044</th>\n",
       "      <td>19TH</td>\n",
       "      <td>WSPR</td>\n",
       "      <td>1</td>\n",
       "      <td>2016-08-18 09:00:00</td>\n",
       "      <td>19th St. Oakland (19TH)</td>\n",
       "      <td>-122.268602</td>\n",
       "      <td>37.808350</td>\n",
       "      <td>Oakland</td>\n",
       "      <td>NaN</td>\n",
       "      <td>NaN</td>\n",
       "      <td>NaN</td>\n",
       "      <td>NaN</td>\n",
       "    </tr>\n",
       "    <tr>\n",
       "      <th>6298569</th>\n",
       "      <td>EMBR</td>\n",
       "      <td>WSPR</td>\n",
       "      <td>1</td>\n",
       "      <td>2016-08-18 09:00:00</td>\n",
       "      <td>Embarcadero (EMBR)</td>\n",
       "      <td>-122.397020</td>\n",
       "      <td>37.792874</td>\n",
       "      <td>San Francisco</td>\n",
       "      <td>NaN</td>\n",
       "      <td>NaN</td>\n",
       "      <td>NaN</td>\n",
       "      <td>NaN</td>\n",
       "    </tr>\n",
       "    <tr>\n",
       "      <th>6301054</th>\n",
       "      <td>WSPR</td>\n",
       "      <td>WSPR</td>\n",
       "      <td>1</td>\n",
       "      <td>2016-08-18 10:00:00</td>\n",
       "      <td>NaN</td>\n",
       "      <td>NaN</td>\n",
       "      <td>NaN</td>\n",
       "      <td>NaN</td>\n",
       "      <td>NaN</td>\n",
       "      <td>NaN</td>\n",
       "      <td>NaN</td>\n",
       "      <td>NaN</td>\n",
       "    </tr>\n",
       "    <tr>\n",
       "      <th>...</th>\n",
       "      <td>...</td>\n",
       "      <td>...</td>\n",
       "      <td>...</td>\n",
       "      <td>...</td>\n",
       "      <td>...</td>\n",
       "      <td>...</td>\n",
       "      <td>...</td>\n",
       "      <td>...</td>\n",
       "      <td>...</td>\n",
       "      <td>...</td>\n",
       "      <td>...</td>\n",
       "      <td>...</td>\n",
       "    </tr>\n",
       "    <tr>\n",
       "      <th>13284889</th>\n",
       "      <td>MONT</td>\n",
       "      <td>WSPR</td>\n",
       "      <td>9</td>\n",
       "      <td>2017-05-03 23:00:00</td>\n",
       "      <td>Montgomery St. (MONT)</td>\n",
       "      <td>-122.401066</td>\n",
       "      <td>37.789405</td>\n",
       "      <td>San Francisco</td>\n",
       "      <td>NaN</td>\n",
       "      <td>NaN</td>\n",
       "      <td>NaN</td>\n",
       "      <td>NaN</td>\n",
       "    </tr>\n",
       "    <tr>\n",
       "      <th>13285017</th>\n",
       "      <td>POWL</td>\n",
       "      <td>WSPR</td>\n",
       "      <td>2</td>\n",
       "      <td>2017-05-03 23:00:00</td>\n",
       "      <td>Powell St. (POWL)</td>\n",
       "      <td>-122.407974</td>\n",
       "      <td>37.784471</td>\n",
       "      <td>San Francisco</td>\n",
       "      <td>NaN</td>\n",
       "      <td>NaN</td>\n",
       "      <td>NaN</td>\n",
       "      <td>NaN</td>\n",
       "    </tr>\n",
       "    <tr>\n",
       "      <th>13285068</th>\n",
       "      <td>SANL</td>\n",
       "      <td>WSPR</td>\n",
       "      <td>1</td>\n",
       "      <td>2017-05-03 23:00:00</td>\n",
       "      <td>San Leandro (SANL)</td>\n",
       "      <td>-122.160844</td>\n",
       "      <td>37.721947</td>\n",
       "      <td>San Leandro</td>\n",
       "      <td>NaN</td>\n",
       "      <td>NaN</td>\n",
       "      <td>NaN</td>\n",
       "      <td>NaN</td>\n",
       "    </tr>\n",
       "    <tr>\n",
       "      <th>13285118</th>\n",
       "      <td>SFIA</td>\n",
       "      <td>WSPR</td>\n",
       "      <td>5</td>\n",
       "      <td>2017-05-03 23:00:00</td>\n",
       "      <td>San Francisco Int'l Airport (SFIA)</td>\n",
       "      <td>-122.392409</td>\n",
       "      <td>37.615966</td>\n",
       "      <td>San Francisco</td>\n",
       "      <td>NaN</td>\n",
       "      <td>NaN</td>\n",
       "      <td>NaN</td>\n",
       "      <td>NaN</td>\n",
       "    </tr>\n",
       "    <tr>\n",
       "      <th>13285126</th>\n",
       "      <td>SHAY</td>\n",
       "      <td>WSPR</td>\n",
       "      <td>1</td>\n",
       "      <td>2017-05-03 23:00:00</td>\n",
       "      <td>South Hayward (SHAY)</td>\n",
       "      <td>-122.057189</td>\n",
       "      <td>37.634375</td>\n",
       "      <td>Hayward</td>\n",
       "      <td>NaN</td>\n",
       "      <td>NaN</td>\n",
       "      <td>NaN</td>\n",
       "      <td>NaN</td>\n",
       "    </tr>\n",
       "  </tbody>\n",
       "</table>\n",
       "<p>16551 rows × 12 columns</p>\n",
       "</div>"
      ],
      "text/plain": [
       "         Origin Destination  Throughput            DateTime  \\\n",
       "6115834    WSPR        WSPR           1 2016-08-11 12:00:00   \n",
       "6273145    WSPR        WSPR           1 2016-08-17 11:00:00   \n",
       "6298044    19TH        WSPR           1 2016-08-18 09:00:00   \n",
       "6298569    EMBR        WSPR           1 2016-08-18 09:00:00   \n",
       "6301054    WSPR        WSPR           1 2016-08-18 10:00:00   \n",
       "...         ...         ...         ...                 ...   \n",
       "13284889   MONT        WSPR           9 2017-05-03 23:00:00   \n",
       "13285017   POWL        WSPR           2 2017-05-03 23:00:00   \n",
       "13285068   SANL        WSPR           1 2017-05-03 23:00:00   \n",
       "13285118   SFIA        WSPR           5 2017-05-03 23:00:00   \n",
       "13285126   SHAY        WSPR           1 2017-05-03 23:00:00   \n",
       "\n",
       "                                    Ori_Name Ori_Latitude Ori_Longitude  \\\n",
       "6115834                                  NaN          NaN           NaN   \n",
       "6273145                                  NaN          NaN           NaN   \n",
       "6298044              19th St. Oakland (19TH)  -122.268602     37.808350   \n",
       "6298569                   Embarcadero (EMBR)  -122.397020     37.792874   \n",
       "6301054                                  NaN          NaN           NaN   \n",
       "...                                      ...          ...           ...   \n",
       "13284889               Montgomery St. (MONT)  -122.401066     37.789405   \n",
       "13285017                   Powell St. (POWL)  -122.407974     37.784471   \n",
       "13285068                  San Leandro (SANL)  -122.160844     37.721947   \n",
       "13285118  San Francisco Int'l Airport (SFIA)  -122.392409     37.615966   \n",
       "13285126                South Hayward (SHAY)  -122.057189     37.634375   \n",
       "\n",
       "                Ori_City Dest_Name Dest_Latitude Dest_Longitude Dest_ City  \n",
       "6115834              NaN       NaN           NaN            NaN        NaN  \n",
       "6273145              NaN       NaN           NaN            NaN        NaN  \n",
       "6298044         Oakland        NaN           NaN            NaN        NaN  \n",
       "6298569   San Francisco        NaN           NaN            NaN        NaN  \n",
       "6301054              NaN       NaN           NaN            NaN        NaN  \n",
       "...                  ...       ...           ...            ...        ...  \n",
       "13284889  San Francisco        NaN           NaN            NaN        NaN  \n",
       "13285017  San Francisco        NaN           NaN            NaN        NaN  \n",
       "13285068    San Leandro        NaN           NaN            NaN        NaN  \n",
       "13285118   San Francisco       NaN           NaN            NaN        NaN  \n",
       "13285126        Hayward        NaN           NaN            NaN        NaN  \n",
       "\n",
       "[16551 rows x 12 columns]"
      ]
     },
     "execution_count": 22,
     "metadata": {},
     "output_type": "execute_result"
    }
   ],
   "source": [
    "#Data above shows that there are 16551 null cells for Destination location and Name, so displaying dataframe containing\n",
    "#these nulls for further observation\n",
    "df[df['Dest_Name'].isnull()]"
   ]
  },
  {
   "cell_type": "code",
   "execution_count": 23,
   "metadata": {},
   "outputs": [
    {
     "data": {
      "text/plain": [
       "array(['WSPR'], dtype=object)"
      ]
     },
     "execution_count": 23,
     "metadata": {},
     "output_type": "execute_result"
    }
   ],
   "source": [
    "#Common factor in Destination nulls may regard to the Destination attribute; therefore, checking the unique values here.\n",
    "df[df['Dest_Name'].isnull()]['Destination'].unique()"
   ]
  },
  {
   "cell_type": "code",
   "execution_count": 24,
   "metadata": {},
   "outputs": [
    {
     "data": {
      "text/plain": [
       "array(['12TH', '16TH', '19TH', '24TH', 'ASHB', 'BALB', 'BAYF', 'CAST',\n",
       "       'CIVC', 'COLS', 'COLM', 'CONC', 'DALY', 'DBRK', 'DELN', 'DUBL',\n",
       "       'EMBR', 'FRMT', 'FTVL', 'GLEN', 'HAYW', 'LAFY', 'LAKE', 'MCAR',\n",
       "       'MLBR', 'MONT', 'NBRK', 'NCON', 'OAKL', 'ORIN', 'PHIL', 'PITT',\n",
       "       'PLZA', 'POWL', 'RICH', 'ROCK', 'SANL', 'SBRN', 'SFIA', 'SHAY',\n",
       "       'SSAN', 'UCTY', 'WARM', 'WCRK', 'WDUB', 'WOAK'], dtype=object)"
      ]
     },
     "execution_count": 24,
     "metadata": {},
     "output_type": "execute_result"
    }
   ],
   "source": [
    "#Destination attribute containing WSPR as destination abbreviation is cross-checked with the original list of station\n",
    "#abbreviation since WSPR must not exist, leading to null cells for Location and Name\n",
    "station_df['Abbreviation'].unique()"
   ]
  },
  {
   "cell_type": "markdown",
   "metadata": {},
   "source": [
    "There seems to be a destination station abbreviated as WSPR that does not exist in the original list from station data provided. We will move on to see if this is the same case for the nulls in Origin."
   ]
  },
  {
   "cell_type": "code",
   "execution_count": 25,
   "metadata": {
    "colab": {
     "base_uri": "https://localhost:8080/",
     "height": 35
    },
    "colab_type": "code",
    "id": "cGY6RWu-RQpx",
    "outputId": "7bfb19a6-371a-450a-af2a-4b88d77cf619"
   },
   "outputs": [
    {
     "data": {
      "text/plain": [
       "array(['WSPR'], dtype=object)"
      ]
     },
     "execution_count": 25,
     "metadata": {},
     "output_type": "execute_result"
    }
   ],
   "source": [
    "#Viewing the unique data in Origin that is causing null for Origin location and Name\n",
    "Origin_null = df[df['Ori_Name'].isnull()]\n",
    "Origin_null['Origin'].unique()"
   ]
  },
  {
   "cell_type": "code",
   "execution_count": 26,
   "metadata": {
    "colab": {
     "base_uri": "https://localhost:8080/",
     "height": 54
    },
    "colab_type": "code",
    "id": "hSuFd63pRQp3",
    "outputId": "b0a59583-66a1-471a-a065-32c10bb76647"
   },
   "outputs": [
    {
     "data": {
      "text/plain": [
       "False    15440\n",
       "Name: Origin, dtype: int64"
      ]
     },
     "execution_count": 26,
     "metadata": {},
     "output_type": "execute_result"
    }
   ],
   "source": [
    "#Double checking if WSPR was originally in station dataframe\n",
    "Origin_null['Origin'].isin(station_df['Abbreviation']).value_counts()"
   ]
  },
  {
   "cell_type": "markdown",
   "metadata": {},
   "source": [
    "Since the cause for nulls in both Destination and Origin is a station abbreviated as WSPR, we will have to remove these data as we are unsure if this is a mistake on the list of stations given or a typo on the BART data provided for 2016 and 2017, to which we are unable to identify the closest station resembling this station. "
   ]
  },
  {
   "cell_type": "code",
   "execution_count": 27,
   "metadata": {
    "colab": {},
    "colab_type": "code",
    "id": "g9mz4wU6RQqB"
   },
   "outputs": [],
   "source": [
    "#Dropping all null cells from Origin/Destination stations that do not exist in station dataframe\n",
    "df.dropna(axis = 0, inplace = True)"
   ]
  },
  {
   "cell_type": "code",
   "execution_count": 28,
   "metadata": {
    "colab": {},
    "colab_type": "code",
    "id": "ZY-nvLoIIBbX"
   },
   "outputs": [
    {
     "data": {
      "text/html": [
       "<div>\n",
       "<style scoped>\n",
       "    .dataframe tbody tr th:only-of-type {\n",
       "        vertical-align: middle;\n",
       "    }\n",
       "\n",
       "    .dataframe tbody tr th {\n",
       "        vertical-align: top;\n",
       "    }\n",
       "\n",
       "    .dataframe thead th {\n",
       "        text-align: right;\n",
       "    }\n",
       "</style>\n",
       "<table border=\"1\" class=\"dataframe\">\n",
       "  <thead>\n",
       "    <tr style=\"text-align: right;\">\n",
       "      <th></th>\n",
       "      <th>Origin</th>\n",
       "      <th>Destination</th>\n",
       "      <th>Throughput</th>\n",
       "      <th>DateTime</th>\n",
       "      <th>Ori_Name</th>\n",
       "      <th>Ori_Latitude</th>\n",
       "      <th>Ori_Longitude</th>\n",
       "      <th>Ori_City</th>\n",
       "      <th>Dest_Name</th>\n",
       "      <th>Dest_Latitude</th>\n",
       "      <th>Dest_Longitude</th>\n",
       "      <th>Dest_ City</th>\n",
       "    </tr>\n",
       "  </thead>\n",
       "  <tbody>\n",
       "    <tr>\n",
       "      <th>0</th>\n",
       "      <td>12TH</td>\n",
       "      <td>12TH</td>\n",
       "      <td>1</td>\n",
       "      <td>2016-01-01</td>\n",
       "      <td>12th St. Oakland City Center (12TH)</td>\n",
       "      <td>-122.271450</td>\n",
       "      <td>37.803768</td>\n",
       "      <td>Oakland</td>\n",
       "      <td>12th St. Oakland City Center (12TH)</td>\n",
       "      <td>-122.271450</td>\n",
       "      <td>37.803768</td>\n",
       "      <td>Oakland</td>\n",
       "    </tr>\n",
       "    <tr>\n",
       "      <th>1</th>\n",
       "      <td>12TH</td>\n",
       "      <td>16TH</td>\n",
       "      <td>1</td>\n",
       "      <td>2016-01-01</td>\n",
       "      <td>12th St. Oakland City Center (12TH)</td>\n",
       "      <td>-122.271450</td>\n",
       "      <td>37.803768</td>\n",
       "      <td>Oakland</td>\n",
       "      <td>16th St. Mission (16TH)</td>\n",
       "      <td>-122.419694</td>\n",
       "      <td>37.765062</td>\n",
       "      <td>San Francisco</td>\n",
       "    </tr>\n",
       "    <tr>\n",
       "      <th>2</th>\n",
       "      <td>12TH</td>\n",
       "      <td>24TH</td>\n",
       "      <td>4</td>\n",
       "      <td>2016-01-01</td>\n",
       "      <td>12th St. Oakland City Center (12TH)</td>\n",
       "      <td>-122.271450</td>\n",
       "      <td>37.803768</td>\n",
       "      <td>Oakland</td>\n",
       "      <td>24th St. Mission (24TH)</td>\n",
       "      <td>-122.418143</td>\n",
       "      <td>37.752470</td>\n",
       "      <td>San Francisco</td>\n",
       "    </tr>\n",
       "    <tr>\n",
       "      <th>3</th>\n",
       "      <td>12TH</td>\n",
       "      <td>ASHB</td>\n",
       "      <td>4</td>\n",
       "      <td>2016-01-01</td>\n",
       "      <td>12th St. Oakland City Center (12TH)</td>\n",
       "      <td>-122.271450</td>\n",
       "      <td>37.803768</td>\n",
       "      <td>Oakland</td>\n",
       "      <td>Ashby (ASHB)</td>\n",
       "      <td>-122.270062</td>\n",
       "      <td>37.852803</td>\n",
       "      <td>Berkeley</td>\n",
       "    </tr>\n",
       "    <tr>\n",
       "      <th>4</th>\n",
       "      <td>12TH</td>\n",
       "      <td>BALB</td>\n",
       "      <td>2</td>\n",
       "      <td>2016-01-01</td>\n",
       "      <td>12th St. Oakland City Center (12TH)</td>\n",
       "      <td>-122.271450</td>\n",
       "      <td>37.803768</td>\n",
       "      <td>Oakland</td>\n",
       "      <td>Balboa Park (BALB)</td>\n",
       "      <td>-122.447506</td>\n",
       "      <td>37.721585</td>\n",
       "      <td>San Francisco</td>\n",
       "    </tr>\n",
       "  </tbody>\n",
       "</table>\n",
       "</div>"
      ],
      "text/plain": [
       "  Origin Destination  Throughput   DateTime  \\\n",
       "0   12TH        12TH           1 2016-01-01   \n",
       "1   12TH        16TH           1 2016-01-01   \n",
       "2   12TH        24TH           4 2016-01-01   \n",
       "3   12TH        ASHB           4 2016-01-01   \n",
       "4   12TH        BALB           2 2016-01-01   \n",
       "\n",
       "                              Ori_Name Ori_Latitude Ori_Longitude  Ori_City  \\\n",
       "0  12th St. Oakland City Center (12TH)  -122.271450     37.803768  Oakland    \n",
       "1  12th St. Oakland City Center (12TH)  -122.271450     37.803768  Oakland    \n",
       "2  12th St. Oakland City Center (12TH)  -122.271450     37.803768  Oakland    \n",
       "3  12th St. Oakland City Center (12TH)  -122.271450     37.803768  Oakland    \n",
       "4  12th St. Oakland City Center (12TH)  -122.271450     37.803768  Oakland    \n",
       "\n",
       "                             Dest_Name Dest_Latitude Dest_Longitude  \\\n",
       "0  12th St. Oakland City Center (12TH)   -122.271450      37.803768   \n",
       "1              16th St. Mission (16TH)   -122.419694      37.765062   \n",
       "2              24th St. Mission (24TH)   -122.418143      37.752470   \n",
       "3                         Ashby (ASHB)   -122.270062      37.852803   \n",
       "4                   Balboa Park (BALB)   -122.447506      37.721585   \n",
       "\n",
       "       Dest_ City  \n",
       "0        Oakland   \n",
       "1  San Francisco   \n",
       "2  San Francisco   \n",
       "3       Berkeley   \n",
       "4  San Francisco   "
      ]
     },
     "execution_count": 28,
     "metadata": {},
     "output_type": "execute_result"
    }
   ],
   "source": [
    "df.head()"
   ]
  },
  {
   "cell_type": "markdown",
   "metadata": {},
   "source": [
    "## Data Visualization"
   ]
  },
  {
   "cell_type": "code",
   "execution_count": 29,
   "metadata": {},
   "outputs": [
    {
     "data": {
      "text/plain": [
       "1826"
      ]
     },
     "execution_count": 29,
     "metadata": {},
     "output_type": "execute_result"
    }
   ],
   "source": [
    "df['Throughput'].max()"
   ]
  },
  {
   "cell_type": "code",
   "execution_count": 30,
   "metadata": {},
   "outputs": [
    {
     "data": {
      "image/png": "[encoded data removed]",
      "text/plain": [
       "<Figure size 432x288 with 1 Axes>"
      ]
     },
     "metadata": {
      "needs_background": "light"
     },
     "output_type": "display_data"
    }
   ],
   "source": [
    "plt.hist(df['Throughput'], bins = 100)\n",
    "plt.xlabel('Station Throughput')\n",
    "plt.title('Histogram of Throughput Distribution')\n",
    "plt.show()"
   ]
  },
  {
   "cell_type": "code",
   "execution_count": 31,
   "metadata": {
    "scrolled": true
   },
   "outputs": [
    {
     "name": "stderr",
     "output_type": "stream",
     "text": [
      "C:\\Users\\Kimberly\\Anaconda3\\envs\\ComputerVision\\lib\\site-packages\\pandas\\plotting\\_matplotlib\\converter.py:103: FutureWarning: Using an implicitly registered datetime converter for a matplotlib plotting method. The converter was registered by pandas on import. Future versions of pandas will require you to explicitly register matplotlib converters.\n",
      "\n",
      "To register the converters:\n",
      "\t>>> from pandas.plotting import register_matplotlib_converters\n",
      "\t>>> register_matplotlib_converters()\n",
      "  warnings.warn(msg, FutureWarning)\n"
     ]
    },
    {
     "data": {
      "image/png": "[encoded data removed]",
      "text/plain": [
       "<Figure size 1440x864 with 1 Axes>"
      ]
     },
     "metadata": {
      "needs_background": "light"
     },
     "output_type": "display_data"
    }
   ],
   "source": [
    "total_throughput = df.groupby('DateTime')['Throughput'].sum().reset_index()\n",
    "\n",
    "plt.figure(figsize = (20, 12))\n",
    "plt.plot(total_throughput['DateTime'], total_throughput['Throughput'])\n",
    "plt.title('Total Number of Throughput by Hour per Day')\n",
    "plt.xlabel('DateTime')\n",
    "plt.xticks(rotation = 30)\n",
    "plt.ylabel('Number of Throughput')\n",
    "plt.show();"
   ]
  },
  {
   "cell_type": "markdown",
   "metadata": {},
   "source": [
    "### Data Analytics Question #1"
   ]
  },
  {
   "cell_type": "markdown",
   "metadata": {},
   "source": [
    "Which BART station is the busiest?"
   ]
  },
  {
   "cell_type": "code",
   "execution_count": 32,
   "metadata": {
    "colab": {
     "base_uri": "https://localhost:8080/",
     "height": 131
    },
    "colab_type": "code",
    "id": "qPPJ96y0ht2V",
    "outputId": "832b4ab2-8e40-4dfa-a1bb-dfcb075e84ac"
   },
   "outputs": [
    {
     "name": "stdout",
     "output_type": "stream",
     "text": [
      "the number of unique values is:  950\n"
     ]
    },
    {
     "data": {
      "text/html": [
       "<div>\n",
       "<style scoped>\n",
       "    .dataframe tbody tr th:only-of-type {\n",
       "        vertical-align: middle;\n",
       "    }\n",
       "\n",
       "    .dataframe tbody tr th {\n",
       "        vertical-align: top;\n",
       "    }\n",
       "\n",
       "    .dataframe thead th {\n",
       "        text-align: right;\n",
       "    }\n",
       "</style>\n",
       "<table border=\"1\" class=\"dataframe\">\n",
       "  <thead>\n",
       "    <tr style=\"text-align: right;\">\n",
       "      <th></th>\n",
       "      <th>Origin</th>\n",
       "      <th>Destination</th>\n",
       "      <th>Throughput</th>\n",
       "      <th>DateTime</th>\n",
       "      <th>Ori_Name</th>\n",
       "      <th>Ori_Latitude</th>\n",
       "      <th>Ori_Longitude</th>\n",
       "      <th>Ori_City</th>\n",
       "      <th>Dest_Name</th>\n",
       "      <th>Dest_Latitude</th>\n",
       "      <th>Dest_Longitude</th>\n",
       "      <th>Dest_ City</th>\n",
       "    </tr>\n",
       "  </thead>\n",
       "  <tbody>\n",
       "    <tr>\n",
       "      <th>10504519</th>\n",
       "      <td>24TH</td>\n",
       "      <td>CIVC</td>\n",
       "      <td>1826</td>\n",
       "      <td>2017-01-21 16:00:00</td>\n",
       "      <td>24th St. Mission (24TH)</td>\n",
       "      <td>-122.418143</td>\n",
       "      <td>37.752470</td>\n",
       "      <td>San Francisco</td>\n",
       "      <td>Civic Center/UN Plaza (CIVC)</td>\n",
       "      <td>-122.414123</td>\n",
       "      <td>37.779732</td>\n",
       "      <td>San Francisco</td>\n",
       "    </tr>\n",
       "  </tbody>\n",
       "</table>\n",
       "</div>"
      ],
      "text/plain": [
       "         Origin Destination  Throughput            DateTime  \\\n",
       "10504519   24TH        CIVC        1826 2017-01-21 16:00:00   \n",
       "\n",
       "                         Ori_Name Ori_Latitude Ori_Longitude        Ori_City  \\\n",
       "10504519  24th St. Mission (24TH)  -122.418143     37.752470  San Francisco    \n",
       "\n",
       "                             Dest_Name Dest_Latitude Dest_Longitude  \\\n",
       "10504519  Civic Center/UN Plaza (CIVC)   -122.414123      37.779732   \n",
       "\n",
       "              Dest_ City  \n",
       "10504519  San Francisco   "
      ]
     },
     "execution_count": 32,
     "metadata": {},
     "output_type": "execute_result"
    }
   ],
   "source": [
    "#Viewing the number of unique values in column Throughput and the data that has the highest number of throughput\n",
    "print('the number of unique values is: ', df['Throughput'].nunique())\n",
    "df[df['Throughput'] == df['Throughput'].max()]"
   ]
  },
  {
   "cell_type": "code",
   "execution_count": 33,
   "metadata": {
    "colab": {},
    "colab_type": "code",
    "id": "TT_TisWJDyCT"
   },
   "outputs": [],
   "source": [
    "#Start by grouping by the sum of throughputs by station for Origins and Destinations\n",
    "origin = df.groupby(['Origin'])['Throughput'].sum().sort_values(ascending = False)\n",
    "destination = df.groupby(['Destination'])['Throughput'].sum().sort_values(ascending = False)"
   ]
  },
  {
   "cell_type": "code",
   "execution_count": 34,
   "metadata": {
    "colab": {},
    "colab_type": "code",
    "id": "iS2oJRvXPeUn"
   },
   "outputs": [],
   "source": [
    "#Turning the groupby's into dataframes\n",
    "origin_station = pd.DataFrame(data = origin)\n",
    "destination_station = pd.DataFrame(data = destination)"
   ]
  },
  {
   "cell_type": "code",
   "execution_count": 35,
   "metadata": {
    "colab": {
     "base_uri": "https://localhost:8080/",
     "height": 198
    },
    "colab_type": "code",
    "id": "jjoHYTeSQCtv",
    "outputId": "ce83bc7d-db4d-47fe-9544-e87a104e8b4e"
   },
   "outputs": [
    {
     "data": {
      "text/html": [
       "<div>\n",
       "<style scoped>\n",
       "    .dataframe tbody tr th:only-of-type {\n",
       "        vertical-align: middle;\n",
       "    }\n",
       "\n",
       "    .dataframe tbody tr th {\n",
       "        vertical-align: top;\n",
       "    }\n",
       "\n",
       "    .dataframe thead th {\n",
       "        text-align: right;\n",
       "    }\n",
       "</style>\n",
       "<table border=\"1\" class=\"dataframe\">\n",
       "  <thead>\n",
       "    <tr style=\"text-align: right;\">\n",
       "      <th></th>\n",
       "      <th>Station</th>\n",
       "      <th>Origin_Throughput</th>\n",
       "      <th>Dest_Throughput</th>\n",
       "    </tr>\n",
       "  </thead>\n",
       "  <tbody>\n",
       "    <tr>\n",
       "      <th>0</th>\n",
       "      <td>MONT</td>\n",
       "      <td>16092804</td>\n",
       "      <td>16942893</td>\n",
       "    </tr>\n",
       "    <tr>\n",
       "      <th>1</th>\n",
       "      <td>EMBR</td>\n",
       "      <td>15733036</td>\n",
       "      <td>18308407</td>\n",
       "    </tr>\n",
       "    <tr>\n",
       "      <th>2</th>\n",
       "      <td>POWL</td>\n",
       "      <td>14131735</td>\n",
       "      <td>12449029</td>\n",
       "    </tr>\n",
       "    <tr>\n",
       "      <th>3</th>\n",
       "      <td>CIVC</td>\n",
       "      <td>10139171</td>\n",
       "      <td>9386011</td>\n",
       "    </tr>\n",
       "    <tr>\n",
       "      <th>4</th>\n",
       "      <td>24TH</td>\n",
       "      <td>5458712</td>\n",
       "      <td>5302403</td>\n",
       "    </tr>\n",
       "  </tbody>\n",
       "</table>\n",
       "</div>"
      ],
      "text/plain": [
       "  Station  Origin_Throughput  Dest_Throughput\n",
       "0    MONT           16092804         16942893\n",
       "1    EMBR           15733036         18308407\n",
       "2    POWL           14131735         12449029\n",
       "3    CIVC           10139171          9386011\n",
       "4    24TH            5458712          5302403"
      ]
     },
     "execution_count": 35,
     "metadata": {},
     "output_type": "execute_result"
    }
   ],
   "source": [
    "#Built a dataframe that merged both groupby's dataframes\n",
    "busy_station = origin_station.merge(destination_station, how = 'left', left_index = True, right_index = True).reset_index()\n",
    "busy_station.rename(columns = {'Origin': 'Station', 'Throughput_x': 'Origin_Throughput', 'Throughput_y': 'Dest_Throughput'},\n",
    "                    inplace = True)\n",
    "busy_station.head()"
   ]
  },
  {
   "cell_type": "code",
   "execution_count": 36,
   "metadata": {
    "colab": {
     "base_uri": "https://localhost:8080/",
     "height": 78
    },
    "colab_type": "code",
    "id": "Rs1ioBJNS_gJ",
    "outputId": "3931be78-d823-4560-ee60-39e69d912d42"
   },
   "outputs": [
    {
     "data": {
      "text/html": [
       "<div>\n",
       "<style scoped>\n",
       "    .dataframe tbody tr th:only-of-type {\n",
       "        vertical-align: middle;\n",
       "    }\n",
       "\n",
       "    .dataframe tbody tr th {\n",
       "        vertical-align: top;\n",
       "    }\n",
       "\n",
       "    .dataframe thead th {\n",
       "        text-align: right;\n",
       "    }\n",
       "</style>\n",
       "<table border=\"1\" class=\"dataframe\">\n",
       "  <thead>\n",
       "    <tr style=\"text-align: right;\">\n",
       "      <th></th>\n",
       "      <th>Station</th>\n",
       "      <th>Origin_Throughput</th>\n",
       "      <th>Dest_Throughput</th>\n",
       "      <th>Sum_Throughput</th>\n",
       "    </tr>\n",
       "  </thead>\n",
       "  <tbody>\n",
       "    <tr>\n",
       "      <th>1</th>\n",
       "      <td>EMBR</td>\n",
       "      <td>15733036</td>\n",
       "      <td>18308407</td>\n",
       "      <td>34041443</td>\n",
       "    </tr>\n",
       "  </tbody>\n",
       "</table>\n",
       "</div>"
      ],
      "text/plain": [
       "  Station  Origin_Throughput  Dest_Throughput  Sum_Throughput\n",
       "1    EMBR           15733036         18308407        34041443"
      ]
     },
     "execution_count": 36,
     "metadata": {},
     "output_type": "execute_result"
    }
   ],
   "source": [
    "#Summed throughputs from both Origin and Destination for a total number of throughputs and printed the station with \n",
    "#the highest sum of throughputs\n",
    "busy_station['Sum_Throughput'] = busy_station['Origin_Throughput'] + busy_station['Dest_Throughput']\n",
    "busy_station[busy_station['Sum_Throughput'] == busy_station['Sum_Throughput'].max()]"
   ]
  },
  {
   "cell_type": "markdown",
   "metadata": {},
   "source": [
    "Station EMBR is the busiest station."
   ]
  },
  {
   "cell_type": "markdown",
   "metadata": {},
   "source": [
    "### Data Anlytics Question #2"
   ]
  },
  {
   "cell_type": "markdown",
   "metadata": {},
   "source": [
    "What is the least popular station?"
   ]
  },
  {
   "cell_type": "code",
   "execution_count": 37,
   "metadata": {
    "colab": {
     "base_uri": "https://localhost:8080/",
     "height": 78
    },
    "colab_type": "code",
    "id": "RogH8qEBSeB5",
    "outputId": "24391676-b8bb-4de1-d9d4-ffc6ebc86269"
   },
   "outputs": [
    {
     "data": {
      "text/html": [
       "<div>\n",
       "<style scoped>\n",
       "    .dataframe tbody tr th:only-of-type {\n",
       "        vertical-align: middle;\n",
       "    }\n",
       "\n",
       "    .dataframe tbody tr th {\n",
       "        vertical-align: top;\n",
       "    }\n",
       "\n",
       "    .dataframe thead th {\n",
       "        text-align: right;\n",
       "    }\n",
       "</style>\n",
       "<table border=\"1\" class=\"dataframe\">\n",
       "  <thead>\n",
       "    <tr style=\"text-align: right;\">\n",
       "      <th></th>\n",
       "      <th>Station</th>\n",
       "      <th>Origin_Throughput</th>\n",
       "      <th>Dest_Throughput</th>\n",
       "      <th>Sum_Throughput</th>\n",
       "    </tr>\n",
       "  </thead>\n",
       "  <tbody>\n",
       "    <tr>\n",
       "      <th>44</th>\n",
       "      <td>OAKL</td>\n",
       "      <td>698694</td>\n",
       "      <td>620832</td>\n",
       "      <td>1319526</td>\n",
       "    </tr>\n",
       "  </tbody>\n",
       "</table>\n",
       "</div>"
      ],
      "text/plain": [
       "   Station  Origin_Throughput  Dest_Throughput  Sum_Throughput\n",
       "44    OAKL             698694           620832         1319526"
      ]
     },
     "execution_count": 37,
     "metadata": {},
     "output_type": "execute_result"
    }
   ],
   "source": [
    "#Least popular BART station\n",
    "busy_station[busy_station['Sum_Throughput'] == busy_station['Sum_Throughput'].min()]"
   ]
  },
  {
   "cell_type": "markdown",
   "metadata": {},
   "source": [
    "OAKL station is the least popular station."
   ]
  },
  {
   "cell_type": "markdown",
   "metadata": {},
   "source": [
    "### Data Analytics Question #3"
   ]
  },
  {
   "cell_type": "markdown",
   "metadata": {},
   "source": [
    "What is the best time to go to SF from Berkeley if you want to find a seat?"
   ]
  },
  {
   "cell_type": "code",
   "execution_count": 38,
   "metadata": {},
   "outputs": [],
   "source": [
    "#Setting attributes for Date and Time\n",
    "df['Date'] = df['DateTime'].apply(lambda x: x.date())\n",
    "df['Time'] = df['DateTime'].apply(lambda x: x.time())"
   ]
  },
  {
   "cell_type": "code",
   "execution_count": 39,
   "metadata": {},
   "outputs": [
    {
     "data": {
      "text/html": [
       "<div>\n",
       "<style scoped>\n",
       "    .dataframe tbody tr th:only-of-type {\n",
       "        vertical-align: middle;\n",
       "    }\n",
       "\n",
       "    .dataframe tbody tr th {\n",
       "        vertical-align: top;\n",
       "    }\n",
       "\n",
       "    .dataframe thead th {\n",
       "        text-align: right;\n",
       "    }\n",
       "</style>\n",
       "<table border=\"1\" class=\"dataframe\">\n",
       "  <thead>\n",
       "    <tr style=\"text-align: right;\">\n",
       "      <th></th>\n",
       "      <th>Origin</th>\n",
       "      <th>Destination</th>\n",
       "      <th>Throughput</th>\n",
       "      <th>DateTime</th>\n",
       "      <th>Ori_Name</th>\n",
       "      <th>Ori_Latitude</th>\n",
       "      <th>Ori_Longitude</th>\n",
       "      <th>Ori_City</th>\n",
       "      <th>Dest_Name</th>\n",
       "      <th>Dest_Latitude</th>\n",
       "      <th>Dest_Longitude</th>\n",
       "      <th>Dest_ City</th>\n",
       "      <th>Date</th>\n",
       "      <th>Time</th>\n",
       "    </tr>\n",
       "  </thead>\n",
       "  <tbody>\n",
       "    <tr>\n",
       "      <th>134</th>\n",
       "      <td>ASHB</td>\n",
       "      <td>16TH</td>\n",
       "      <td>4</td>\n",
       "      <td>2016-01-01</td>\n",
       "      <td>Ashby (ASHB)</td>\n",
       "      <td>-122.270062</td>\n",
       "      <td>37.852803</td>\n",
       "      <td>Berkeley</td>\n",
       "      <td>16th St. Mission (16TH)</td>\n",
       "      <td>-122.419694</td>\n",
       "      <td>37.765062</td>\n",
       "      <td>San Francisco</td>\n",
       "      <td>2016-01-01</td>\n",
       "      <td>00:00:00</td>\n",
       "    </tr>\n",
       "    <tr>\n",
       "      <th>136</th>\n",
       "      <td>ASHB</td>\n",
       "      <td>CIVC</td>\n",
       "      <td>2</td>\n",
       "      <td>2016-01-01</td>\n",
       "      <td>Ashby (ASHB)</td>\n",
       "      <td>-122.270062</td>\n",
       "      <td>37.852803</td>\n",
       "      <td>Berkeley</td>\n",
       "      <td>Civic Center/UN Plaza (CIVC)</td>\n",
       "      <td>-122.414123</td>\n",
       "      <td>37.779732</td>\n",
       "      <td>San Francisco</td>\n",
       "      <td>2016-01-01</td>\n",
       "      <td>00:00:00</td>\n",
       "    </tr>\n",
       "    <tr>\n",
       "      <th>140</th>\n",
       "      <td>ASHB</td>\n",
       "      <td>EMBR</td>\n",
       "      <td>1</td>\n",
       "      <td>2016-01-01</td>\n",
       "      <td>Ashby (ASHB)</td>\n",
       "      <td>-122.270062</td>\n",
       "      <td>37.852803</td>\n",
       "      <td>Berkeley</td>\n",
       "      <td>Embarcadero (EMBR)</td>\n",
       "      <td>-122.397020</td>\n",
       "      <td>37.792874</td>\n",
       "      <td>San Francisco</td>\n",
       "      <td>2016-01-01</td>\n",
       "      <td>00:00:00</td>\n",
       "    </tr>\n",
       "    <tr>\n",
       "      <th>143</th>\n",
       "      <td>ASHB</td>\n",
       "      <td>MONT</td>\n",
       "      <td>1</td>\n",
       "      <td>2016-01-01</td>\n",
       "      <td>Ashby (ASHB)</td>\n",
       "      <td>-122.270062</td>\n",
       "      <td>37.852803</td>\n",
       "      <td>Berkeley</td>\n",
       "      <td>Montgomery St. (MONT)</td>\n",
       "      <td>-122.401066</td>\n",
       "      <td>37.789405</td>\n",
       "      <td>San Francisco</td>\n",
       "      <td>2016-01-01</td>\n",
       "      <td>00:00:00</td>\n",
       "    </tr>\n",
       "    <tr>\n",
       "      <th>277</th>\n",
       "      <td>DBRK</td>\n",
       "      <td>16TH</td>\n",
       "      <td>2</td>\n",
       "      <td>2016-01-01</td>\n",
       "      <td>Downtown Berkeley (DBRK)</td>\n",
       "      <td>-122.268133</td>\n",
       "      <td>37.870104</td>\n",
       "      <td>Berkeley</td>\n",
       "      <td>16th St. Mission (16TH)</td>\n",
       "      <td>-122.419694</td>\n",
       "      <td>37.765062</td>\n",
       "      <td>San Francisco</td>\n",
       "      <td>2016-01-01</td>\n",
       "      <td>00:00:00</td>\n",
       "    </tr>\n",
       "  </tbody>\n",
       "</table>\n",
       "</div>"
      ],
      "text/plain": [
       "    Origin Destination  Throughput   DateTime                  Ori_Name  \\\n",
       "134   ASHB        16TH           4 2016-01-01              Ashby (ASHB)   \n",
       "136   ASHB        CIVC           2 2016-01-01              Ashby (ASHB)   \n",
       "140   ASHB        EMBR           1 2016-01-01              Ashby (ASHB)   \n",
       "143   ASHB        MONT           1 2016-01-01              Ashby (ASHB)   \n",
       "277   DBRK        16TH           2 2016-01-01  Downtown Berkeley (DBRK)   \n",
       "\n",
       "    Ori_Latitude Ori_Longitude   Ori_City                     Dest_Name  \\\n",
       "134  -122.270062     37.852803  Berkeley        16th St. Mission (16TH)   \n",
       "136  -122.270062     37.852803  Berkeley   Civic Center/UN Plaza (CIVC)   \n",
       "140  -122.270062     37.852803  Berkeley             Embarcadero (EMBR)   \n",
       "143  -122.270062     37.852803  Berkeley          Montgomery St. (MONT)   \n",
       "277  -122.268133     37.870104  Berkeley        16th St. Mission (16TH)   \n",
       "\n",
       "    Dest_Latitude Dest_Longitude      Dest_ City        Date      Time  \n",
       "134   -122.419694      37.765062  San Francisco   2016-01-01  00:00:00  \n",
       "136   -122.414123      37.779732  San Francisco   2016-01-01  00:00:00  \n",
       "140   -122.397020      37.792874  San Francisco   2016-01-01  00:00:00  \n",
       "143   -122.401066      37.789405  San Francisco   2016-01-01  00:00:00  \n",
       "277   -122.419694      37.765062  San Francisco   2016-01-01  00:00:00  "
      ]
     },
     "execution_count": 39,
     "metadata": {},
     "output_type": "execute_result"
    }
   ],
   "source": [
    "#Selecting data where the Origin City is Berkeley and Destinatino City is San Francisco\n",
    "Berkeley_SF = df[(df['Ori_City'] == 'Berkeley ') & (df['Dest_ City'] == 'San Francisco ')]\n",
    "Berkeley_SF.head()"
   ]
  },
  {
   "cell_type": "code",
   "execution_count": 40,
   "metadata": {},
   "outputs": [
    {
     "data": {
      "image/png": "[encoded data removed]",
      "text/plain": [
       "<Figure size 432x288 with 1 Axes>"
      ]
     },
     "metadata": {
      "needs_background": "light"
     },
     "output_type": "display_data"
    }
   ],
   "source": [
    "#Plotting the number of Throughputs at each time\n",
    "plt.plot(Berkeley_SF.groupby('Time')['Throughput'].sum())\n",
    "plt.ylabel('Number of Throughput')\n",
    "plt.title('Total Throughput for BART rides from Berkeley to SF by Time')\n",
    "plt.show();"
   ]
  },
  {
   "cell_type": "code",
   "execution_count": 41,
   "metadata": {},
   "outputs": [
    {
     "data": {
      "text/html": [
       "<div>\n",
       "<style scoped>\n",
       "    .dataframe tbody tr th:only-of-type {\n",
       "        vertical-align: middle;\n",
       "    }\n",
       "\n",
       "    .dataframe tbody tr th {\n",
       "        vertical-align: top;\n",
       "    }\n",
       "\n",
       "    .dataframe thead th {\n",
       "        text-align: right;\n",
       "    }\n",
       "</style>\n",
       "<table border=\"1\" class=\"dataframe\">\n",
       "  <thead>\n",
       "    <tr style=\"text-align: right;\">\n",
       "      <th></th>\n",
       "      <th>Time</th>\n",
       "      <th>Ori_Name</th>\n",
       "      <th>Dest_Name</th>\n",
       "      <th>Throughput</th>\n",
       "    </tr>\n",
       "  </thead>\n",
       "  <tbody>\n",
       "    <tr>\n",
       "      <th>0</th>\n",
       "      <td>00:00:00</td>\n",
       "      <td>Ashby (ASHB)</td>\n",
       "      <td>16th St. Mission (16TH)</td>\n",
       "      <td>641</td>\n",
       "    </tr>\n",
       "    <tr>\n",
       "      <th>1</th>\n",
       "      <td>00:00:00</td>\n",
       "      <td>Ashby (ASHB)</td>\n",
       "      <td>24th St. Mission (24TH)</td>\n",
       "      <td>667</td>\n",
       "    </tr>\n",
       "    <tr>\n",
       "      <th>2</th>\n",
       "      <td>00:00:00</td>\n",
       "      <td>Ashby (ASHB)</td>\n",
       "      <td>Balboa Park (BALB)</td>\n",
       "      <td>188</td>\n",
       "    </tr>\n",
       "    <tr>\n",
       "      <th>3</th>\n",
       "      <td>00:00:00</td>\n",
       "      <td>Ashby (ASHB)</td>\n",
       "      <td>Civic Center/UN Plaza (CIVC)</td>\n",
       "      <td>590</td>\n",
       "    </tr>\n",
       "    <tr>\n",
       "      <th>4</th>\n",
       "      <td>00:00:00</td>\n",
       "      <td>Ashby (ASHB)</td>\n",
       "      <td>Embarcadero (EMBR)</td>\n",
       "      <td>424</td>\n",
       "    </tr>\n",
       "    <tr>\n",
       "      <th>...</th>\n",
       "      <td>...</td>\n",
       "      <td>...</td>\n",
       "      <td>...</td>\n",
       "      <td>...</td>\n",
       "    </tr>\n",
       "    <tr>\n",
       "      <th>557</th>\n",
       "      <td>23:00:00</td>\n",
       "      <td>North Berkeley (NBRK)</td>\n",
       "      <td>Civic Center/UN Plaza (CIVC)</td>\n",
       "      <td>1360</td>\n",
       "    </tr>\n",
       "    <tr>\n",
       "      <th>558</th>\n",
       "      <td>23:00:00</td>\n",
       "      <td>North Berkeley (NBRK)</td>\n",
       "      <td>Embarcadero (EMBR)</td>\n",
       "      <td>998</td>\n",
       "    </tr>\n",
       "    <tr>\n",
       "      <th>559</th>\n",
       "      <td>23:00:00</td>\n",
       "      <td>North Berkeley (NBRK)</td>\n",
       "      <td>Glen Park (GLEN)</td>\n",
       "      <td>303</td>\n",
       "    </tr>\n",
       "    <tr>\n",
       "      <th>560</th>\n",
       "      <td>23:00:00</td>\n",
       "      <td>North Berkeley (NBRK)</td>\n",
       "      <td>Montgomery St. (MONT)</td>\n",
       "      <td>599</td>\n",
       "    </tr>\n",
       "    <tr>\n",
       "      <th>561</th>\n",
       "      <td>23:00:00</td>\n",
       "      <td>North Berkeley (NBRK)</td>\n",
       "      <td>Powell St. (POWL)</td>\n",
       "      <td>905</td>\n",
       "    </tr>\n",
       "  </tbody>\n",
       "</table>\n",
       "<p>562 rows × 4 columns</p>\n",
       "</div>"
      ],
      "text/plain": [
       "         Time               Ori_Name                     Dest_Name  Throughput\n",
       "0    00:00:00           Ashby (ASHB)       16th St. Mission (16TH)         641\n",
       "1    00:00:00           Ashby (ASHB)       24th St. Mission (24TH)         667\n",
       "2    00:00:00           Ashby (ASHB)            Balboa Park (BALB)         188\n",
       "3    00:00:00           Ashby (ASHB)  Civic Center/UN Plaza (CIVC)         590\n",
       "4    00:00:00           Ashby (ASHB)            Embarcadero (EMBR)         424\n",
       "..        ...                    ...                           ...         ...\n",
       "557  23:00:00  North Berkeley (NBRK)  Civic Center/UN Plaza (CIVC)        1360\n",
       "558  23:00:00  North Berkeley (NBRK)            Embarcadero (EMBR)         998\n",
       "559  23:00:00  North Berkeley (NBRK)              Glen Park (GLEN)         303\n",
       "560  23:00:00  North Berkeley (NBRK)         Montgomery St. (MONT)         599\n",
       "561  23:00:00  North Berkeley (NBRK)             Powell St. (POWL)         905\n",
       "\n",
       "[562 rows x 4 columns]"
      ]
     },
     "execution_count": 41,
     "metadata": {},
     "output_type": "execute_result"
    }
   ],
   "source": [
    "#Grouped by data with Time, Origin Name, and Destination Name with the summed Throughput\n",
    "Berkeley_SF = Berkeley_SF.groupby(['Time', 'Ori_Name', 'Dest_Name'])['Throughput'].sum().reset_index()\n",
    "Berkeley_SF"
   ]
  },
  {
   "cell_type": "code",
   "execution_count": 42,
   "metadata": {},
   "outputs": [
    {
     "data": {
      "image/png": "[encoded data removed]",
      "text/plain": [
       "<Figure size 432x288 with 1 Axes>"
      ]
     },
     "metadata": {
      "needs_background": "light"
     },
     "output_type": "display_data"
    }
   ],
   "source": [
    "#Histogram all of the number of times train rides leave each Berkeley stations to SF\n",
    "plt.hist(Berkeley_SF['Ori_Name'])\n",
    "plt.show();"
   ]
  },
  {
   "cell_type": "code",
   "execution_count": 43,
   "metadata": {},
   "outputs": [
    {
     "data": {
      "text/plain": [
       "Ashby (ASHB)                188\n",
       "North Berkeley (NBRK)       188\n",
       "Downtown Berkeley (DBRK)    186\n",
       "Name: Ori_Name, dtype: int64"
      ]
     },
     "execution_count": 43,
     "metadata": {},
     "output_type": "execute_result"
    }
   ],
   "source": [
    "Berkeley_SF['Ori_Name'].value_counts()"
   ]
  },
  {
   "cell_type": "code",
   "execution_count": 44,
   "metadata": {},
   "outputs": [],
   "source": [
    "#Grouping the data by Time and Throughput now and divided Throughput by the total numbers of train leaving Berkeley to SF\n",
    "Berkeley_SF = Berkeley_SF.groupby('Time')['Throughput'].sum().reset_index()\n",
    "Berkeley_SF['Throughput'] = Berkeley_SF['Throughput']/(188+188+186)"
   ]
  },
  {
   "cell_type": "code",
   "execution_count": 45,
   "metadata": {},
   "outputs": [
    {
     "data": {
      "text/html": [
       "<div>\n",
       "<style scoped>\n",
       "    .dataframe tbody tr th:only-of-type {\n",
       "        vertical-align: middle;\n",
       "    }\n",
       "\n",
       "    .dataframe tbody tr th {\n",
       "        vertical-align: top;\n",
       "    }\n",
       "\n",
       "    .dataframe thead th {\n",
       "        text-align: right;\n",
       "    }\n",
       "</style>\n",
       "<table border=\"1\" class=\"dataframe\">\n",
       "  <thead>\n",
       "    <tr style=\"text-align: right;\">\n",
       "      <th></th>\n",
       "      <th>Time</th>\n",
       "      <th>Throughput</th>\n",
       "    </tr>\n",
       "  </thead>\n",
       "  <tbody>\n",
       "    <tr>\n",
       "      <th>0</th>\n",
       "      <td>00:00:00</td>\n",
       "      <td>48.405694</td>\n",
       "    </tr>\n",
       "    <tr>\n",
       "      <th>1</th>\n",
       "      <td>01:00:00</td>\n",
       "      <td>8.946619</td>\n",
       "    </tr>\n",
       "    <tr>\n",
       "      <th>2</th>\n",
       "      <td>02:00:00</td>\n",
       "      <td>0.217082</td>\n",
       "    </tr>\n",
       "    <tr>\n",
       "      <th>3</th>\n",
       "      <td>03:00:00</td>\n",
       "      <td>0.090747</td>\n",
       "    </tr>\n",
       "    <tr>\n",
       "      <th>4</th>\n",
       "      <td>04:00:00</td>\n",
       "      <td>6.777580</td>\n",
       "    </tr>\n",
       "    <tr>\n",
       "      <th>5</th>\n",
       "      <td>05:00:00</td>\n",
       "      <td>49.024911</td>\n",
       "    </tr>\n",
       "    <tr>\n",
       "      <th>6</th>\n",
       "      <td>06:00:00</td>\n",
       "      <td>189.494662</td>\n",
       "    </tr>\n",
       "    <tr>\n",
       "      <th>7</th>\n",
       "      <td>07:00:00</td>\n",
       "      <td>552.325623</td>\n",
       "    </tr>\n",
       "    <tr>\n",
       "      <th>8</th>\n",
       "      <td>08:00:00</td>\n",
       "      <td>1191.099644</td>\n",
       "    </tr>\n",
       "    <tr>\n",
       "      <th>9</th>\n",
       "      <td>09:00:00</td>\n",
       "      <td>1192.992883</td>\n",
       "    </tr>\n",
       "    <tr>\n",
       "      <th>10</th>\n",
       "      <td>10:00:00</td>\n",
       "      <td>605.715302</td>\n",
       "    </tr>\n",
       "    <tr>\n",
       "      <th>11</th>\n",
       "      <td>11:00:00</td>\n",
       "      <td>429.072954</td>\n",
       "    </tr>\n",
       "    <tr>\n",
       "      <th>12</th>\n",
       "      <td>12:00:00</td>\n",
       "      <td>381.201068</td>\n",
       "    </tr>\n",
       "    <tr>\n",
       "      <th>13</th>\n",
       "      <td>13:00:00</td>\n",
       "      <td>336.975089</td>\n",
       "    </tr>\n",
       "    <tr>\n",
       "      <th>14</th>\n",
       "      <td>14:00:00</td>\n",
       "      <td>306.590747</td>\n",
       "    </tr>\n",
       "    <tr>\n",
       "      <th>15</th>\n",
       "      <td>15:00:00</td>\n",
       "      <td>293.049822</td>\n",
       "    </tr>\n",
       "    <tr>\n",
       "      <th>16</th>\n",
       "      <td>16:00:00</td>\n",
       "      <td>320.457295</td>\n",
       "    </tr>\n",
       "    <tr>\n",
       "      <th>17</th>\n",
       "      <td>17:00:00</td>\n",
       "      <td>471.701068</td>\n",
       "    </tr>\n",
       "    <tr>\n",
       "      <th>18</th>\n",
       "      <td>18:00:00</td>\n",
       "      <td>482.330961</td>\n",
       "    </tr>\n",
       "    <tr>\n",
       "      <th>19</th>\n",
       "      <td>19:00:00</td>\n",
       "      <td>311.345196</td>\n",
       "    </tr>\n",
       "    <tr>\n",
       "      <th>20</th>\n",
       "      <td>20:00:00</td>\n",
       "      <td>162.231317</td>\n",
       "    </tr>\n",
       "    <tr>\n",
       "      <th>21</th>\n",
       "      <td>21:00:00</td>\n",
       "      <td>141.740214</td>\n",
       "    </tr>\n",
       "    <tr>\n",
       "      <th>22</th>\n",
       "      <td>22:00:00</td>\n",
       "      <td>134.871886</td>\n",
       "    </tr>\n",
       "    <tr>\n",
       "      <th>23</th>\n",
       "      <td>23:00:00</td>\n",
       "      <td>101.633452</td>\n",
       "    </tr>\n",
       "  </tbody>\n",
       "</table>\n",
       "</div>"
      ],
      "text/plain": [
       "        Time   Throughput\n",
       "0   00:00:00    48.405694\n",
       "1   01:00:00     8.946619\n",
       "2   02:00:00     0.217082\n",
       "3   03:00:00     0.090747\n",
       "4   04:00:00     6.777580\n",
       "5   05:00:00    49.024911\n",
       "6   06:00:00   189.494662\n",
       "7   07:00:00   552.325623\n",
       "8   08:00:00  1191.099644\n",
       "9   09:00:00  1192.992883\n",
       "10  10:00:00   605.715302\n",
       "11  11:00:00   429.072954\n",
       "12  12:00:00   381.201068\n",
       "13  13:00:00   336.975089\n",
       "14  14:00:00   306.590747\n",
       "15  15:00:00   293.049822\n",
       "16  16:00:00   320.457295\n",
       "17  17:00:00   471.701068\n",
       "18  18:00:00   482.330961\n",
       "19  19:00:00   311.345196\n",
       "20  20:00:00   162.231317\n",
       "21  21:00:00   141.740214\n",
       "22  22:00:00   134.871886\n",
       "23  23:00:00   101.633452"
      ]
     },
     "execution_count": 45,
     "metadata": {},
     "output_type": "execute_result"
    }
   ],
   "source": [
    "Berkeley_SF"
   ]
  },
  {
   "cell_type": "markdown",
   "metadata": {},
   "source": [
    "To simplify the data to answer which time is best to travel from Berkeley to SF is to group the data by Time and summing up the number of throughput. This method disregards the affect of day and Station has on the number of riders by the hour. "
   ]
  },
  {
   "cell_type": "markdown",
   "metadata": {},
   "source": [
    "There are about 4 to 10 cars per train, where each car has an average of 54 seats. To be a bit more generous, we will assume that there are 10 cars on the trains from Berkeley to SF; therefore, giving us a total of 540 seats per train. With these numbers in mind, the best time to take BART from Berkeley to SF would be any time that is outside of 7am to 10am."
   ]
  },
  {
   "cell_type": "markdown",
   "metadata": {},
   "source": [
    "### Data Analytics Question #4"
   ]
  },
  {
   "cell_type": "markdown",
   "metadata": {},
   "source": [
    "What is the busiest day of the week?"
   ]
  },
  {
   "cell_type": "code",
   "execution_count": 46,
   "metadata": {
    "colab": {},
    "colab_type": "code",
    "id": "-fVu_Ii4iiU3"
   },
   "outputs": [],
   "source": [
    "import time\n",
    "import datetime\n",
    "\n",
    "#Converting Datetime into a tuple\n",
    "df['DateTime'] = df['DateTime'].apply(lambda x: datetime.datetime.strptime(str(x),'%Y-%m-%d %H:%M:%S').timetuple())"
   ]
  },
  {
   "cell_type": "code",
   "execution_count": 47,
   "metadata": {},
   "outputs": [
    {
     "data": {
      "text/html": [
       "<div>\n",
       "<style scoped>\n",
       "    .dataframe tbody tr th:only-of-type {\n",
       "        vertical-align: middle;\n",
       "    }\n",
       "\n",
       "    .dataframe tbody tr th {\n",
       "        vertical-align: top;\n",
       "    }\n",
       "\n",
       "    .dataframe thead th {\n",
       "        text-align: right;\n",
       "    }\n",
       "</style>\n",
       "<table border=\"1\" class=\"dataframe\">\n",
       "  <thead>\n",
       "    <tr style=\"text-align: right;\">\n",
       "      <th></th>\n",
       "      <th>Origin</th>\n",
       "      <th>Destination</th>\n",
       "      <th>Throughput</th>\n",
       "      <th>DateTime</th>\n",
       "      <th>Ori_Name</th>\n",
       "      <th>Ori_Latitude</th>\n",
       "      <th>Ori_Longitude</th>\n",
       "      <th>Ori_City</th>\n",
       "      <th>Dest_Name</th>\n",
       "      <th>Dest_Latitude</th>\n",
       "      <th>Dest_Longitude</th>\n",
       "      <th>Dest_ City</th>\n",
       "      <th>Date</th>\n",
       "      <th>Time</th>\n",
       "    </tr>\n",
       "  </thead>\n",
       "  <tbody>\n",
       "    <tr>\n",
       "      <th>0</th>\n",
       "      <td>12TH</td>\n",
       "      <td>12TH</td>\n",
       "      <td>1</td>\n",
       "      <td>(2016, 1, 1, 0, 0, 0, 4, 1, -1)</td>\n",
       "      <td>12th St. Oakland City Center (12TH)</td>\n",
       "      <td>-122.271450</td>\n",
       "      <td>37.803768</td>\n",
       "      <td>Oakland</td>\n",
       "      <td>12th St. Oakland City Center (12TH)</td>\n",
       "      <td>-122.271450</td>\n",
       "      <td>37.803768</td>\n",
       "      <td>Oakland</td>\n",
       "      <td>2016-01-01</td>\n",
       "      <td>00:00:00</td>\n",
       "    </tr>\n",
       "    <tr>\n",
       "      <th>1</th>\n",
       "      <td>12TH</td>\n",
       "      <td>16TH</td>\n",
       "      <td>1</td>\n",
       "      <td>(2016, 1, 1, 0, 0, 0, 4, 1, -1)</td>\n",
       "      <td>12th St. Oakland City Center (12TH)</td>\n",
       "      <td>-122.271450</td>\n",
       "      <td>37.803768</td>\n",
       "      <td>Oakland</td>\n",
       "      <td>16th St. Mission (16TH)</td>\n",
       "      <td>-122.419694</td>\n",
       "      <td>37.765062</td>\n",
       "      <td>San Francisco</td>\n",
       "      <td>2016-01-01</td>\n",
       "      <td>00:00:00</td>\n",
       "    </tr>\n",
       "    <tr>\n",
       "      <th>2</th>\n",
       "      <td>12TH</td>\n",
       "      <td>24TH</td>\n",
       "      <td>4</td>\n",
       "      <td>(2016, 1, 1, 0, 0, 0, 4, 1, -1)</td>\n",
       "      <td>12th St. Oakland City Center (12TH)</td>\n",
       "      <td>-122.271450</td>\n",
       "      <td>37.803768</td>\n",
       "      <td>Oakland</td>\n",
       "      <td>24th St. Mission (24TH)</td>\n",
       "      <td>-122.418143</td>\n",
       "      <td>37.752470</td>\n",
       "      <td>San Francisco</td>\n",
       "      <td>2016-01-01</td>\n",
       "      <td>00:00:00</td>\n",
       "    </tr>\n",
       "    <tr>\n",
       "      <th>3</th>\n",
       "      <td>12TH</td>\n",
       "      <td>ASHB</td>\n",
       "      <td>4</td>\n",
       "      <td>(2016, 1, 1, 0, 0, 0, 4, 1, -1)</td>\n",
       "      <td>12th St. Oakland City Center (12TH)</td>\n",
       "      <td>-122.271450</td>\n",
       "      <td>37.803768</td>\n",
       "      <td>Oakland</td>\n",
       "      <td>Ashby (ASHB)</td>\n",
       "      <td>-122.270062</td>\n",
       "      <td>37.852803</td>\n",
       "      <td>Berkeley</td>\n",
       "      <td>2016-01-01</td>\n",
       "      <td>00:00:00</td>\n",
       "    </tr>\n",
       "    <tr>\n",
       "      <th>4</th>\n",
       "      <td>12TH</td>\n",
       "      <td>BALB</td>\n",
       "      <td>2</td>\n",
       "      <td>(2016, 1, 1, 0, 0, 0, 4, 1, -1)</td>\n",
       "      <td>12th St. Oakland City Center (12TH)</td>\n",
       "      <td>-122.271450</td>\n",
       "      <td>37.803768</td>\n",
       "      <td>Oakland</td>\n",
       "      <td>Balboa Park (BALB)</td>\n",
       "      <td>-122.447506</td>\n",
       "      <td>37.721585</td>\n",
       "      <td>San Francisco</td>\n",
       "      <td>2016-01-01</td>\n",
       "      <td>00:00:00</td>\n",
       "    </tr>\n",
       "  </tbody>\n",
       "</table>\n",
       "</div>"
      ],
      "text/plain": [
       "  Origin Destination  Throughput                         DateTime  \\\n",
       "0   12TH        12TH           1  (2016, 1, 1, 0, 0, 0, 4, 1, -1)   \n",
       "1   12TH        16TH           1  (2016, 1, 1, 0, 0, 0, 4, 1, -1)   \n",
       "2   12TH        24TH           4  (2016, 1, 1, 0, 0, 0, 4, 1, -1)   \n",
       "3   12TH        ASHB           4  (2016, 1, 1, 0, 0, 0, 4, 1, -1)   \n",
       "4   12TH        BALB           2  (2016, 1, 1, 0, 0, 0, 4, 1, -1)   \n",
       "\n",
       "                              Ori_Name Ori_Latitude Ori_Longitude  Ori_City  \\\n",
       "0  12th St. Oakland City Center (12TH)  -122.271450     37.803768  Oakland    \n",
       "1  12th St. Oakland City Center (12TH)  -122.271450     37.803768  Oakland    \n",
       "2  12th St. Oakland City Center (12TH)  -122.271450     37.803768  Oakland    \n",
       "3  12th St. Oakland City Center (12TH)  -122.271450     37.803768  Oakland    \n",
       "4  12th St. Oakland City Center (12TH)  -122.271450     37.803768  Oakland    \n",
       "\n",
       "                             Dest_Name Dest_Latitude Dest_Longitude  \\\n",
       "0  12th St. Oakland City Center (12TH)   -122.271450      37.803768   \n",
       "1              16th St. Mission (16TH)   -122.419694      37.765062   \n",
       "2              24th St. Mission (24TH)   -122.418143      37.752470   \n",
       "3                         Ashby (ASHB)   -122.270062      37.852803   \n",
       "4                   Balboa Park (BALB)   -122.447506      37.721585   \n",
       "\n",
       "       Dest_ City        Date      Time  \n",
       "0        Oakland   2016-01-01  00:00:00  \n",
       "1  San Francisco   2016-01-01  00:00:00  \n",
       "2  San Francisco   2016-01-01  00:00:00  \n",
       "3       Berkeley   2016-01-01  00:00:00  \n",
       "4  San Francisco   2016-01-01  00:00:00  "
      ]
     },
     "execution_count": 47,
     "metadata": {},
     "output_type": "execute_result"
    }
   ],
   "source": [
    "df.head()"
   ]
  },
  {
   "cell_type": "code",
   "execution_count": 48,
   "metadata": {
    "colab": {
     "base_uri": "https://localhost:8080/",
     "height": 54
    },
    "colab_type": "code",
    "id": "mBkblvCnkgwn",
    "outputId": "6a0f647d-a5c6-4dd5-ff03-1bf5d10dba23"
   },
   "outputs": [
    {
     "data": {
      "text/plain": [
       "0    4\n",
       "dtype: int64"
      ]
     },
     "execution_count": 48,
     "metadata": {},
     "output_type": "execute_result"
    }
   ],
   "source": [
    "#Day of the week that is busiest\n",
    "df['WeekDay'] = df['DateTime'].apply(lambda x: x[6])\n",
    "df['WeekDay'].mode()"
   ]
  },
  {
   "cell_type": "markdown",
   "metadata": {},
   "source": [
    "The most busiest day of the Week is Thursday."
   ]
  },
  {
   "cell_type": "markdown",
   "metadata": {},
   "source": [
    "### Data Analytics Question #5"
   ]
  },
  {
   "cell_type": "markdown",
   "metadata": {},
   "source": [
    "How many people take the BART late at night?"
   ]
  },
  {
   "cell_type": "code",
   "execution_count": 49,
   "metadata": {},
   "outputs": [],
   "source": [
    "df['Hour'] = df['Time'].apply(lambda x: x.hour)"
   ]
  },
  {
   "cell_type": "code",
   "execution_count": 50,
   "metadata": {
    "colab": {
     "base_uri": "https://localhost:8080/",
     "height": 35
    },
    "colab_type": "code",
    "id": "iJDZbGybVuKZ",
    "outputId": "7be8b30d-33c2-4494-acc7-87c4b32ad61e"
   },
   "outputs": [
    {
     "name": "stdout",
     "output_type": "stream",
     "text": [
      "The average number of people taking the BART late at night is:  30.096275014418634\n"
     ]
    }
   ],
   "source": [
    "#DataFrame for the number of people taking the BART late at night (11pm - 3am)\n",
    "late = df.loc[(df['Hour'] <= 3) | (df['Hour'] == 23)]\n",
    "print( 'The average number of people taking the BART late at night is: ', late.groupby('Hour')['Throughput'].mean().sum())"
   ]
  },
  {
   "cell_type": "code",
   "execution_count": 51,
   "metadata": {
    "colab": {},
    "colab_type": "code",
    "id": "LcNTvTdRXtub"
   },
   "outputs": [],
   "source": [
    "#Turning DateTime into timestamp\n",
    "df['DateTime'] = df['DateTime'].apply(lambda x: time.mktime(x))"
   ]
  },
  {
   "cell_type": "markdown",
   "metadata": {},
   "source": [
    "### Data Science Question A"
   ]
  },
  {
   "cell_type": "markdown",
   "metadata": {},
   "source": [
    "Compute a straight line distance between every station."
   ]
  },
  {
   "cell_type": "code",
   "execution_count": 52,
   "metadata": {},
   "outputs": [],
   "source": [
    "#Setting the latitudes and longitudes data type form object to floats\n",
    "df['Ori_Latitude'] = df['Ori_Latitude'].astype('float')\n",
    "df['Ori_Longitude'] = df['Ori_Longitude'].astype('float')\n",
    "df['Dest_Latitude'] = df['Dest_Latitude'].astype('float')\n",
    "df['Dest_Longitude'] = df['Dest_Longitude'].astype('float')"
   ]
  },
  {
   "cell_type": "code",
   "execution_count": 53,
   "metadata": {},
   "outputs": [],
   "source": [
    "#Calculating the euclidean distances between every station\n",
    "df['Distance'] = ((df['Ori_Latitude']-df['Dest_Latitude'])**2 + (df['Ori_Longitude']-df['Dest_Longitude'])**2)**(1/2)"
   ]
  },
  {
   "cell_type": "code",
   "execution_count": 54,
   "metadata": {},
   "outputs": [
    {
     "data": {
      "text/html": [
       "<div>\n",
       "<style scoped>\n",
       "    .dataframe tbody tr th:only-of-type {\n",
       "        vertical-align: middle;\n",
       "    }\n",
       "\n",
       "    .dataframe tbody tr th {\n",
       "        vertical-align: top;\n",
       "    }\n",
       "\n",
       "    .dataframe thead th {\n",
       "        text-align: right;\n",
       "    }\n",
       "</style>\n",
       "<table border=\"1\" class=\"dataframe\">\n",
       "  <thead>\n",
       "    <tr style=\"text-align: right;\">\n",
       "      <th></th>\n",
       "      <th>Origin</th>\n",
       "      <th>Destination</th>\n",
       "      <th>Throughput</th>\n",
       "      <th>DateTime</th>\n",
       "      <th>Ori_Name</th>\n",
       "      <th>Ori_Latitude</th>\n",
       "      <th>Ori_Longitude</th>\n",
       "      <th>Ori_City</th>\n",
       "      <th>Dest_Name</th>\n",
       "      <th>Dest_Latitude</th>\n",
       "      <th>Dest_Longitude</th>\n",
       "      <th>Dest_ City</th>\n",
       "      <th>Date</th>\n",
       "      <th>Time</th>\n",
       "      <th>WeekDay</th>\n",
       "      <th>Hour</th>\n",
       "      <th>Distance</th>\n",
       "    </tr>\n",
       "  </thead>\n",
       "  <tbody>\n",
       "    <tr>\n",
       "      <th>0</th>\n",
       "      <td>12TH</td>\n",
       "      <td>12TH</td>\n",
       "      <td>1</td>\n",
       "      <td>1.451635e+09</td>\n",
       "      <td>12th St. Oakland City Center (12TH)</td>\n",
       "      <td>-122.27145</td>\n",
       "      <td>37.803768</td>\n",
       "      <td>Oakland</td>\n",
       "      <td>12th St. Oakland City Center (12TH)</td>\n",
       "      <td>-122.271450</td>\n",
       "      <td>37.803768</td>\n",
       "      <td>Oakland</td>\n",
       "      <td>2016-01-01</td>\n",
       "      <td>00:00:00</td>\n",
       "      <td>4</td>\n",
       "      <td>0</td>\n",
       "      <td>0.000000</td>\n",
       "    </tr>\n",
       "    <tr>\n",
       "      <th>1</th>\n",
       "      <td>12TH</td>\n",
       "      <td>16TH</td>\n",
       "      <td>1</td>\n",
       "      <td>1.451635e+09</td>\n",
       "      <td>12th St. Oakland City Center (12TH)</td>\n",
       "      <td>-122.27145</td>\n",
       "      <td>37.803768</td>\n",
       "      <td>Oakland</td>\n",
       "      <td>16th St. Mission (16TH)</td>\n",
       "      <td>-122.419694</td>\n",
       "      <td>37.765062</td>\n",
       "      <td>San Francisco</td>\n",
       "      <td>2016-01-01</td>\n",
       "      <td>00:00:00</td>\n",
       "      <td>4</td>\n",
       "      <td>0</td>\n",
       "      <td>0.153214</td>\n",
       "    </tr>\n",
       "    <tr>\n",
       "      <th>2</th>\n",
       "      <td>12TH</td>\n",
       "      <td>24TH</td>\n",
       "      <td>4</td>\n",
       "      <td>1.451635e+09</td>\n",
       "      <td>12th St. Oakland City Center (12TH)</td>\n",
       "      <td>-122.27145</td>\n",
       "      <td>37.803768</td>\n",
       "      <td>Oakland</td>\n",
       "      <td>24th St. Mission (24TH)</td>\n",
       "      <td>-122.418143</td>\n",
       "      <td>37.752470</td>\n",
       "      <td>San Francisco</td>\n",
       "      <td>2016-01-01</td>\n",
       "      <td>00:00:00</td>\n",
       "      <td>4</td>\n",
       "      <td>0</td>\n",
       "      <td>0.155404</td>\n",
       "    </tr>\n",
       "    <tr>\n",
       "      <th>3</th>\n",
       "      <td>12TH</td>\n",
       "      <td>ASHB</td>\n",
       "      <td>4</td>\n",
       "      <td>1.451635e+09</td>\n",
       "      <td>12th St. Oakland City Center (12TH)</td>\n",
       "      <td>-122.27145</td>\n",
       "      <td>37.803768</td>\n",
       "      <td>Oakland</td>\n",
       "      <td>Ashby (ASHB)</td>\n",
       "      <td>-122.270062</td>\n",
       "      <td>37.852803</td>\n",
       "      <td>Berkeley</td>\n",
       "      <td>2016-01-01</td>\n",
       "      <td>00:00:00</td>\n",
       "      <td>4</td>\n",
       "      <td>0</td>\n",
       "      <td>0.049055</td>\n",
       "    </tr>\n",
       "    <tr>\n",
       "      <th>4</th>\n",
       "      <td>12TH</td>\n",
       "      <td>BALB</td>\n",
       "      <td>2</td>\n",
       "      <td>1.451635e+09</td>\n",
       "      <td>12th St. Oakland City Center (12TH)</td>\n",
       "      <td>-122.27145</td>\n",
       "      <td>37.803768</td>\n",
       "      <td>Oakland</td>\n",
       "      <td>Balboa Park (BALB)</td>\n",
       "      <td>-122.447506</td>\n",
       "      <td>37.721585</td>\n",
       "      <td>San Francisco</td>\n",
       "      <td>2016-01-01</td>\n",
       "      <td>00:00:00</td>\n",
       "      <td>4</td>\n",
       "      <td>0</td>\n",
       "      <td>0.194293</td>\n",
       "    </tr>\n",
       "  </tbody>\n",
       "</table>\n",
       "</div>"
      ],
      "text/plain": [
       "  Origin Destination  Throughput      DateTime  \\\n",
       "0   12TH        12TH           1  1.451635e+09   \n",
       "1   12TH        16TH           1  1.451635e+09   \n",
       "2   12TH        24TH           4  1.451635e+09   \n",
       "3   12TH        ASHB           4  1.451635e+09   \n",
       "4   12TH        BALB           2  1.451635e+09   \n",
       "\n",
       "                              Ori_Name  Ori_Latitude  Ori_Longitude  Ori_City  \\\n",
       "0  12th St. Oakland City Center (12TH)    -122.27145      37.803768  Oakland    \n",
       "1  12th St. Oakland City Center (12TH)    -122.27145      37.803768  Oakland    \n",
       "2  12th St. Oakland City Center (12TH)    -122.27145      37.803768  Oakland    \n",
       "3  12th St. Oakland City Center (12TH)    -122.27145      37.803768  Oakland    \n",
       "4  12th St. Oakland City Center (12TH)    -122.27145      37.803768  Oakland    \n",
       "\n",
       "                             Dest_Name  Dest_Latitude  Dest_Longitude  \\\n",
       "0  12th St. Oakland City Center (12TH)    -122.271450       37.803768   \n",
       "1              16th St. Mission (16TH)    -122.419694       37.765062   \n",
       "2              24th St. Mission (24TH)    -122.418143       37.752470   \n",
       "3                         Ashby (ASHB)    -122.270062       37.852803   \n",
       "4                   Balboa Park (BALB)    -122.447506       37.721585   \n",
       "\n",
       "       Dest_ City        Date      Time  WeekDay  Hour  Distance  \n",
       "0        Oakland   2016-01-01  00:00:00        4     0  0.000000  \n",
       "1  San Francisco   2016-01-01  00:00:00        4     0  0.153214  \n",
       "2  San Francisco   2016-01-01  00:00:00        4     0  0.155404  \n",
       "3       Berkeley   2016-01-01  00:00:00        4     0  0.049055  \n",
       "4  San Francisco   2016-01-01  00:00:00        4     0  0.194293  "
      ]
     },
     "execution_count": 54,
     "metadata": {},
     "output_type": "execute_result"
    }
   ],
   "source": [
    "df.head()"
   ]
  },
  {
   "cell_type": "code",
   "execution_count": 55,
   "metadata": {},
   "outputs": [
    {
     "name": "stderr",
     "output_type": "stream",
     "text": [
      "C:\\Users\\Kimberly\\Anaconda3\\envs\\ComputerVision\\lib\\site-packages\\ipykernel_launcher.py:3: SettingWithCopyWarning: \n",
      "A value is trying to be set on a copy of a slice from a DataFrame\n",
      "\n",
      "See the caveats in the documentation: http://pandas.pydata.org/pandas-docs/stable/user_guide/indexing.html#returning-a-view-versus-a-copy\n",
      "  This is separate from the ipykernel package so we can avoid doing imports until\n"
     ]
    },
    {
     "data": {
      "text/html": [
       "<div>\n",
       "<style scoped>\n",
       "    .dataframe tbody tr th:only-of-type {\n",
       "        vertical-align: middle;\n",
       "    }\n",
       "\n",
       "    .dataframe tbody tr th {\n",
       "        vertical-align: top;\n",
       "    }\n",
       "\n",
       "    .dataframe thead th {\n",
       "        text-align: right;\n",
       "    }\n",
       "</style>\n",
       "<table border=\"1\" class=\"dataframe\">\n",
       "  <thead>\n",
       "    <tr style=\"text-align: right;\">\n",
       "      <th></th>\n",
       "      <th>Origin</th>\n",
       "      <th>Destination</th>\n",
       "      <th>Distance</th>\n",
       "    </tr>\n",
       "  </thead>\n",
       "  <tbody>\n",
       "    <tr>\n",
       "      <th>0</th>\n",
       "      <td>12TH</td>\n",
       "      <td>12TH</td>\n",
       "      <td>0.000000</td>\n",
       "    </tr>\n",
       "    <tr>\n",
       "      <th>1</th>\n",
       "      <td>12TH</td>\n",
       "      <td>16TH</td>\n",
       "      <td>0.153214</td>\n",
       "    </tr>\n",
       "    <tr>\n",
       "      <th>2</th>\n",
       "      <td>12TH</td>\n",
       "      <td>24TH</td>\n",
       "      <td>0.155404</td>\n",
       "    </tr>\n",
       "    <tr>\n",
       "      <th>3</th>\n",
       "      <td>12TH</td>\n",
       "      <td>ASHB</td>\n",
       "      <td>0.049055</td>\n",
       "    </tr>\n",
       "    <tr>\n",
       "      <th>4</th>\n",
       "      <td>12TH</td>\n",
       "      <td>BALB</td>\n",
       "      <td>0.194293</td>\n",
       "    </tr>\n",
       "    <tr>\n",
       "      <th>...</th>\n",
       "      <td>...</td>\n",
       "      <td>...</td>\n",
       "      <td>...</td>\n",
       "    </tr>\n",
       "    <tr>\n",
       "      <th>44900</th>\n",
       "      <td>WDUB</td>\n",
       "      <td>RICH</td>\n",
       "      <td>0.486539</td>\n",
       "    </tr>\n",
       "    <tr>\n",
       "      <th>53193</th>\n",
       "      <td>SSAN</td>\n",
       "      <td>OAKL</td>\n",
       "      <td>0.236891</td>\n",
       "    </tr>\n",
       "    <tr>\n",
       "      <th>58612</th>\n",
       "      <td>SSAN</td>\n",
       "      <td>CAST</td>\n",
       "      <td>0.369310</td>\n",
       "    </tr>\n",
       "    <tr>\n",
       "      <th>68471</th>\n",
       "      <td>ORIN</td>\n",
       "      <td>SBRN</td>\n",
       "      <td>0.334578</td>\n",
       "    </tr>\n",
       "    <tr>\n",
       "      <th>69229</th>\n",
       "      <td>CAST</td>\n",
       "      <td>ORIN</td>\n",
       "      <td>0.216574</td>\n",
       "    </tr>\n",
       "  </tbody>\n",
       "</table>\n",
       "<p>2025 rows × 3 columns</p>\n",
       "</div>"
      ],
      "text/plain": [
       "      Origin Destination  Distance\n",
       "0       12TH        12TH  0.000000\n",
       "1       12TH        16TH  0.153214\n",
       "2       12TH        24TH  0.155404\n",
       "3       12TH        ASHB  0.049055\n",
       "4       12TH        BALB  0.194293\n",
       "...      ...         ...       ...\n",
       "44900   WDUB        RICH  0.486539\n",
       "53193   SSAN        OAKL  0.236891\n",
       "58612   SSAN        CAST  0.369310\n",
       "68471   ORIN        SBRN  0.334578\n",
       "69229   CAST        ORIN  0.216574\n",
       "\n",
       "[2025 rows x 3 columns]"
      ]
     },
     "execution_count": 55,
     "metadata": {},
     "output_type": "execute_result"
    }
   ],
   "source": [
    "#Dataframe displaying the distances between each station\n",
    "distances = df[['Origin', 'Destination', 'Distance']]\n",
    "distances.drop_duplicates(inplace = True)\n",
    "distances"
   ]
  },
  {
   "cell_type": "code",
   "execution_count": 56,
   "metadata": {},
   "outputs": [
    {
     "data": {
      "text/plain": [
       "0"
      ]
     },
     "execution_count": 56,
     "metadata": {},
     "output_type": "execute_result"
    }
   ],
   "source": [
    "#Checking for duplicates\n",
    "df.duplicated().sum()"
   ]
  },
  {
   "cell_type": "code",
   "execution_count": 57,
   "metadata": {},
   "outputs": [
    {
     "data": {
      "text/html": [
       "<div>\n",
       "<style scoped>\n",
       "    .dataframe tbody tr th:only-of-type {\n",
       "        vertical-align: middle;\n",
       "    }\n",
       "\n",
       "    .dataframe tbody tr th {\n",
       "        vertical-align: top;\n",
       "    }\n",
       "\n",
       "    .dataframe thead th {\n",
       "        text-align: right;\n",
       "    }\n",
       "</style>\n",
       "<table border=\"1\" class=\"dataframe\">\n",
       "  <thead>\n",
       "    <tr style=\"text-align: right;\">\n",
       "      <th></th>\n",
       "      <th>Origin</th>\n",
       "      <th>Destination</th>\n",
       "      <th>Throughput</th>\n",
       "      <th>DateTime</th>\n",
       "      <th>Ori_Name</th>\n",
       "      <th>Ori_Latitude</th>\n",
       "      <th>Ori_Longitude</th>\n",
       "      <th>Ori_City</th>\n",
       "      <th>Dest_Name</th>\n",
       "      <th>Dest_Latitude</th>\n",
       "      <th>Dest_Longitude</th>\n",
       "      <th>Dest_ City</th>\n",
       "      <th>Date</th>\n",
       "      <th>Time</th>\n",
       "      <th>WeekDay</th>\n",
       "      <th>Hour</th>\n",
       "      <th>Distance</th>\n",
       "    </tr>\n",
       "  </thead>\n",
       "  <tbody>\n",
       "    <tr>\n",
       "      <th>0</th>\n",
       "      <td>12TH</td>\n",
       "      <td>12TH</td>\n",
       "      <td>1</td>\n",
       "      <td>1.451635e+09</td>\n",
       "      <td>12th St. Oakland City Center (12TH)</td>\n",
       "      <td>-122.27145</td>\n",
       "      <td>37.803768</td>\n",
       "      <td>Oakland</td>\n",
       "      <td>12th St. Oakland City Center (12TH)</td>\n",
       "      <td>-122.271450</td>\n",
       "      <td>37.803768</td>\n",
       "      <td>Oakland</td>\n",
       "      <td>2016-01-01</td>\n",
       "      <td>00:00:00</td>\n",
       "      <td>4</td>\n",
       "      <td>0</td>\n",
       "      <td>0.000000</td>\n",
       "    </tr>\n",
       "    <tr>\n",
       "      <th>1</th>\n",
       "      <td>12TH</td>\n",
       "      <td>16TH</td>\n",
       "      <td>1</td>\n",
       "      <td>1.451635e+09</td>\n",
       "      <td>12th St. Oakland City Center (12TH)</td>\n",
       "      <td>-122.27145</td>\n",
       "      <td>37.803768</td>\n",
       "      <td>Oakland</td>\n",
       "      <td>16th St. Mission (16TH)</td>\n",
       "      <td>-122.419694</td>\n",
       "      <td>37.765062</td>\n",
       "      <td>San Francisco</td>\n",
       "      <td>2016-01-01</td>\n",
       "      <td>00:00:00</td>\n",
       "      <td>4</td>\n",
       "      <td>0</td>\n",
       "      <td>0.153214</td>\n",
       "    </tr>\n",
       "    <tr>\n",
       "      <th>2</th>\n",
       "      <td>12TH</td>\n",
       "      <td>24TH</td>\n",
       "      <td>4</td>\n",
       "      <td>1.451635e+09</td>\n",
       "      <td>12th St. Oakland City Center (12TH)</td>\n",
       "      <td>-122.27145</td>\n",
       "      <td>37.803768</td>\n",
       "      <td>Oakland</td>\n",
       "      <td>24th St. Mission (24TH)</td>\n",
       "      <td>-122.418143</td>\n",
       "      <td>37.752470</td>\n",
       "      <td>San Francisco</td>\n",
       "      <td>2016-01-01</td>\n",
       "      <td>00:00:00</td>\n",
       "      <td>4</td>\n",
       "      <td>0</td>\n",
       "      <td>0.155404</td>\n",
       "    </tr>\n",
       "    <tr>\n",
       "      <th>3</th>\n",
       "      <td>12TH</td>\n",
       "      <td>ASHB</td>\n",
       "      <td>4</td>\n",
       "      <td>1.451635e+09</td>\n",
       "      <td>12th St. Oakland City Center (12TH)</td>\n",
       "      <td>-122.27145</td>\n",
       "      <td>37.803768</td>\n",
       "      <td>Oakland</td>\n",
       "      <td>Ashby (ASHB)</td>\n",
       "      <td>-122.270062</td>\n",
       "      <td>37.852803</td>\n",
       "      <td>Berkeley</td>\n",
       "      <td>2016-01-01</td>\n",
       "      <td>00:00:00</td>\n",
       "      <td>4</td>\n",
       "      <td>0</td>\n",
       "      <td>0.049055</td>\n",
       "    </tr>\n",
       "    <tr>\n",
       "      <th>4</th>\n",
       "      <td>12TH</td>\n",
       "      <td>BALB</td>\n",
       "      <td>2</td>\n",
       "      <td>1.451635e+09</td>\n",
       "      <td>12th St. Oakland City Center (12TH)</td>\n",
       "      <td>-122.27145</td>\n",
       "      <td>37.803768</td>\n",
       "      <td>Oakland</td>\n",
       "      <td>Balboa Park (BALB)</td>\n",
       "      <td>-122.447506</td>\n",
       "      <td>37.721585</td>\n",
       "      <td>San Francisco</td>\n",
       "      <td>2016-01-01</td>\n",
       "      <td>00:00:00</td>\n",
       "      <td>4</td>\n",
       "      <td>0</td>\n",
       "      <td>0.194293</td>\n",
       "    </tr>\n",
       "  </tbody>\n",
       "</table>\n",
       "</div>"
      ],
      "text/plain": [
       "  Origin Destination  Throughput      DateTime  \\\n",
       "0   12TH        12TH           1  1.451635e+09   \n",
       "1   12TH        16TH           1  1.451635e+09   \n",
       "2   12TH        24TH           4  1.451635e+09   \n",
       "3   12TH        ASHB           4  1.451635e+09   \n",
       "4   12TH        BALB           2  1.451635e+09   \n",
       "\n",
       "                              Ori_Name  Ori_Latitude  Ori_Longitude  Ori_City  \\\n",
       "0  12th St. Oakland City Center (12TH)    -122.27145      37.803768  Oakland    \n",
       "1  12th St. Oakland City Center (12TH)    -122.27145      37.803768  Oakland    \n",
       "2  12th St. Oakland City Center (12TH)    -122.27145      37.803768  Oakland    \n",
       "3  12th St. Oakland City Center (12TH)    -122.27145      37.803768  Oakland    \n",
       "4  12th St. Oakland City Center (12TH)    -122.27145      37.803768  Oakland    \n",
       "\n",
       "                             Dest_Name  Dest_Latitude  Dest_Longitude  \\\n",
       "0  12th St. Oakland City Center (12TH)    -122.271450       37.803768   \n",
       "1              16th St. Mission (16TH)    -122.419694       37.765062   \n",
       "2              24th St. Mission (24TH)    -122.418143       37.752470   \n",
       "3                         Ashby (ASHB)    -122.270062       37.852803   \n",
       "4                   Balboa Park (BALB)    -122.447506       37.721585   \n",
       "\n",
       "       Dest_ City        Date      Time  WeekDay  Hour  Distance  \n",
       "0        Oakland   2016-01-01  00:00:00        4     0  0.000000  \n",
       "1  San Francisco   2016-01-01  00:00:00        4     0  0.153214  \n",
       "2  San Francisco   2016-01-01  00:00:00        4     0  0.155404  \n",
       "3       Berkeley   2016-01-01  00:00:00        4     0  0.049055  \n",
       "4  San Francisco   2016-01-01  00:00:00        4     0  0.194293  "
      ]
     },
     "execution_count": 57,
     "metadata": {},
     "output_type": "execute_result"
    }
   ],
   "source": [
    "df.head()"
   ]
  },
  {
   "cell_type": "code",
   "execution_count": 58,
   "metadata": {
    "colab": {},
    "colab_type": "code",
    "id": "vbfkSa9Zec7v"
   },
   "outputs": [],
   "source": [
    "#Removing unnecessary attributes\n",
    "df.drop(['Dest_Name', 'Ori_Name', 'Date', 'Time', 'Ori_City', 'Dest_ City'], axis = 1, inplace = True)"
   ]
  },
  {
   "cell_type": "code",
   "execution_count": 59,
   "metadata": {},
   "outputs": [],
   "source": [
    "#Removing data, where the origins and destinations were the same station\n",
    "df = df[df['Distance'] != 0]"
   ]
  },
  {
   "cell_type": "code",
   "execution_count": 60,
   "metadata": {},
   "outputs": [],
   "source": [
    "from sklearn.preprocessing import LabelEncoder"
   ]
  },
  {
   "cell_type": "code",
   "execution_count": 61,
   "metadata": {},
   "outputs": [],
   "source": [
    "#Label the stations in Origin and Destination to numerical values\n",
    "df['Origin'] = LabelEncoder().fit_transform(df['Origin'])\n",
    "df['Destination'] = LabelEncoder().fit_transform(df['Destination'])"
   ]
  },
  {
   "cell_type": "code",
   "execution_count": 62,
   "metadata": {},
   "outputs": [
    {
     "name": "stdout",
     "output_type": "stream",
     "text": [
      "<class 'pandas.core.frame.DataFrame'>\n",
      "Int64Index: 12978027 entries, 1 to 13285191\n",
      "Data columns (total 11 columns):\n",
      "Origin            int32\n",
      "Destination       int32\n",
      "Throughput        int64\n",
      "DateTime          float64\n",
      "Ori_Latitude      float64\n",
      "Ori_Longitude     float64\n",
      "Dest_Latitude     float64\n",
      "Dest_Longitude    float64\n",
      "WeekDay           int64\n",
      "Hour              int64\n",
      "Distance          float64\n",
      "dtypes: float64(6), int32(2), int64(3)\n",
      "memory usage: 1.1 GB\n"
     ]
    }
   ],
   "source": [
    "df.info()"
   ]
  },
  {
   "cell_type": "markdown",
   "metadata": {},
   "source": [
    "## Prediction model"
   ]
  },
  {
   "cell_type": "code",
   "execution_count": 63,
   "metadata": {},
   "outputs": [],
   "source": [
    "#Splitting target from the rest of the data set\n",
    "y,x = df['Throughput'], df.drop('Throughput', axis = 1)"
   ]
  },
  {
   "cell_type": "code",
   "execution_count": 64,
   "metadata": {
    "colab": {},
    "colab_type": "code",
    "id": "uKjvjnAbqpZC"
   },
   "outputs": [],
   "source": [
    "from sklearn.model_selection import train_test_split\n",
    "from sklearn.metrics import mean_squared_error, r2_score\n",
    "import xgboost as xgb\n",
    "from sklearn.ensemble import GradientBoostingRegressor, RandomForestRegressor"
   ]
  },
  {
   "cell_type": "code",
   "execution_count": 65,
   "metadata": {
    "colab": {},
    "colab_type": "code",
    "id": "CX2-YIO6svt4"
   },
   "outputs": [],
   "source": [
    "GBR = GradientBoostingRegressor(learning_rate = 0.1, random_state = 0, n_estimators=300)\n",
    "RFR = RandomForestRegressor(n_estimators = 100, max_depth = 3, random_state = 0)\n",
    "XGB = xgb.XGBRegressor(n_estimators=100, learning_rate=0.01, max_depth = 3, random_state=0)"
   ]
  },
  {
   "cell_type": "code",
   "execution_count": 69,
   "metadata": {
    "colab": {},
    "colab_type": "code",
    "id": "WhZDOuISv1_b"
   },
   "outputs": [],
   "source": [
    "#Splitting 20% of data set for test set from the training set\n",
    "x_train_all, x_test, y_train_all, y_test = train_test_split(x, y, test_size = 0.2, random_state = 10)"
   ]
  },
  {
   "cell_type": "code",
   "execution_count": 70,
   "metadata": {},
   "outputs": [],
   "source": [
    "#Splitting 20% of the remaining training set for validation set\n",
    "x_train, x_val, y_train, y_val = train_test_split(x_train_all, y_train_all, test_size = 0.2, random_state = 42)"
   ]
  },
  {
   "cell_type": "code",
   "execution_count": 75,
   "metadata": {
    "colab": {},
    "colab_type": "code",
    "id": "gPZ4oTa0vcUL"
   },
   "outputs": [],
   "source": [
    "#Making predictions\n",
    "algorithms = [RFR, GBR, XGB]\n",
    "reg_type = ['RFR', 'GBR', 'XGB']\n",
    "\n",
    "def regressions():\n",
    "    RMSE = []\n",
    "    R2 = []\n",
    "    y_pred = []\n",
    "    \n",
    "    for i in range(len(algorithms)):\n",
    "        y_pred = (algorithms[i].fit(x_train, y_train).predict(x_val))\n",
    "        RMSE.append((mean_squared_error(y_val, y_pred))**0.5)\n",
    "        R2.append(r2_score(y_val, y_pred)) \n",
    "\n",
    "    metrics = pd.DataFrame(columns = ['RMSE', 'R2'], index = reg_type)\n",
    "    metrics['RMSE'] = RMSE\n",
    "    metrics['R2'] = R2  \n",
    "    return metrics"
   ]
  },
  {
   "cell_type": "code",
   "execution_count": 76,
   "metadata": {
    "colab": {
     "base_uri": "https://localhost:8080/",
     "height": 78
    },
    "colab_type": "code",
    "id": "VsrMPoHiwEZL",
    "outputId": "1564f6fb-b96b-4c4a-bb17-0beab95d4ca6"
   },
   "outputs": [
    {
     "name": "stderr",
     "output_type": "stream",
     "text": [
      "C:\\Users\\Kimberly\\Anaconda3\\envs\\ComputerVision\\lib\\site-packages\\xgboost\\core.py:587: FutureWarning: Series.base is deprecated and will be removed in a future version\n",
      "  if getattr(data, 'base', None) is not None and \\\n"
     ]
    },
    {
     "name": "stdout",
     "output_type": "stream",
     "text": [
      "[20:13:29] WARNING: src/objective/regression_obj.cu:152: reg:linear is now deprecated in favor of reg:squarederror.\n",
      "[20:13:29] WARNING: src/learner.cc:686: Tree method is automatically selected to be 'approx' for faster speed. To use old behavior (exact greedy algorithm on single machine), set tree_method to 'exact'.\n"
     ]
    },
    {
     "data": {
      "text/html": [
       "<div>\n",
       "<style scoped>\n",
       "    .dataframe tbody tr th:only-of-type {\n",
       "        vertical-align: middle;\n",
       "    }\n",
       "\n",
       "    .dataframe tbody tr th {\n",
       "        vertical-align: top;\n",
       "    }\n",
       "\n",
       "    .dataframe thead th {\n",
       "        text-align: right;\n",
       "    }\n",
       "</style>\n",
       "<table border=\"1\" class=\"dataframe\">\n",
       "  <thead>\n",
       "    <tr style=\"text-align: right;\">\n",
       "      <th></th>\n",
       "      <th>RMSE</th>\n",
       "      <th>R2</th>\n",
       "    </tr>\n",
       "  </thead>\n",
       "  <tbody>\n",
       "    <tr>\n",
       "      <th>RFR</th>\n",
       "      <td>30.666081</td>\n",
       "      <td>0.183219</td>\n",
       "    </tr>\n",
       "    <tr>\n",
       "      <th>GBR</th>\n",
       "      <td>23.854669</td>\n",
       "      <td>0.505762</td>\n",
       "    </tr>\n",
       "    <tr>\n",
       "      <th>XGB</th>\n",
       "      <td>31.293324</td>\n",
       "      <td>0.149464</td>\n",
       "    </tr>\n",
       "  </tbody>\n",
       "</table>\n",
       "</div>"
      ],
      "text/plain": [
       "          RMSE        R2\n",
       "RFR  30.666081  0.183219\n",
       "GBR  23.854669  0.505762\n",
       "XGB  31.293324  0.149464"
      ]
     },
     "execution_count": 76,
     "metadata": {},
     "output_type": "execute_result"
    }
   ],
   "source": [
    "regressions()"
   ]
  },
  {
   "cell_type": "code",
   "execution_count": 78,
   "metadata": {},
   "outputs": [
    {
     "data": {
      "text/plain": [
       "0.5082151393493489"
      ]
     },
     "execution_count": 78,
     "metadata": {},
     "output_type": "execute_result"
    }
   ],
   "source": [
    "#Predicting the results for test set with RMSE as the precision metric\n",
    "y_pred = GBR.predict(x_test)\n",
    "r2_score(y_test, y_pred)"
   ]
  },
  {
   "cell_type": "code",
   "execution_count": null,
   "metadata": {},
   "outputs": [],
   "source": []
  }
 ],
 "metadata": {
  "colab": {
   "collapsed_sections": [],
   "machine_shape": "hm",
   "name": "BART Project.ipynb",
   "provenance": [],
   "toc_visible": true
  },
  "kernelspec": {
   "display_name": "Python 3",
   "language": "python",
   "name": "python3"
  },
  "language_info": {
   "codemirror_mode": {
    "name": "ipython",
    "version": 3
   },
   "file_extension": ".py",
   "mimetype": "text/x-python",
   "name": "python",
   "nbconvert_exporter": "python",
   "pygments_lexer": "ipython3",
   "version": "3.7.6"
  }
 },
 "nbformat": 4,
 "nbformat_minor": 1
}
