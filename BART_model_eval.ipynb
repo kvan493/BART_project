{
  "nbformat": 4,
  "nbformat_minor": 0,
  "metadata": {
    "kernelspec": {
      "display_name": "Python 3",
      "language": "python",
      "name": "python3"
    },
    "colab": {
      "name": "BART_model_eval.ipynb",
      "provenance": [],
      "include_colab_link": true
    }
  },
  "cells": [
    {
      "cell_type": "markdown",
      "metadata": {
        "id": "view-in-github",
        "colab_type": "text"
      },
      "source": [
        "<a href=\"https://colab.research.google.com/github/kvan493/BART_project/blob/master/BART_model_eval.ipynb\" target=\"_parent\"><img src=\"https://colab.research.google.com/assets/colab-badge.svg\" alt=\"Open In Colab\"/></a>"
      ]
    },
    {
      "cell_type": "code",
      "metadata": {
        "id": "O9Avkfs2nA6y"
      },
      "source": [
        "import pickle\n",
        "import numpy as np\n",
        "import pandas as pd\n",
        "from sklearn.model_selection import train_test_split\n",
        "from sklearn.metrics import mean_squared_error, r2_score\n",
        "from sklearn.ensemble import GradientBoostingRegressor, RandomForestRegressor\n",
        "from sklearn.tree import ExtraTreeRegressor"
      ],
      "execution_count": 1,
      "outputs": []
    },
    {
      "cell_type": "code",
      "metadata": {
        "id": "2o5iitzOnA7A"
      },
      "source": [
        "infile = open('dataframe', 'rb')\n",
        "df = pickle.load(infile)\n",
        "infile.close()"
      ],
      "execution_count": 2,
      "outputs": []
    },
    {
      "cell_type": "code",
      "metadata": {
        "colab": {
          "base_uri": "https://localhost:8080/",
          "height": 198
        },
        "id": "CR03vRqmnA7B",
        "outputId": "eef1f7aa-3e4b-47c8-f912-b1628bd4dc43"
      },
      "source": [
        "df.head()"
      ],
      "execution_count": 3,
      "outputs": [
        {
          "output_type": "execute_result",
          "data": {
            "text/html": [
              "<div>\n",
              "<style scoped>\n",
              "    .dataframe tbody tr th:only-of-type {\n",
              "        vertical-align: middle;\n",
              "    }\n",
              "\n",
              "    .dataframe tbody tr th {\n",
              "        vertical-align: top;\n",
              "    }\n",
              "\n",
              "    .dataframe thead th {\n",
              "        text-align: right;\n",
              "    }\n",
              "</style>\n",
              "<table border=\"1\" class=\"dataframe\">\n",
              "  <thead>\n",
              "    <tr style=\"text-align: right;\">\n",
              "      <th></th>\n",
              "      <th>Origin</th>\n",
              "      <th>Destination</th>\n",
              "      <th>Throughput</th>\n",
              "      <th>DateTime</th>\n",
              "      <th>Ori_City</th>\n",
              "      <th>Dest_City</th>\n",
              "      <th>WeekDay</th>\n",
              "      <th>Distance</th>\n",
              "    </tr>\n",
              "  </thead>\n",
              "  <tbody>\n",
              "    <tr>\n",
              "      <th>0</th>\n",
              "      <td>0</td>\n",
              "      <td>0</td>\n",
              "      <td>1</td>\n",
              "      <td>1.451635e+09</td>\n",
              "      <td>0</td>\n",
              "      <td>0</td>\n",
              "      <td>4</td>\n",
              "      <td>0.000000</td>\n",
              "    </tr>\n",
              "    <tr>\n",
              "      <th>1</th>\n",
              "      <td>0</td>\n",
              "      <td>1</td>\n",
              "      <td>1</td>\n",
              "      <td>1.451635e+09</td>\n",
              "      <td>0</td>\n",
              "      <td>1</td>\n",
              "      <td>4</td>\n",
              "      <td>0.153214</td>\n",
              "    </tr>\n",
              "    <tr>\n",
              "      <th>2</th>\n",
              "      <td>0</td>\n",
              "      <td>3</td>\n",
              "      <td>4</td>\n",
              "      <td>1.451635e+09</td>\n",
              "      <td>0</td>\n",
              "      <td>1</td>\n",
              "      <td>4</td>\n",
              "      <td>0.155404</td>\n",
              "    </tr>\n",
              "    <tr>\n",
              "      <th>3</th>\n",
              "      <td>0</td>\n",
              "      <td>4</td>\n",
              "      <td>4</td>\n",
              "      <td>1.451635e+09</td>\n",
              "      <td>0</td>\n",
              "      <td>2</td>\n",
              "      <td>4</td>\n",
              "      <td>0.049055</td>\n",
              "    </tr>\n",
              "    <tr>\n",
              "      <th>4</th>\n",
              "      <td>0</td>\n",
              "      <td>5</td>\n",
              "      <td>2</td>\n",
              "      <td>1.451635e+09</td>\n",
              "      <td>0</td>\n",
              "      <td>1</td>\n",
              "      <td>4</td>\n",
              "      <td>0.194293</td>\n",
              "    </tr>\n",
              "  </tbody>\n",
              "</table>\n",
              "</div>"
            ],
            "text/plain": [
              "   Origin  Destination  Throughput  ...  Dest_City  WeekDay  Distance\n",
              "0       0            0           1  ...          0        4  0.000000\n",
              "1       0            1           1  ...          1        4  0.153214\n",
              "2       0            3           4  ...          1        4  0.155404\n",
              "3       0            4           4  ...          2        4  0.049055\n",
              "4       0            5           2  ...          1        4  0.194293\n",
              "\n",
              "[5 rows x 8 columns]"
            ]
          },
          "metadata": {
            "tags": []
          },
          "execution_count": 3
        }
      ]
    },
    {
      "cell_type": "code",
      "metadata": {
        "id": "4vZ4ocVonA7D"
      },
      "source": [
        "#Splitting target from the rest of the data set\n",
        "y,x = df['Throughput'], df.drop('Throughput', axis = 1)"
      ],
      "execution_count": 4,
      "outputs": []
    },
    {
      "cell_type": "code",
      "metadata": {
        "id": "GgNTAu72nA7D"
      },
      "source": [
        "#Splitting 20% of data set for test set from the training set\n",
        "#x_train_all, x_test, y_train_all, y_test = train_test_split(x, y, test_size = 0.2, random_state = 10)"
      ],
      "execution_count": 5,
      "outputs": []
    },
    {
      "cell_type": "code",
      "metadata": {
        "id": "bcc9Rv_anA7E"
      },
      "source": [
        "#Splitting 20% of the remaining training set for validation set\n",
        "x_train, x_val, y_train, y_val = train_test_split(x, y, test_size = 0.2, random_state = 42)"
      ],
      "execution_count": 6,
      "outputs": []
    },
    {
      "cell_type": "code",
      "metadata": {
        "id": "LyPkgyBUnA7F"
      },
      "source": [
        "GBR = GradientBoostingRegressor()\n",
        "RFR = RandomForestRegressor()\n",
        "ETR = ExtraTreeRegressor()"
      ],
      "execution_count": 7,
      "outputs": []
    },
    {
      "cell_type": "code",
      "metadata": {
        "id": "JJFe-X3OnA7F"
      },
      "source": [
        "#Making predictions\n",
        "algorithms = [ETR]\n",
        "reg_type = ['ETR']\n",
        "\n",
        "def regressions():\n",
        "    RMSE = []\n",
        "    R2 = []\n",
        "    y_pred = []\n",
        "    \n",
        "    for i in range(len(algorithms)):\n",
        "        y_pred = (algorithms[i].fit(x_train, y_train).predict(x_val))\n",
        "        RMSE.append((mean_squared_error(y_val, y_pred))**0.5)\n",
        "        R2.append(r2_score(y_val, y_pred)) \n",
        "\n",
        "    metrics = pd.DataFrame(columns = ['RMSE', 'R2'], index = reg_type)\n",
        "    metrics['RMSE'] = RMSE\n",
        "    metrics['R2'] = R2  \n",
        "    return metrics"
      ],
      "execution_count": 12,
      "outputs": []
    },
    {
      "cell_type": "code",
      "metadata": {
        "colab": {
          "base_uri": "https://localhost:8080/",
          "height": 78
        },
        "id": "b7IRtktNnA7G",
        "outputId": "7b8df20f-5e56-4015-b6d8-f950af3d19d3"
      },
      "source": [
        "regressions()"
      ],
      "execution_count": 13,
      "outputs": [
        {
          "output_type": "execute_result",
          "data": {
            "text/html": [
              "<div>\n",
              "<style scoped>\n",
              "    .dataframe tbody tr th:only-of-type {\n",
              "        vertical-align: middle;\n",
              "    }\n",
              "\n",
              "    .dataframe tbody tr th {\n",
              "        vertical-align: top;\n",
              "    }\n",
              "\n",
              "    .dataframe thead th {\n",
              "        text-align: right;\n",
              "    }\n",
              "</style>\n",
              "<table border=\"1\" class=\"dataframe\">\n",
              "  <thead>\n",
              "    <tr style=\"text-align: right;\">\n",
              "      <th></th>\n",
              "      <th>RMSE</th>\n",
              "      <th>R2</th>\n",
              "    </tr>\n",
              "  </thead>\n",
              "  <tbody>\n",
              "    <tr>\n",
              "      <th>ETR</th>\n",
              "      <td>23.052815</td>\n",
              "      <td>0.532883</td>\n",
              "    </tr>\n",
              "  </tbody>\n",
              "</table>\n",
              "</div>"
            ],
            "text/plain": [
              "          RMSE        R2\n",
              "ETR  23.052815  0.532883"
            ]
          },
          "metadata": {
            "tags": []
          },
          "execution_count": 13
        }
      ]
    },
    {
      "cell_type": "code",
      "metadata": {
        "id": "bsMlwouXnA7H"
      },
      "source": [
        ""
      ],
      "execution_count": 9,
      "outputs": []
    }
  ]
}